{
 "cells": [
  {
   "cell_type": "markdown",
   "id": "0",
   "metadata": {},
   "source": [
    "# Test 1 Study Guide"
   ]
  },
  {
   "cell_type": "markdown",
   "id": "1",
   "metadata": {},
   "source": [
    "This was created to help you prepare for Test 1. I attempted to make it comprehensive but some areas might have been overlooked. There is some repetition. Use it along with the original slides / notebooks, your own notes, and the homework problems.\n",
    "\n",
    "This material focuses on the concepts / definitions, principles, and methods described. When it comes to knowing how to write solutions in Python, this guide is not a substitute for working problems. Practice you must, but that practice should be guided by an understanding of the fundamentals.\n",
    "\n",
    "For many of these questions you should also ask yourself \"Why?\" as a follow-up. This helps ensure you are learning concepts not memorizing information. The former is durable and useful, the latter might help you answer a test question correctly, but does not support long-term understanding.\n",
    "\n",
    "This is provided as a Jupyter Notebook to make it easy to add your own notes and/or code cells to test and/or demonstrate the topics covered."
   ]
  },
  {
   "cell_type": "markdown",
   "id": "2",
   "metadata": {},
   "source": [
    "## Week 1 - Fundamentals, Operators and Expressions"
   ]
  },
  {
   "cell_type": "markdown",
   "id": "3",
   "metadata": {},
   "source": [
    "### Fundamentals"
   ]
  },
  {
   "cell_type": "markdown",
   "id": "4",
   "metadata": {},
   "source": [
    "- Why is it hard to learn to program?\n",
    "- What is computational thinking?\n",
    "- What is an algorithm?\n",
    "- What are the four pillars?"
   ]
  },
  {
   "cell_type": "markdown",
   "id": "5",
   "metadata": {},
   "source": [
    "### Operators and Expressions"
   ]
  },
  {
   "cell_type": "markdown",
   "id": "6",
   "metadata": {},
   "source": [
    "#### Numeric Types and Arithmetic"
   ]
  },
  {
   "cell_type": "markdown",
   "id": "7",
   "metadata": {},
   "source": [
    "- Integer (`int`) and floating point (`float`) types\n",
    "- What differentiates an integer value from a floating point value in Python?\n",
    "- What are integers used for vs floating point values?\n",
    "- What is the underbar (i.e., `_`) character used for in numeric values?\n",
    "- Arithmetic operators: `+`, `-`, `*`, `/`, `**`, `//`, `%`\n",
    "- Order of operations\n",
    "- Arithmetic functions: `round()`, `abs()`\n",
    "- Function syntax\n",
    "- What is an expression?"
   ]
  },
  {
   "cell_type": "markdown",
   "id": "8",
   "metadata": {},
   "source": [
    "#### Strings"
   ]
  },
  {
   "cell_type": "markdown",
   "id": "9",
   "metadata": {},
   "source": [
    "- String (`str`) types\n",
    "- What designates a string in Python?\n",
    "- How would you define `Python's` or `he said \"Hello\"` as Python strings?\n",
    "- String operators: `+`, `*`\n",
    "- The `len()` function"
   ]
  },
  {
   "cell_type": "markdown",
   "id": "10",
   "metadata": {},
   "source": [
    "#### Values, and Types"
   ]
  },
  {
   "cell_type": "markdown",
   "id": "11",
   "metadata": {},
   "source": [
    "- Type conversion: `int()`, `float()`, `str()`\n",
    "- The `type()` function\n",
    "- What does type determine in Python?"
   ]
  },
  {
   "cell_type": "markdown",
   "id": "12",
   "metadata": {},
   "source": [
    "## Week 2 - Variables, Statements, and Strings"
   ]
  },
  {
   "cell_type": "markdown",
   "id": "13",
   "metadata": {},
   "source": [
    "### Variables"
   ]
  },
  {
   "cell_type": "markdown",
   "id": "14",
   "metadata": {},
   "source": [
    "- What is a variable?\n",
    "- Assignment: `x = 42`\n",
    "- What are the rules for variable names?\n",
    "- What style of formatting do we prefer for variable names?\n",
    "- What are best practices for naming variables?\n",
    "- What is a keyword and what are some examples in Python?"
   ]
  },
  {
   "cell_type": "markdown",
   "id": "15",
   "metadata": {},
   "source": [
    "### Statements"
   ]
  },
  {
   "cell_type": "markdown",
   "id": "16",
   "metadata": {},
   "source": [
    "- What is a statement?\n",
    "- Differentiate expressions from statements\n",
    "- What is computing the value of an expression is called?\n",
    "- What is running a statement called?\n",
    "- How do variables, functions, expressions, and statements relate?\n",
    "- Are you confident in your understanding of the progression: Programs → Statements → Expressions → Values, Variables, Operators, Functions?\n",
    "- Everything in Python is a __________?\n",
    "- What three properties define everything in Python?\n",
    "- Are you confident in your understanding of the Python Object Hierarchy as presented on slide 6 of lecture 02b?\n",
    "- What are the three basic instruction types used in all programming?\n",
    "- What are the 5 steps of the suggested computational thinking approach?\n",
    "- What is pseudocode?\n",
    "- Are you comfortable writing pseudocode for problems like we've worked in class / on homework?"
   ]
  },
  {
   "cell_type": "markdown",
   "id": "17",
   "metadata": {},
   "source": [
    "### `import`, `print`, `input`, etc."
   ]
  },
  {
   "cell_type": "markdown",
   "id": "18",
   "metadata": {},
   "source": [
    "#### `import`\n",
    "\n",
    "- What is a module?\n",
    "- How do you load the modules included with Python?\n",
    "- How do you access the functions and values in a loaded module?\n",
    "- What module(s) which of their functions / values have we used?\n",
    "\n",
    "#### `print`\n",
    "\n",
    "- What does the `print()` function do?\n",
    "- How many arguments does `print()` accept? How are they specified?\n",
    "- How does `print()` combine multiple arguments in the output?\n",
    "- What controls the character that print uses to separate arguments in the output?\n",
    "- By default, what does print add to the end of every line of output?\n",
    "- What controls the character that print uses at the end of every line of output?\n",
    "- What is whitespace and how is it represented in Python code?\n",
    "\n",
    "#### `input`\n",
    "\n",
    "- What Python function is used to get information from the user?\n",
    "- How do you display a message before getting the user `input`? \n",
    "- What type of object does `input` return?\n",
    "- How do you convert that result into a numeric value for subsequent processing?\n",
    "\n",
    "#### etc.\n",
    "\n",
    "- What does the `#` symbol do in Python?\n",
    "- What three classes of bugs have we identified and how do they differ?\n",
    "- What is Python? (see slide 3 of lecture 02b)\n",
    "- What Python function gives you information about the commands and their syntax?\n",
    "- What are compound operators (e.g. `+=`) shorthand for?"
   ]
  },
  {
   "cell_type": "markdown",
   "id": "19",
   "metadata": {},
   "source": [
    "### Strings"
   ]
  },
  {
   "cell_type": "markdown",
   "id": "20",
   "metadata": {},
   "source": [
    "- What is a string? What can it contain?\n",
    "- What is a sequence?\n",
    "- What operations do sequences support?\n",
    "- What is indexing and what is the syntax for performing it?\n",
    "- What is the index of the first charater in a string?\n",
    "- What is the index of the last character in a string?\n",
    "- What is slicing and what is the syntax for performing it?\n",
    "- What are the default values for start, stop, and step when slicing?\n",
    "- How are negative values for start, stop, and step interpreted?\n",
    "- How do I get the first $n$ characters, or last $m$ characters of a string?\n",
    "- What does the slicing operation return?\n",
    "- What is mutability?\n",
    "- Is a string mutable?\n",
    "- What is a method and what is the general syntax for using them?\n",
    "- What are common string methods? What do they do and how are they used?"
   ]
  },
  {
   "cell_type": "markdown",
   "id": "21",
   "metadata": {},
   "source": [
    "## Week 3 - Lists and Conditionals"
   ]
  },
  {
   "cell_type": "markdown",
   "id": "22",
   "metadata": {},
   "source": [
    "### Lists"
   ]
  },
  {
   "cell_type": "markdown",
   "id": "23",
   "metadata": {},
   "source": [
    "- How are lists and strings similar?\n",
    "- How are they different?\n",
    "- What are the values in a list called?\n",
    "- What syntax is used to create a list?\n",
    "- How do you create an empty list?\n",
    "- Can a list contain lists? What is it called?\n",
    "- How does indexing work for lists?\n",
    "- How would you extract the element `a` from the list `[1, 2, ['a', 'b']]`\n",
    "- How does slicing work for lists?\n",
    "- What do the `+` and `*` operators do with lists?\n",
    "- How do you use `len()`, `sum()`, `min()`, and `max()` with lists?\n",
    "- Lists can be changed after creation. What is this called?\n",
    "- What does the `in` operator test?\n",
    "- What are common list methods? What do they do and how are they used?\n",
    "- How do `split` and `join` allow you to move between lists and strings?"
   ]
  },
  {
   "cell_type": "markdown",
   "id": "24",
   "metadata": {},
   "source": [
    "### Boolean Expressions"
   ]
  },
  {
   "cell_type": "markdown",
   "id": "25",
   "metadata": {},
   "source": [
    "- What is a Boolean expression?\n",
    "- What relational operators does Python support?\n",
    "- What is the `bool` type and what values can it have?\n",
    "- How are comparisons between integers and floating point values evaluated?\n",
    "- How are comparisons between sequences, including strings and lists, evaluated?\n",
    "- What do you need to be careful about when using relational operators with floating point values?\n",
    "- What three logical operators does Python support?\n",
    "- Can you produce a truth table (results of all logical operators for value of True and False)?\n",
    "- What is the simplest way to identify an even / odd value in Python?"
   ]
  },
  {
   "cell_type": "markdown",
   "id": "26",
   "metadata": {},
   "source": [
    "### Conditionals"
   ]
  },
  {
   "cell_type": "markdown",
   "id": "27",
   "metadata": {},
   "source": [
    "- Which of the four pillars do conditionals correspond with?\n",
    "- What is the minimal syntax for an `if` statement in Python?\n",
    "- What are the components of a compound statement?\n",
    "- What are the optional elements of an `if` statement?\n",
    "- Do you understand how to construct various conditionals to implement necessary logic?\n",
    "- Can you \"nest\" conditionals? If so, are there any restrictions on it?"
   ]
  },
  {
   "cell_type": "markdown",
   "id": "28",
   "metadata": {},
   "source": [
    "## Week 4 - Looping"
   ]
  },
  {
   "cell_type": "markdown",
   "id": "29",
   "metadata": {},
   "source": [
    "### General"
   ]
  },
  {
   "cell_type": "markdown",
   "id": "30",
   "metadata": {},
   "source": [
    "- Which of the four pillars does looping (aka iteration) correspond with?\n",
    "- What is the difference between definite and indefinite loops?\n",
    "- What is the purpose of `break` in a loop?\n",
    "- What is the purpose of `continue` in a loop?\n",
    "- What is the next line run after a `break` is encountered in a loop?\n",
    "- What is the next line run after a `continue` is encountered in a loop?\n",
    "- How often should `break` / `continue` be used?\n",
    "- What kind of loop should you use to process each element of a container?\n",
    "- What kind of loop should you use to do a known number of iterations?\n",
    "- What kind of loop should you use when you don't know the number of iterations required?\n",
    "- Are you able to apply the three previous answers to select the appropriate combination of `while` / `for` and iterable, `range`, or conditional to implement a suitable solution?"
   ]
  },
  {
   "cell_type": "markdown",
   "id": "31",
   "metadata": {},
   "source": [
    "### `while` loops"
   ]
  },
  {
   "cell_type": "markdown",
   "id": "32",
   "metadata": {},
   "source": [
    "- Is `while` best suited for definite or indefinite loops?\n",
    "- What is the syntax and required elements of a `while` loop?\n",
    "- What two responsibilities does a programmer have when creating a `while` loop?\n",
    "- What happens if the programmer fails to address each of those responsibilities?"
   ]
  },
  {
   "cell_type": "markdown",
   "id": "33",
   "metadata": {},
   "source": [
    "### `for` loops"
   ]
  },
  {
   "cell_type": "markdown",
   "id": "34",
   "metadata": {},
   "source": [
    "- Is `for` best suited for definite or indefinite loops?\n",
    "- What is the syntax and required elements of a `for` loop?\n",
    "- How is the loop variable updated with each iteration of a `for` loop?\n",
    "- How is `range` used with `for`?\n",
    "- What is the syntax for `range` and what parameter(s) are required?"
   ]
  },
  {
   "cell_type": "markdown",
   "id": "35",
   "metadata": {},
   "source": [
    "### Loop Patterns"
   ]
  },
  {
   "cell_type": "markdown",
   "id": "36",
   "metadata": {},
   "source": [
    "- Can you implement the loop counter pattern?\n",
    "- Can you implement the loop sum pattern?\n",
    "- Can you implement the loop max / min pattern?\n",
    "- Can you combine those patterns to implement other functionality?\n",
    "- Can you implement the loop sequence creation pattern for strings and lists?\n",
    "- Can you implement the loop sequence modification pattern for strings and lists?\n",
    "- How do the loop sequence creation and modification patterns differ for strings and lists in order to account for mutability?\n",
    "- Can you implement the `while True ... break` pattern to process values (e.g. user input) until a specific condition occurs?"
   ]
  }
 ],
 "metadata": {
  "kernelspec": {
   "display_name": "INSY3010-PySQL",
   "language": "python",
   "name": "insy3010-pysql"
  },
  "language_info": {
   "codemirror_mode": {
    "name": "ipython",
    "version": 3
   },
   "file_extension": ".py",
   "mimetype": "text/x-python",
   "name": "python",
   "nbconvert_exporter": "python",
   "pygments_lexer": "ipython3",
   "version": "3.13.5"
  }
 },
 "nbformat": 4,
 "nbformat_minor": 5
}
