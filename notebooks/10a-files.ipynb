{
 "cells": [
  {
   "cell_type": "markdown",
   "id": "0",
   "metadata": {},
   "source": [
    "# Working with Files"
   ]
  },
  {
   "cell_type": "markdown",
   "id": "1",
   "metadata": {},
   "source": [
    "This notebook introduces file handling in Python.\n",
    "\n",
    "You will need to run the following cell to copy the necessary files into a local data directory:"
   ]
  },
  {
   "cell_type": "code",
   "execution_count": null,
   "id": "2",
   "metadata": {},
   "outputs": [],
   "source": [
    "# copy all data files from the 3010 repo\n",
    "import urllib.request\n",
    "import json\n",
    "from pathlib import Path\n",
    "\n",
    "# Config\n",
    "owner = \"olearydj\"\n",
    "repo = \"INSY3010\"\n",
    "branch = \"main\"\n",
    "folder = \"notebooks/data\"\n",
    "destination = \"data\"\n",
    "\n",
    "# Get list of files from GitHub API\n",
    "api_url = f\"https://api.github.com/repos/{owner}/{repo}/contents/{folder}?ref={branch}\"\n",
    "response = urllib.request.urlopen(api_url)\n",
    "files = json.loads(response.read())\n",
    "\n",
    "# Download each file\n",
    "Path(destination).mkdir(exist_ok=True)\n",
    "for file in files:\n",
    "    if file['type'] == 'file':  # Skip directories\n",
    "        print(f\"Downloading {file['name']}...\")\n",
    "        urllib.request.urlretrieve(file['download_url'], f\"{destination}/{file['name']}\")\n",
    "        print(f\"✓ {file['name']}\")"
   ]
  },
  {
   "cell_type": "markdown",
   "id": "3",
   "metadata": {},
   "source": [
    "## Reading Files\n",
    "\n",
    "So far, input has come from the keyboard via `input()`, but we'll often want to read data in from a file. There are two main types of files:\n",
    "\n",
    "- text files: human readable (txt, csv, html, json, log, etc.)\n",
    "- binary files: not human readable (exe, zip, jpg, etc.)\n",
    "\n",
    "Text files range from completely unstructured to very structured. Base  Python includes tools suitable for both. We will cover plain text (e.g. TXT) and CSV formats. The methods we describe can be applied to any non-binary format, though specific packages are available for most structured formats (e.g. JSON)."
   ]
  },
  {
   "cell_type": "markdown",
   "id": "4",
   "metadata": {},
   "source": [
    "### Plain Text Formats\n",
    "\n",
    "The general steps are to open the file, read from it, and close the file. You may choose to process data while reading from it, or after closing the file."
   ]
  },
  {
   "cell_type": "markdown",
   "id": "5",
   "metadata": {},
   "source": [
    "### Open, Read, and Close\n",
    "\n",
    "To open a file, use the aptly named `open` function. `open` takes a single parameter, the file name as a string. The file name may include a relative or absolute path. If not included, the file must be in the same directory as the `.py` file. Open returns a *file object* that is used to \"handle\" the data."
   ]
  },
  {
   "cell_type": "code",
   "execution_count": null,
   "id": "6",
   "metadata": {},
   "outputs": [],
   "source": [
    "file_name = './data/the_file.txt'\n",
    "file_handle = open(file_name)\n",
    "print(file_handle)"
   ]
  },
  {
   "cell_type": "markdown",
   "id": "7",
   "metadata": {},
   "source": [
    "Here, `file_handle` is the name of the object used to manipulate `the_file.txt`. File objects like `file_handle` have several methods, including:\n",
    "\n",
    "- `.read()` - returns the full file contents as a single string\n",
    "- `.readlines()` - returns a list of strings, one for each line in the file\n",
    "- `.readline()` - returns a single line at a time\n",
    "- `.close()` - closes the file object\n",
    "\n",
    "In this context, a line is a string of text ending with a newline (`\\n`) character.\n",
    "\n",
    "The following code reads the data associated with the file and closes the handle before printing the contents."
   ]
  },
  {
   "cell_type": "code",
   "execution_count": null,
   "id": "8",
   "metadata": {},
   "outputs": [],
   "source": [
    "contents = file_handle.read()\n",
    "file_handle.close()\n",
    "print(contents)"
   ]
  },
  {
   "cell_type": "markdown",
   "id": "9",
   "metadata": {},
   "source": [
    "### Contents as a List of Strings\n",
    "\n",
    "It is often useful to read in the content as a list of strings, where each string represents a line in the file. This is accomplished with the `readlines` method."
   ]
  },
  {
   "cell_type": "code",
   "execution_count": null,
   "id": "10",
   "metadata": {},
   "outputs": [],
   "source": [
    "file_name = './data/the_file.txt'\n",
    "file_handle = open(file_name)\n",
    "\n",
    "lines = file_handle.readlines()\n",
    "file_handle.close()\n",
    "\n",
    "print(lines)"
   ]
  },
  {
   "cell_type": "markdown",
   "id": "11",
   "metadata": {},
   "source": [
    "This provides direct access to individual lines via indexing or groups via slicing."
   ]
  },
  {
   "cell_type": "code",
   "execution_count": null,
   "id": "12",
   "metadata": {},
   "outputs": [],
   "source": [
    "# first line\n",
    "print(lines[0])\n",
    "\n",
    "# list of all lines, in reverse order\n",
    "print(lines[::-1])"
   ]
  },
  {
   "cell_type": "markdown",
   "id": "13",
   "metadata": {},
   "source": [
    "### One Line at a Time\n",
    "\n",
    "Alternatively, you can read lines one at a time.\n",
    "\n",
    "This is typically used when you want to process each line as it is read, and avoid loading the whole file first. Why might you want to do that?"
   ]
  },
  {
   "cell_type": "code",
   "execution_count": null,
   "id": "14",
   "metadata": {},
   "outputs": [],
   "source": [
    "file_name = './data/the_file.txt'\n",
    "file_handle = open(file_name)\n",
    "file_handle.readline()"
   ]
  },
  {
   "cell_type": "markdown",
   "id": "15",
   "metadata": {},
   "source": [
    "Note the trailing newline on this output. We've not used `print`, so the cell output is simply the last value **returned** by its contents, a string (denoted by the single quotes), including the trailing newline character.\n",
    "\n",
    "We haven't closed the file, so more readline operations can be performed:"
   ]
  },
  {
   "cell_type": "code",
   "execution_count": null,
   "id": "16",
   "metadata": {},
   "outputs": [],
   "source": [
    "file_handle.readline()"
   ]
  },
  {
   "cell_type": "code",
   "execution_count": null,
   "id": "17",
   "metadata": {},
   "outputs": [],
   "source": [
    "file_handle.readline()"
   ]
  },
  {
   "cell_type": "markdown",
   "id": "18",
   "metadata": {},
   "source": [
    "Once we reach the end of a file, `readline` will always return an empty string."
   ]
  },
  {
   "cell_type": "markdown",
   "id": "19",
   "metadata": {},
   "source": [
    "### Looping through Lines\n",
    "\n",
    "Reading line by line is typically done in a loop. We can use the empty string returned by `readline` at the end of a file to trigger the end of a `while` loop."
   ]
  },
  {
   "cell_type": "code",
   "execution_count": null,
   "id": "20",
   "metadata": {},
   "outputs": [],
   "source": [
    "# close previous handle\n",
    "file_handle.close()\n",
    "\n",
    "file_name = './data/the_file.txt'\n",
    "file_handle = open(file_name)\n",
    "\n",
    "# loop through all lines\n",
    "while True:\n",
    "    line = file_handle.readline()\n",
    "    if line == '':\n",
    "        break\n",
    "    print(line)\n",
    "\n",
    "# close it again\n",
    "file_handle.close()"
   ]
  },
  {
   "cell_type": "markdown",
   "id": "21",
   "metadata": {},
   "source": [
    "Note the blank line introduced by this approach. Where does it come from? How would you correct for it?"
   ]
  },
  {
   "cell_type": "markdown",
   "id": "22",
   "metadata": {},
   "source": [
    "However, file handle objects are iterable, so it is more common to use a `for` loop. This approach avoids the need for an explicit `readline`, making it simple and easy to read."
   ]
  },
  {
   "cell_type": "code",
   "execution_count": null,
   "id": "23",
   "metadata": {},
   "outputs": [],
   "source": [
    "file_name = './data/the_file.txt'\n",
    "file_handle = open(file_name)\n",
    "\n",
    "for line in file_handle:\n",
    "    print(line, end='')\n",
    "\n",
    "file_handle.close()"
   ]
  },
  {
   "cell_type": "markdown",
   "id": "24",
   "metadata": {},
   "source": [
    "### Exercise - Word Counts\n",
    "\n",
    "Write a function `count_words` that takes a filename and returns a dictionary of all the words that appear in the file (keys) and the number of times each appears in it (values)."
   ]
  },
  {
   "cell_type": "code",
   "execution_count": null,
   "id": "25",
   "metadata": {},
   "outputs": [],
   "source": [
    "# have at it\n"
   ]
  },
  {
   "cell_type": "markdown",
   "id": "26",
   "metadata": {},
   "source": [
    "Test it with the following cell:"
   ]
  },
  {
   "cell_type": "code",
   "execution_count": null,
   "id": "27",
   "metadata": {},
   "outputs": [],
   "source": [
    "file_name = './data/auburn_creed.txt'\n",
    "count_words(file_name)"
   ]
  },
  {
   "cell_type": "markdown",
   "id": "28",
   "metadata": {},
   "source": [
    "#### Solution"
   ]
  },
  {
   "cell_type": "code",
   "execution_count": null,
   "id": "29",
   "metadata": {},
   "outputs": [],
   "source": [
    "def count_words(fn):\n",
    "    fh = open(fn)\n",
    "    d = {}\n",
    "    for line in fh:\n",
    "        for word in line.split():\n",
    "            if word in d:\n",
    "                d[word] += 1\n",
    "            else:\n",
    "                d[word] = 1\n",
    "    return d"
   ]
  },
  {
   "cell_type": "markdown",
   "id": "30",
   "metadata": {},
   "source": [
    "How would you modify this code to ignore \"stop words\" (commonly used words that convey little meaning, e.g. “the”, “a”, “an”, or “in”) and eliminate punctuation at the end of words?"
   ]
  },
  {
   "cell_type": "markdown",
   "id": "31",
   "metadata": {},
   "source": [
    "## Discussion\n",
    "\n",
    "- Structure in text files varies\n",
    "  - Impacts how you process resulting data\n",
    "  - Line breaks can be used\n",
    "    - to separate lines or paragraphs\n",
    "    - inconsistently\n",
    "    - not at all\n",
    "  - Tools exist to help with this, e.g. `textwrap.wrap()`\n",
    "- Interacting with file systems\n",
    "  - Specify **path** or keep files in same directory as `.py`\n",
    "  - Path names are different between Windows and MacOS / Linux\n",
    "    - Windows: `c:\\dev\\insy3010`\n",
    "    - MacOS / Linux: `~/dev/insy3010`\n",
    "  - To write Python that works in both, use the `path` library"
   ]
  },
  {
   "cell_type": "markdown",
   "id": "32",
   "metadata": {},
   "source": [
    "## Context Managers\n",
    "\n",
    "In Python, a **context manager** can be used to handle *setup and teardown* operations associated with a task. When working with files, a context manager will automatically close the handle when access is complete. This is accomplished by the `with ... as` syntax."
   ]
  },
  {
   "cell_type": "code",
   "execution_count": null,
   "id": "33",
   "metadata": {},
   "outputs": [],
   "source": [
    "file_name = './data/the_file.txt'\n",
    "\n",
    "with open(file_name) as file_handle:\n",
    "    lines = file_handle.readlines()"
   ]
  },
  {
   "cell_type": "code",
   "execution_count": null,
   "id": "34",
   "metadata": {},
   "outputs": [],
   "source": [
    "for idx, line in enumerate(lines):\n",
    "    print(f'{idx:02d}: {line.strip()}')"
   ]
  },
  {
   "cell_type": "markdown",
   "id": "35",
   "metadata": {},
   "source": [
    "Confirm that the file is automatically closed:"
   ]
  },
  {
   "cell_type": "code",
   "execution_count": null,
   "id": "36",
   "metadata": {},
   "outputs": [],
   "source": [
    "# no close required\n",
    "line = file_handle.readline()"
   ]
  },
  {
   "cell_type": "markdown",
   "id": "37",
   "metadata": {},
   "source": [
    "`enumerate` in the code above wraps any iterable and returns a tuple of `index, value` for each iteration:"
   ]
  },
  {
   "cell_type": "code",
   "execution_count": null,
   "id": "38",
   "metadata": {},
   "outputs": [],
   "source": [
    "lst = list('abcdefg')\n",
    "\n",
    "for idx, val in enumerate(lst):\n",
    "    print(f\"{idx}: {val}\")"
   ]
  },
  {
   "cell_type": "markdown",
   "id": "39",
   "metadata": {},
   "source": [
    "It is good practice to always use `with` when reading files.\n",
    "\n",
    "Context managers are available in a variety of contexts, including managing database connections, e.g.:\n",
    "\n",
    "```python\n",
    "with database.connect() as connection:\n",
    "    cursor = connection.cursor()\n",
    "    cursor.execute(\"SELECT * FROM users\")\n",
    "```"
   ]
  },
  {
   "cell_type": "markdown",
   "id": "40",
   "metadata": {},
   "source": [
    "## Error Handling"
   ]
  },
  {
   "cell_type": "markdown",
   "id": "41",
   "metadata": {},
   "source": [
    "It is the programmer's responsibility to prevent and/or handle all errors that may occur. When working with files this is particuarly important to avoid large scale data loss or corruption.\n",
    "\n",
    "In some cases the most effective way to do this is to let them happen and \"catch\" them.\n",
    "\n",
    "Contrasting approaches:\n",
    "\n",
    "- anticipate and correct errors (look before you leap, lbyl)\n",
    "- accept they may happen and catch them (ask forgiveness not permission, afnp)\n",
    "\n",
    "Here is an example of the former:"
   ]
  },
  {
   "cell_type": "code",
   "execution_count": null,
   "id": "42",
   "metadata": {},
   "outputs": [],
   "source": [
    "# Check if the input is valid BEFORE trying to convert it\n",
    "def lbyl_approach(user_input):\n",
    "    '''check if input is numeric before converting, warn if not'''\n",
    "    if user_input.isdigit() or (user_input.startswith('-') and user_input[1:].isdigit()):\n",
    "        number = int(user_input)\n",
    "        print(f\"LBYL: Successfully converted '{user_input}' to {number}\")\n",
    "        return number\n",
    "    else:\n",
    "        print(f\"LBYL: '{user_input}' is not a valid integer\")\n",
    "        return None\n",
    "\n",
    "test_inputs = [\"42\", \"-17\", \"abc\", \"12.5\", \"  \"]\n",
    "\n",
    "print(\"=== LBYL Approach ===\")\n",
    "for inp in test_inputs:\n",
    "    lbyl_approach(inp)"
   ]
  },
  {
   "cell_type": "markdown",
   "id": "43",
   "metadata": {},
   "source": [
    "Works but relatively complex and fragile.\n",
    "\n",
    "To implement the second option, Python provides the `try ... except` mechanism:\n",
    "\n",
    "```python\n",
    "try:\n",
    "    # if any error occurs in this code block...\n",
    "except:\n",
    "    # this code runs\n",
    "```\n",
    "\n",
    "Here is the same problem implemented with try / except:"
   ]
  },
  {
   "cell_type": "code",
   "execution_count": null,
   "id": "44",
   "metadata": {},
   "outputs": [],
   "source": [
    "# Try to convert it and handle the exception if it fails\n",
    "def afnp_approach(user_input):\n",
    "    '''try to convert and warn if it fails'''\n",
    "    try:\n",
    "        number = int(user_input)\n",
    "        print(f\"AFNP: Successfully converted '{user_input}' to {number}\")\n",
    "        return number\n",
    "    except ValueError:\n",
    "        print(f\"AFNP: '{user_input}' is not a valid integer\")\n",
    "        return None\n",
    "\n",
    "\n",
    "test_inputs = [\"42\", \"-17\", \"abc\", \"12.5\", \"  \"]\n",
    "\n",
    "print(\"\\n=== AFNP Approach ===\")\n",
    "for inp in test_inputs:\n",
    "    afnp_approach(inp)\n"
   ]
  },
  {
   "attachments": {},
   "cell_type": "markdown",
   "id": "45",
   "metadata": {},
   "source": [
    "This is a simple and straightforward approach that is very robust.\n",
    "\n",
    "Try / except can be extended to process different error types differently, for example, the success of the `open` statement depends on the existence of the specified file, among other things. The following code sample uses a specific except block to catch `FileNotFoundErrors` and another to catch anything else that might go wrong: \n",
    "\n",
    "\n",
    "```python\n",
    "try:\n",
    "    with open('missing.txt') as f:\n",
    "        ...  # do stuff with f\n",
    "except FileNotFoundError:\n",
    "    print(\"File not found!\")\n",
    "    # handle this gracefully - get different filename?\n",
    "except:\n",
    "    # handle any other error\n",
    "    print(\"Other error in file open\")\n",
    "    raise  # allows the error to crash the program\n",
    "```"
   ]
  },
  {
   "cell_type": "markdown",
   "id": "46",
   "metadata": {},
   "source": [
    "## Writing Files\n",
    "\n",
    "Data can be written to an open file using the `write` method, which writes strings. But the file handle must have write permissions, which are set when it is created.\n",
    "\n",
    "```text\n",
    ">>> help(open)\n",
    "\n",
    "Help on function open in module _io:\n",
    "\n",
    "open(file, mode='r', buffering=-1, encoding=None, errors=None, newline=None, closefd=True, opener=None)\n",
    "    Open file and return a stream.  Raise OSError upon failure.\n",
    "```\n",
    "\n",
    "A variety of modes exist, but we will focus on these:\n",
    "\n",
    "- mode 'r' is the default, allows read only\n",
    "- mode 'w' gives write permissions, will create a new file or **overwrite** existing\n",
    "- mode 'a' opens for appending, will create a new file or add to an existing one\n",
    "\n",
    "The general steps are to open the file in the appropriate mode, write to the file, and close it. You can either prepare the data to write before those steps or as part of the write process."
   ]
  },
  {
   "cell_type": "code",
   "execution_count": null,
   "id": "47",
   "metadata": {},
   "outputs": [],
   "source": [
    "with open(\"./data/write_test.txt\", \"a\") as f:\n",
    "    f.write(\"File opened for append.\")\n",
    "    for idx in range(5):\n",
    "        f.write(f\"Writing line {idx}\")\n",
    "    f.write(\"Closing file.\")"
   ]
  },
  {
   "cell_type": "markdown",
   "id": "48",
   "metadata": {},
   "source": [
    "The resulting file looks like this:\n",
    "\n",
    "```text\n",
    "File opened for write.Writing line 0Writing line 1Writing line 2Writing line 3Writing line 4Closing file.\n",
    "```\n",
    "\n",
    "Why is everything on one line?"
   ]
  },
  {
   "cell_type": "markdown",
   "id": "49",
   "metadata": {},
   "source": [
    "### Exercise - Read and Write Files\n",
    "\n",
    "Write a function `add_line` that takes two arguments: a filename and a string. Update the file to append that string. Use try / except to catch any errors that occur in the process. If no errors occur, print a success message."
   ]
  },
  {
   "cell_type": "code",
   "execution_count": null,
   "id": "50",
   "metadata": {},
   "outputs": [],
   "source": [
    "# code here\n"
   ]
  },
  {
   "cell_type": "code",
   "execution_count": null,
   "id": "51",
   "metadata": {},
   "outputs": [],
   "source": [
    "add_line('./data/write_test.txt', '\\nthis is added text')"
   ]
  },
  {
   "cell_type": "markdown",
   "id": "52",
   "metadata": {},
   "source": [
    "#### Solution"
   ]
  },
  {
   "cell_type": "code",
   "execution_count": null,
   "id": "53",
   "metadata": {},
   "outputs": [],
   "source": [
    "def add_line(filename, line):\n",
    "    try:\n",
    "        with open(filename, 'a') as f:\n",
    "            f.write(line)\n",
    "        print(\"Line added successfully.\")\n",
    "    except:\n",
    "        print(\"Error occurred in add_line\")"
   ]
  },
  {
   "cell_type": "markdown",
   "id": "54",
   "metadata": {},
   "source": [
    "Test with valid line value (string type):"
   ]
  },
  {
   "cell_type": "code",
   "execution_count": null,
   "id": "55",
   "metadata": {},
   "outputs": [],
   "source": [
    "add_line(\"./data/write_test.txt\", \"\\nAdded line.\")"
   ]
  },
  {
   "cell_type": "markdown",
   "id": "56",
   "metadata": {},
   "source": [
    "Test with invalid line value (int type):"
   ]
  },
  {
   "cell_type": "code",
   "execution_count": null,
   "id": "57",
   "metadata": {},
   "outputs": [],
   "source": [
    "add_line(\"./data/write_test.txt\", 42)"
   ]
  },
  {
   "cell_type": "markdown",
   "id": "58",
   "metadata": {},
   "source": [
    "## CSV Files\n",
    "\n",
    "Comma Separated Values (CSV) files are use a structured, plain text format. They provide a simple way to represent tabular data. Each line in a CSV represents a row in the table, with the value of each column in a comma separated list.\n",
    "\n",
    "For example, here part of a CSV of housing data from Zillow (spaces added for clarity):\n",
    "\n",
    "```text\n",
    " 1, 2222, 3, 3.5, 32312, 1981, 250000\n",
    " 2, 1628, 3, 2,   32308, 2009, 185000\n",
    " 3, 3824, 5, 4,   32312, 1954, 399000\n",
    " 4, 1137, 3, 2,   32309, 1993, 150000\n",
    " 5, 3560, 6, 4,   32309, 1973, 315000\n",
    " ```\n",
    "\n",
    "Here, each line has values corresponding to the line number (index), square footage, bedrooms, bathrooms, zipcode, year built, and list price.\n",
    "\n",
    "The CSV format is very common, especially for export / import. It is not usually created or edited by hand, but generated, e.g. by Excel. There are better formats for large or complex datasets, but CSV is often *good enough*.\n",
    "\n",
    "Python provides a `csv` module for manipulating this file type."
   ]
  },
  {
   "attachments": {},
   "cell_type": "markdown",
   "id": "59",
   "metadata": {},
   "source": [
    "### Reading CSV\n",
    "\n",
    "Import the module, create a file handle, wrap it in a `csv.reader` object. The resulting interface is an iterable that yields each row of the CSV as a list of strings. Each item in the list is a field from the row.\n",
    "\n",
    "For example, reading the first row of the Zillow data:\n",
    "\n",
    "`1,2222,3,3.5,32312,1981,250000`\n",
    "\n",
    "will return:\n",
    "\n",
    "`['1','2222','3','3.5','32312','1981','250000']`\n",
    "\n",
    "Note that each element is a string."
   ]
  },
  {
   "cell_type": "code",
   "execution_count": null,
   "id": "60",
   "metadata": {},
   "outputs": [],
   "source": [
    "import csv\n",
    "\n",
    "with open('./data/zillow.csv') as f:\n",
    "    reader = csv.reader(f)\n",
    "    for row in reader:\n",
    "        print(row)"
   ]
  },
  {
   "cell_type": "markdown",
   "id": "61",
   "metadata": {},
   "source": [
    "Sometime CSV files will include a header line with the column names. This can be read separately using the `next` function, which returns the next value in an iterable.\n",
    "\n",
    "Variants of CSV exist where tab or other characters are used to separate fields. To handle those, `csv.reader` has a `delimiter` parameter, which can be set to any string value.\n",
    "\n",
    "For example, consider this tab separated version of the Zillow file that includes a header line:\n",
    "\n",
    "```text\n",
    "Index\tSq Ft\tBeds\tBaths\tZip\tYear\tList Price ($)\n",
    "1\t2222\t3\t3.5\t32312\t1981\t250000\n",
    "2\t1628\t3\t2\t32308\t2009\t185000\n",
    "3\t3824\t5\t4\t32312\t1954\t399000\n",
    "4\t1137\t3\t2\t32309\t1993\t150000\n",
    "5\t3560\t6\t4\t32309\t1973\t315000\n",
    "```"
   ]
  },
  {
   "cell_type": "code",
   "execution_count": null,
   "id": "62",
   "metadata": {},
   "outputs": [],
   "source": [
    "import csv\n",
    "# function for pretty printing data structures\n",
    "from pprint import pprint as pp\n",
    "\n",
    "with open('./data/zillow-tabs.csv') as f:\n",
    "    # specify tab-delimited format\n",
    "    reader = csv.reader(f, delimiter='\\t')\n",
    "\n",
    "    # build a list of rows, starting with the header\n",
    "    zillow = []\n",
    "    zillow.append(next(reader))\n",
    "    for row in reader:\n",
    "        zillow.append(row)\n",
    "\n",
    "pp(zillow)"
   ]
  },
  {
   "cell_type": "markdown",
   "id": "63",
   "metadata": {},
   "source": [
    "### Exercise - Type Conversion\n",
    "\n",
    "Data loaded from a CSV is all strings. This is not usually correct for every column. Write a function `convert_type` that takes a row from the Zillow data and converts every value to an appropriate type. Modify the code above to call that function on each row."
   ]
  },
  {
   "cell_type": "code",
   "execution_count": null,
   "id": "64",
   "metadata": {},
   "outputs": [],
   "source": [
    "import csv\n",
    "# function for pretty printing data structures\n",
    "from pprint import pprint as pp\n",
    "\n"
   ]
  },
  {
   "cell_type": "markdown",
   "id": "65",
   "metadata": {},
   "source": [
    "#### Solution"
   ]
  },
  {
   "cell_type": "markdown",
   "id": "66",
   "metadata": {},
   "source": [
    "First attempt, brute force."
   ]
  },
  {
   "cell_type": "code",
   "execution_count": null,
   "id": "67",
   "metadata": {},
   "outputs": [],
   "source": [
    "import csv\n",
    "from pprint import pprint as pp\n",
    "\n",
    "def convert_type(data):\n",
    "    idx = 0\n",
    "    for val in data:\n",
    "        data[idx] = int(val)\n",
    "        idx += 1\n",
    "    return data\n",
    "\n",
    "with open('./data/zillow-tabs.csv') as f:\n",
    "    reader = csv.reader(f, delimiter='\\t')\n",
    "    zillow = []\n",
    "    zillow.append(next(reader))\n",
    "    for row in reader:\n",
    "        zillow.append(convert_type(row))\n",
    "\n",
    "pp(zillow)"
   ]
  },
  {
   "cell_type": "markdown",
   "id": "68",
   "metadata": {},
   "source": [
    "Second attempt, try / except."
   ]
  },
  {
   "cell_type": "code",
   "execution_count": null,
   "id": "69",
   "metadata": {},
   "outputs": [],
   "source": [
    "import csv\n",
    "from pprint import pprint as pp\n",
    "\n",
    "def convert_type(data):\n",
    "    idx = 0\n",
    "    for val in data:\n",
    "        try:\n",
    "            data[idx] = int(val)\n",
    "        except:\n",
    "            print(f'Int conversion error in row {data[0]}')\n",
    "            print('Converting to float')\n",
    "            data[idx] = float(val)\n",
    "        idx += 1\n",
    "    return data\n",
    "\n",
    "with open('./data/zillow-tabs.csv') as f:\n",
    "    reader = csv.reader(f, delimiter='\\t')\n",
    "    zillow = []\n",
    "    zillow.append(next(reader))\n",
    "    for row in reader:\n",
    "        zillow.append(convert_type(row))\n",
    "\n",
    "pp(zillow)"
   ]
  },
  {
   "cell_type": "markdown",
   "id": "70",
   "metadata": {},
   "source": [
    "### Writing CSV Files\n",
    "\n",
    "The `csv.writer()` object is used to write CSV formatted data to a file handle with appropriate permissions. There are two relevant methods:\n",
    "\n",
    "- `writerow(row_data)` writes a single row, where `row_data` is a list of values\n",
    "- `writerows(table_data)` writes multiple rows, where `table_data` is a list of lists of values\n",
    "\n",
    "Everything is written in plain text, without any information about the underlying data types. This information will have to be reconstructed when read into Python, Excel, etc."
   ]
  },
  {
   "cell_type": "code",
   "execution_count": null,
   "id": "71",
   "metadata": {},
   "outputs": [],
   "source": [
    "import csv\n",
    "\n",
    "zillow_data = [\n",
    "    [1, 2222, 3, 3.5, 32312, 1981, 250000],\n",
    "    [2, 1628, 3, 2, 32308, 2009, 185000],\n",
    "    [3, 3824, 5, 4, 32312, 1954, 399000],\n",
    "    [4, 1137, 3, 2, 32309, 1993, 150000],\n",
    "    [5, 3560, 6, 4, 32309, 1973, 315000]\n",
    "]\n",
    "\n",
    "header = ['Index', 'Sq Ft', 'Beds', 'Baths', 'Zip', 'Year', 'List Price ($)']\n",
    "\n",
    "with open('./data/zillow-new.csv', 'w') as csvfile:\n",
    "    writer = csv.writer(csvfile)\n",
    "    writer.writerow(header)\n",
    "    writer.writerows(zillow_data)\n",
    "\n",
    "print(\"Export complete.\")"
   ]
  },
  {
   "cell_type": "code",
   "execution_count": null,
   "id": "72",
   "metadata": {},
   "outputs": [],
   "source": []
  }
 ],
 "metadata": {
  "kernelspec": {
   "display_name": "Python 3 (ipykernel)",
   "language": "python",
   "name": "python3"
  },
  "language_info": {
   "codemirror_mode": {
    "name": "ipython",
    "version": 3
   },
   "file_extension": ".py",
   "mimetype": "text/x-python",
   "name": "python",
   "nbconvert_exporter": "python",
   "pygments_lexer": "ipython3",
   "version": "3.13.5"
  }
 },
 "nbformat": 4,
 "nbformat_minor": 5
}
