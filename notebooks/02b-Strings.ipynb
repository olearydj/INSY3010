{
 "cells": [
  {
   "cell_type": "markdown",
   "id": "0",
   "metadata": {
    "tags": [
     "remove-cell"
    ]
   },
   "source": [
    "# Strings\n",
    "\n",
    "This material is from Chapter 8 of [*Think Python*, 3rd edition](https://greenteapress.com/wp/think-python-3rd-edition), by Allen B. Downey. I have adapted it for this class."
   ]
  },
  {
   "cell_type": "markdown",
   "id": "1",
   "metadata": {
    "id": "9d97603b"
   },
   "source": [
    "Strings are not like integers or floats. A string is a **sequence**, which means it contains multiple values in a particular order.\n",
    "In this chapter we'll see how to access the values that make up a string, and we'll use functions that process strings."
   ]
  },
  {
   "cell_type": "markdown",
   "id": "2",
   "metadata": {
    "id": "1280dd83"
   },
   "source": [
    "## A string is a sequence\n",
    "\n",
    "A string is a sequence of characters. A **character** can be a letter (in almost any alphabet), a digit, a punctuation mark, or white space.\n",
    "\n",
    "You can select a character from a string with the bracket operator.\n",
    "This example statement selects character number 1 from `fruit` and\n",
    "assigns it to `letter`:"
   ]
  },
  {
   "cell_type": "code",
   "execution_count": null,
   "id": "3",
   "metadata": {
    "id": "9b53c1fe"
   },
   "outputs": [],
   "source": [
    "fruit = 'banana'\n",
    "letter = fruit[1]"
   ]
  },
  {
   "cell_type": "markdown",
   "id": "4",
   "metadata": {
    "id": "a307e429"
   },
   "source": [
    "The expression in brackets is an **index**, so called because it *indicates* which character in the sequence to select.\n",
    "But the result might not be what you expect."
   ]
  },
  {
   "cell_type": "code",
   "execution_count": null,
   "id": "5",
   "metadata": {
    "id": "2cb1d58c"
   },
   "outputs": [],
   "source": [
    "letter"
   ]
  },
  {
   "cell_type": "code",
   "execution_count": null,
   "id": "6",
   "metadata": {
    "id": "JvEA8mJkAre_"
   },
   "outputs": [],
   "source": [
    "fruit[len(fruit) - 2]"
   ]
  },
  {
   "cell_type": "markdown",
   "id": "7",
   "metadata": {
    "id": "57c13319"
   },
   "source": [
    "The letter with index `1` is actually the second letter of the string.\n",
    "An index is an offset from the beginning of the string, so the offset of the first letter is `0`."
   ]
  },
  {
   "cell_type": "code",
   "execution_count": null,
   "id": "8",
   "metadata": {
    "id": "4ce1eb16"
   },
   "outputs": [],
   "source": [
    "fruit[0]"
   ]
  },
  {
   "cell_type": "markdown",
   "id": "9",
   "metadata": {
    "id": "57d8e54c"
   },
   "source": [
    "You can think of `'b'` as the 0th letter of `'banana'` -- pronounced \"zero-eth\".\n",
    "\n",
    "The index in brackets can be a variable."
   ]
  },
  {
   "cell_type": "code",
   "execution_count": null,
   "id": "10",
   "metadata": {
    "id": "11201ba9"
   },
   "outputs": [],
   "source": [
    "i = 1\n",
    "fruit[i]"
   ]
  },
  {
   "cell_type": "markdown",
   "id": "11",
   "metadata": {
    "id": "9630e2e7"
   },
   "source": [
    "Or an expression that contains variables and operators."
   ]
  },
  {
   "cell_type": "code",
   "execution_count": null,
   "id": "12",
   "metadata": {
    "id": "fc4383d0"
   },
   "outputs": [],
   "source": [
    "fruit[i+1]"
   ]
  },
  {
   "cell_type": "markdown",
   "id": "13",
   "metadata": {
    "id": "939b602d"
   },
   "source": [
    "But the value of the index has to be an integer -- otherwise you get a `TypeError`."
   ]
  },
  {
   "cell_type": "code",
   "execution_count": null,
   "id": "14",
   "metadata": {
    "id": "aec20975",
    "tags": [
     "raises-exception"
    ]
   },
   "outputs": [],
   "source": [
    "fruit[1.5]"
   ]
  },
  {
   "cell_type": "markdown",
   "id": "15",
   "metadata": {
    "id": "3f0f7e3a"
   },
   "source": [
    "As we saw in Chapter 1, we can use the built-in function `len` to get the length of a string."
   ]
  },
  {
   "cell_type": "code",
   "execution_count": null,
   "id": "16",
   "metadata": {
    "id": "796ce317"
   },
   "outputs": [],
   "source": [
    "n = len(fruit)\n",
    "n"
   ]
  },
  {
   "cell_type": "markdown",
   "id": "17",
   "metadata": {
    "id": "29013c47"
   },
   "source": [
    "To get the last letter of a string, you might be tempted to write this:"
   ]
  },
  {
   "cell_type": "code",
   "execution_count": null,
   "id": "18",
   "metadata": {
    "id": "3ccb4a64",
    "tags": [
     "raises-exception"
    ]
   },
   "outputs": [],
   "source": [
    "fruit[n]"
   ]
  },
  {
   "cell_type": "markdown",
   "id": "19",
   "metadata": {
    "id": "b87e09bd"
   },
   "source": [
    "But that causes an `IndexError` because there is no letter in `'banana'` with the index 6. Because we started counting at `0`, the six letters are numbered `0` to `5`. To get the last character, you have to subtract `1` from `n`:"
   ]
  },
  {
   "cell_type": "code",
   "execution_count": null,
   "id": "20",
   "metadata": {
    "id": "2cf99de6"
   },
   "outputs": [],
   "source": [
    "fruit[n-1]"
   ]
  },
  {
   "cell_type": "markdown",
   "id": "21",
   "metadata": {
    "id": "3c79dcec"
   },
   "source": [
    "But there's an easier way.\n",
    "To get the last letter in a string, you can use a negative index, which counts backward from the end."
   ]
  },
  {
   "cell_type": "code",
   "execution_count": null,
   "id": "22",
   "metadata": {
    "id": "3dedf6fa"
   },
   "outputs": [],
   "source": [
    "fruit[-2]  # same as fruit[len(fruit) - 2]"
   ]
  },
  {
   "cell_type": "markdown",
   "id": "23",
   "metadata": {
    "id": "5677b727"
   },
   "source": [
    "The index `-1` selects the last letter, `-2` selects the second to last, and so on."
   ]
  },
  {
   "cell_type": "markdown",
   "id": "24",
   "metadata": {
    "id": "Bjy8v2CzyCGe"
   },
   "source": [
    "### Exercise\n",
    "\n",
    "Get a string from the user with `input()` and extract the middle three characters.\n",
    "\n",
    "**Hint**: use `len()`, floor (`//`), indexing (`[]`), and concatentation (`+`)."
   ]
  },
  {
   "cell_type": "code",
   "execution_count": null,
   "id": "25",
   "metadata": {},
   "outputs": [],
   "source": [
    "# extract three middle characters from user input\n",
    "..."
   ]
  },
  {
   "cell_type": "markdown",
   "id": "26",
   "metadata": {
    "jp-MarkdownHeadingCollapsed": true
   },
   "source": [
    "#### Solution\n",
    "\n",
    "Unhide this section to check your answer."
   ]
  },
  {
   "cell_type": "code",
   "execution_count": null,
   "id": "27",
   "metadata": {
    "id": "Ve8yXJ51y8hT"
   },
   "outputs": [],
   "source": [
    "# get input\n",
    "user_input = input()\n",
    "\n",
    "## extract middle three characters\n",
    "\n",
    "# find the midpoint index using floor to deal with even/odd str length\n",
    "mid_point = len(user_input) // 2\n",
    "middle = user_input[mid_point]\n",
    "\n",
    "# get the adjacent characters\n",
    "left = user_input[mid_point - 1]\n",
    "right = user_input[mid_point + 1]\n",
    "\n",
    "# concatenate result\n",
    "result = left + middle + right\n",
    "\n",
    "# print the result\n",
    "print(result)\n"
   ]
  },
  {
   "cell_type": "markdown",
   "id": "28",
   "metadata": {},
   "source": [
    "Instead of concatenting the result, you can use the `sep` argument of `print`."
   ]
  },
  {
   "cell_type": "code",
   "execution_count": null,
   "id": "29",
   "metadata": {
    "id": "KcnnVuBNGSTe"
   },
   "outputs": [],
   "source": [
    "print(left, middle, right, sep='')"
   ]
  },
  {
   "cell_type": "markdown",
   "id": "30",
   "metadata": {},
   "source": [
    "To get more info on this and other options, use `help`."
   ]
  },
  {
   "cell_type": "code",
   "execution_count": null,
   "id": "31",
   "metadata": {
    "id": "X1zc3n1pGuwj"
   },
   "outputs": [],
   "source": [
    "help(print)"
   ]
  },
  {
   "cell_type": "markdown",
   "id": "32",
   "metadata": {
    "id": "8392a12a"
   },
   "source": [
    "## String slices\n",
    "\n",
    "A segment of a string is called a **slice**.\n",
    "Selecting a slice is similar to selecting a character."
   ]
  },
  {
   "cell_type": "code",
   "execution_count": null,
   "id": "33",
   "metadata": {
    "id": "386b9df2"
   },
   "outputs": [],
   "source": [
    "text = 'Slicing is easy!'\n",
    "text[2:7]"
   ]
  },
  {
   "cell_type": "markdown",
   "id": "34",
   "metadata": {
    "id": "5cc12531"
   },
   "source": [
    "The operator `[n:m]` returns the part of the string from the `n`th\n",
    "character to the `m`th character, including the first but excluding the second.\n",
    "If this behavior seems counterintuitive, it may help to imagine the indices pointing *between* the characters, as in this figure:\n",
    "\n",
    "![Slicing](images/slicing.png)\n"
   ]
  },
  {
   "cell_type": "markdown",
   "id": "35",
   "metadata": {
    "id": "c391abbf"
   },
   "source": [
    "Note that the slice `[11:16]` selects the letters `icing`, which means that `16` is legal as part of a slice, but not legal as an index:"
   ]
  },
  {
   "cell_type": "code",
   "execution_count": null,
   "id": "36",
   "metadata": {},
   "outputs": [],
   "source": [
    "text[11:16]  # this is ok..."
   ]
  },
  {
   "cell_type": "code",
   "execution_count": null,
   "id": "37",
   "metadata": {},
   "outputs": [],
   "source": [
    "text[16]  # but this is not!"
   ]
  },
  {
   "cell_type": "markdown",
   "id": "38",
   "metadata": {
    "id": "c391abbf"
   },
   "source": [
    "If you omit the first index, the slice starts at the beginning of the string."
   ]
  },
  {
   "cell_type": "code",
   "execution_count": null,
   "id": "39",
   "metadata": {
    "id": "00592313"
   },
   "outputs": [],
   "source": [
    "text[:7]"
   ]
  },
  {
   "cell_type": "markdown",
   "id": "40",
   "metadata": {
    "id": "1bd7dcb1"
   },
   "source": [
    "If you omit the second index, the slice goes to the end of the string:"
   ]
  },
  {
   "cell_type": "code",
   "execution_count": null,
   "id": "41",
   "metadata": {
    "id": "01684797"
   },
   "outputs": [],
   "source": [
    "text[8:]"
   ]
  },
  {
   "cell_type": "markdown",
   "id": "42",
   "metadata": {
    "id": "4701123b"
   },
   "source": [
    "If the first index is greater than or equal to the second, the result is an **empty string**, represented by two quotation marks:"
   ]
  },
  {
   "cell_type": "code",
   "execution_count": null,
   "id": "43",
   "metadata": {
    "id": "c7551ded"
   },
   "outputs": [],
   "source": [
    "text[3:3]"
   ]
  },
  {
   "cell_type": "markdown",
   "id": "44",
   "metadata": {
    "id": "d12735ab"
   },
   "source": [
    "An empty string contains no characters and has length 0.\n",
    "\n",
    "Continuing this example, what do you think `text[:]` means? Try it and\n",
    "see."
   ]
  },
  {
   "cell_type": "code",
   "execution_count": null,
   "id": "45",
   "metadata": {
    "id": "b5c5ce3e",
    "tags": [
     "remove-cell"
    ]
   },
   "outputs": [],
   "source": [
    "text[:]"
   ]
  },
  {
   "cell_type": "markdown",
   "id": "46",
   "metadata": {},
   "source": [
    "### Exercise\n",
    "\n",
    "Use slicing instead of indexing to repeat the previous exercise, extracting the three middle characters of a user input string."
   ]
  },
  {
   "cell_type": "code",
   "execution_count": null,
   "id": "47",
   "metadata": {},
   "outputs": [],
   "source": [
    "# your code here"
   ]
  },
  {
   "cell_type": "markdown",
   "id": "48",
   "metadata": {
    "jp-MarkdownHeadingCollapsed": true
   },
   "source": [
    "#### Solution\n",
    "\n",
    "Unhide this section to check your answer."
   ]
  },
  {
   "cell_type": "code",
   "execution_count": null,
   "id": "49",
   "metadata": {
    "id": "P3agaey6I9_D"
   },
   "outputs": [],
   "source": [
    "# get input\n",
    "user_input = input()\n",
    "\n",
    "## extract middle three characters\n",
    "\n",
    "# find the midpoint index using floor to deal with even/odd str length\n",
    "mid_point = len(user_input) // 2\n",
    "\n",
    "result = user_input[mid_point - 1:mid_point + 2]\n",
    "\n",
    "# print the result\n",
    "print(result)"
   ]
  },
  {
   "cell_type": "markdown",
   "id": "50",
   "metadata": {
    "id": "918d3dd0"
   },
   "source": [
    "## Strings are immutable\n",
    "\n",
    "It is tempting to use the `[]` operator on the left side of an\n",
    "assignment, with the intention of changing a character in a string, like this:"
   ]
  },
  {
   "cell_type": "code",
   "execution_count": null,
   "id": "51",
   "metadata": {
    "id": "69ccd380",
    "tags": [
     "raises-exception"
    ]
   },
   "outputs": [],
   "source": [
    "greeting = 'Hello, world!'\n",
    "greeting[0] = 'J'"
   ]
  },
  {
   "cell_type": "markdown",
   "id": "52",
   "metadata": {
    "id": "df3dd7d1"
   },
   "source": [
    "The result is a `TypeError`.\n",
    "In the error message, the \"object\" is the string and the \"item\" is the character\n",
    "we tried to assign.\n",
    "For now, an **object** is the same thing as a value, but we will refine that definition later.\n",
    "\n",
    "The reason for this error is that strings are **immutable**, which means you can't change an existing string.\n",
    "The best you can do is create a new string that is a variation of the original."
   ]
  },
  {
   "cell_type": "code",
   "execution_count": null,
   "id": "53",
   "metadata": {
    "id": "280d27a1"
   },
   "outputs": [],
   "source": [
    "new_greeting = 'J' + greeting[1:]\n",
    "new_greeting"
   ]
  },
  {
   "cell_type": "markdown",
   "id": "54",
   "metadata": {
    "id": "2848546f"
   },
   "source": [
    "This example concatenates a new first letter onto a slice of `greeting`.\n",
    "It has no effect on the original string."
   ]
  },
  {
   "cell_type": "code",
   "execution_count": null,
   "id": "55",
   "metadata": {
    "id": "8fa4a4cf"
   },
   "outputs": [],
   "source": [
    "greeting"
   ]
  },
  {
   "cell_type": "markdown",
   "id": "56",
   "metadata": {
    "id": "531069f1"
   },
   "source": [
    "## String methods\n",
    "\n",
    "Strings provide methods that perform a variety of useful operations.\n",
    "A method is similar to a function -- it takes arguments and returns a value -- but the syntax is different.\n",
    "For example, the method `upper` takes a string and returns a new string with all uppercase letters.\n",
    "\n",
    "Instead of the function syntax `upper(word)`, it uses the method syntax `word.upper()`."
   ]
  },
  {
   "cell_type": "code",
   "execution_count": null,
   "id": "57",
   "metadata": {
    "id": "fa6140a6"
   },
   "outputs": [],
   "source": [
    "word = 'banana'\n",
    "new_word = word.upper()\n",
    "new_word"
   ]
  },
  {
   "cell_type": "markdown",
   "id": "58",
   "metadata": {
    "id": "1ac41744"
   },
   "source": [
    "This use of the dot operator specifies the name of the method, `upper`, and the name of the string to apply the method to, `word`. The empty parentheses indicate that this method takes no arguments.\n",
    "\n",
    "Some of the most commonly used string methods in Python are tabulated below. The `str.method()` notation indicates that any string object (`str`) can call these methods using dot notation, as with `word.upper()` above. For reasons beyond the scope of this course, the format `str.upper(word)` will also work, but is discouraged.\n",
    "\n",
    "| **Category**           | **Method**                          | **Description** |\n",
    "|------------------------|------------------------------------|----------------|\n",
    "| **Case Manipulation**  | `str.lower()`                      | Converts all characters to lowercase. |\n",
    "|                        | `str.upper()`                      | Converts all characters to uppercase. |\n",
    "|                        | `str.title()`                      | Capitalizes the first letter of each word. |\n",
    "|                        | `str.capitalize()`                 | Capitalizes the first letter of the string. |\n",
    "| **Whitespace & Formatting** | `str.strip()`                 | Removes leading and trailing whitespace. |\n",
    "| **Finding & Replacing**| `str.find(sub, start, end)`        | Returns index of first occurrence of `sub`, or `-1` if not found. |\n",
    "|                        | `str.replace(old, new, count)`     | Replaces occurrences of `old` with `new`. |\n",
    "|                        | `str.count(sub)`                   | Counts occurrences of `sub`. |\n",
    "| **Checking Content**   | `str.isalpha()`                    | Returns `True` if all characters are letters. |\n",
    "|                        | `str.isdigit()`                    | Returns `True` if all characters are digits. |\n",
    "|                        | `str.isalnum()`                    | Returns `True` if all characters are alphanumeric. |\n",
    "|                        | `str.isspace()`                    | Returns `True` if all characters are whitespace. |\n",
    "| **Splitting & Joining**| `str.split(sep, maxsplit)`         | Splits the string into a list based on `sep`. |\n",
    "|                        | `str.join(iterable)`               | Joins elements of `iterable` into a string. |\n",
    "\n",
    "Note that the values returned by string methods vary significantly. Many return strings, but others return integers, Booleans, or even list types. It is important to know the details. Use `help` or [the Python documentation](https://docs.python.org/3/library/stdtypes.html#string-methods)."
   ]
  },
  {
   "cell_type": "code",
   "execution_count": null,
   "id": "59",
   "metadata": {},
   "outputs": [],
   "source": [
    "# this way works, but is discouraged\n",
    "str.upper(word)\n",
    "\n",
    "# this way is encouraged\n",
    "word.upper()"
   ]
  },
  {
   "cell_type": "markdown",
   "id": "60",
   "metadata": {
    "id": "c842524d"
   },
   "source": [
    "## Glossary\n",
    "\n",
    "**sequence:**\n",
    " An ordered collection of values where each value is identified by an integer index.\n",
    "\n",
    "**character:**\n",
    "An element of a string, including letters, numbers, and symbols.\n",
    "\n",
    "**index:**\n",
    " An integer value used to select an item in a sequence, such as a character in a string. In Python indices start from `0`.\n",
    "\n",
    "**slice:**\n",
    " A part of a string specified by a range of indices.\n",
    "\n",
    "**empty string:**\n",
    "A string that contains no characters and has length `0`.\n",
    "\n",
    "**object:**\n",
    " Something a variable can refer to. An object has a type and a value.\n",
    "\n",
    "**immutable:**\n",
    "If the elements of an object cannot be changed, the object is immutable.\n",
    "\n",
    "**invocation:**\n",
    " An expression -- or part of an expression -- that calls a method."
   ]
  },
  {
   "cell_type": "markdown",
   "id": "61",
   "metadata": {},
   "source": [
    "---\n",
    "\n",
    "Auburn University / Industrial and Systems Engineering  \n",
    "INSY 3010 / Programming and Databases for ISE  \n",
    "© Copyright 2025, Danny J. O'Leary.  \n",
    "For licensing, attribution, and information: [GitHub INSY3010](https://github.com/olearydj/INSY3010)\n"
   ]
  }
 ],
 "metadata": {
  "celltoolbar": "Tags",
  "colab": {
   "provenance": []
  },
  "kernelspec": {
   "display_name": "Python 3 (ipykernel)",
   "language": "python",
   "name": "python3"
  },
  "language_info": {
   "codemirror_mode": {
    "name": "ipython",
    "version": 3
   },
   "file_extension": ".py",
   "mimetype": "text/x-python",
   "name": "python",
   "nbconvert_exporter": "python",
   "pygments_lexer": "ipython3",
   "version": "3.13.5"
  }
 },
 "nbformat": 4,
 "nbformat_minor": 5
}
