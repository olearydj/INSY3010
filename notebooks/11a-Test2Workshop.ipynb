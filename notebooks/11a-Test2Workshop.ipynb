{
 "cells": [
  {
   "cell_type": "markdown",
   "id": "0",
   "metadata": {},
   "source": [
    "# Python Coding Workshop - Unit 2"
   ]
  },
  {
   "cell_type": "markdown",
   "id": "1",
   "metadata": {},
   "source": [
    "This unit covers functions, more types (tuples, sets, dictionaries, nested sequences), and file handling. Here is a concise summary of the Python skills you should be comfortable applying:\n",
    "\n",
    "**Functions**\n",
    "- Define functions with appropriate parameters\n",
    "- Use return statements to return single or multiple values (as tuples)\n",
    "- Call functions and assign their return values\n",
    "- Understand local variables and function scope\n",
    "- Compose functions (call one function from another)\n",
    "- Write general solutions that work for any valid input\n",
    "\n",
    "**Tuples**\n",
    "- Create tuples using comma-separated values\n",
    "- Understand tuple immutability\n",
    "- Use tuple unpacking to assign multiple variables\n",
    "- Return multiple values from functions as tuples\n",
    "- Use tuples in loops and iterations\n",
    "\n",
    "**Dictionaries**\n",
    "- Create and initialize dictionaries\n",
    "- Access and modify dictionary values\n",
    "- Add and remove key-value pairs\n",
    "- Use dictionary methods: keys(), values(), items()\n",
    "- Loop through dictionaries in different ways\n",
    "- Build dictionaries from other data structures\n",
    "- Understand the requirement that keys must be immutable and unique\n",
    "\n",
    "**Sets**\n",
    "- Create sets to store unique values\n",
    "- Use sets for deduplication\n",
    "- Understand that sets are unordered\n",
    "- Convert between sets and other sequence types\n",
    "\n",
    "**Nested Sequences**\n",
    "- Access elements in nested lists using multiple indices\n",
    "- Traverse nested structures with nested loops\n",
    "- Build nested lists programmatically\n",
    "- Extract rows or columns from 2D structures\n",
    "\n",
    "**File Operations**\n",
    "- Open files using context managers (with statement)\n",
    "- Write data to files\n",
    "- Format output for file writing\n",
    "- Close files properly (automatic with context managers)\n",
    "\n",
    "The following sections provide example problems suitable for assessing your ability to apply those skills."
   ]
  },
  {
   "cell_type": "markdown",
   "id": "2",
   "metadata": {},
   "source": [
    "## Problem 1 - Tuple Processing"
   ]
  },
  {
   "cell_type": "markdown",
   "id": "3",
   "metadata": {},
   "source": [
    "**Covering**: Functions, tuple unpacking, tuple creation, list building, loops\n",
    "\n",
    "Write a function `swap_and_sum(pairs)` that takes a list of 2-element tuples (x, y) and returns a list of tuples with swapped positions (y, x) and their sum as a third element (y, x, x+y).\n",
    "\n",
    "Your function must work for ANY list of 2-element tuples containing numbers, not just the example provided."
   ]
  },
  {
   "cell_type": "markdown",
   "id": "4",
   "metadata": {},
   "source": [
    "### Example"
   ]
  },
  {
   "cell_type": "markdown",
   "id": "5",
   "metadata": {},
   "source": [
    "For the input:\n",
    "\n",
    "```python\n",
    "data = [(1, 2), (3, 4), (5, 6)]\n",
    "result = swap_and_sum(data)\n",
    "print(result)\n",
    "```\n",
    "\n",
    "Your output should be:\n",
    "```\n",
    "[(2, 1, 3), (4, 3, 7), (6, 5, 11)]\n",
    "```"
   ]
  },
  {
   "cell_type": "markdown",
   "id": "6",
   "metadata": {},
   "source": [
    "### Code"
   ]
  },
  {
   "cell_type": "markdown",
   "id": "7",
   "metadata": {},
   "source": [
    "Write your solution below."
   ]
  },
  {
   "cell_type": "code",
   "execution_count": null,
   "id": "8",
   "metadata": {},
   "outputs": [],
   "source": [
    "# Define your function here\n",
    "\n",
    "\n",
    "# Test your function\n",
    "data = [(1, 2), (3, 4), (5, 6)]\n",
    "result = swap_and_sum(data)\n",
    "print(result)"
   ]
  },
  {
   "cell_type": "markdown",
   "id": "9",
   "metadata": {},
   "source": [
    "## Problem 2 - Dictionary Building with Filtering"
   ]
  },
  {
   "cell_type": "markdown",
   "id": "10",
   "metadata": {},
   "source": [
    "**Covering**: Functions, dictionary building, list iteration with indices, conditional logic\n",
    "\n",
    "Write a function `make_passing_dict(names, scores, passing)` that takes two lists (`names`, `scores`) and a passing threshold (`passing`), and returns a dictionary mapping names to scores ONLY for students who passed.\n",
    "\n",
    "Your function must work for ANY two equal-length lists and ANY threshold value, not just the example provided."
   ]
  },
  {
   "cell_type": "markdown",
   "id": "11",
   "metadata": {},
   "source": [
    "### Example"
   ]
  },
  {
   "cell_type": "markdown",
   "id": "12",
   "metadata": {},
   "source": [
    "For the input:\n",
    "```python\n",
    "names = ['Alice', 'Bob', 'Carol']\n",
    "scores = [85, 62, 90]\n",
    "result = make_passing_dict(names, scores, 70)\n",
    "print(result)\n",
    "```\n",
    "\n",
    "Your output should be:\n",
    "```\n",
    "{'Alice': 85, 'Carol': 90}\n",
    "```"
   ]
  },
  {
   "cell_type": "markdown",
   "id": "13",
   "metadata": {},
   "source": [
    "### Code"
   ]
  },
  {
   "cell_type": "markdown",
   "id": "14",
   "metadata": {},
   "source": [
    "Write your solution below."
   ]
  },
  {
   "cell_type": "code",
   "execution_count": null,
   "id": "15",
   "metadata": {},
   "outputs": [],
   "source": [
    "# Define your function here\n",
    "\n",
    "\n",
    "# Test your function\n",
    "names = ['Alice', 'Bob', 'Carol']\n",
    "scores = [85, 62, 90]\n",
    "result = make_passing_dict(names, scores, 70)\n",
    "print(result)"
   ]
  },
  {
   "cell_type": "markdown",
   "id": "16",
   "metadata": {},
   "source": [
    "Why did we need to use `for ... in range` here?"
   ]
  },
  {
   "cell_type": "markdown",
   "id": "17",
   "metadata": {},
   "source": [
    "## Problem 3 - Set for Deduplication with Stats"
   ]
  },
  {
   "cell_type": "markdown",
   "id": "18",
   "metadata": {},
   "source": [
    "**Covering**: Functions, sets for deduplication, tuple returns, tuple unpacking\n",
    "\n",
    "Write a function `count_unique_and_total(items)` that takes a list and returns a tuple of `(unique_count, total_count)`.\n",
    "\n",
    "Your function must work for ANY list, not just the example provided."
   ]
  },
  {
   "cell_type": "markdown",
   "id": "19",
   "metadata": {},
   "source": [
    "### Example"
   ]
  },
  {
   "cell_type": "markdown",
   "id": "20",
   "metadata": {},
   "source": [
    "For the input:\n",
    "\n",
    "```python\n",
    "items = ['apple', 'banana', 'apple', 'cherry', 'banana']\n",
    "unique, total = count_unique_and_total(items)\n",
    "print(f\"Unique: {unique}, Total: {total}\")\n",
    "```\n",
    "\n",
    "Your output should be:\n",
    "```\n",
    "Unique: 3, Total: 5\n",
    "```"
   ]
  },
  {
   "cell_type": "markdown",
   "id": "21",
   "metadata": {},
   "source": [
    "### Code"
   ]
  },
  {
   "cell_type": "markdown",
   "id": "22",
   "metadata": {},
   "source": [
    "Write your solution below."
   ]
  },
  {
   "cell_type": "code",
   "execution_count": null,
   "id": "23",
   "metadata": {},
   "outputs": [],
   "source": [
    "# Define your function here\n",
    "\n",
    "\n",
    "# Test your function\n",
    "items = ['apple', 'banana', 'apple', 'cherry', 'banana']\n",
    "unique, total = count_unique_and_total(items)\n",
    "print(f\"Unique: {unique}, Total: {total}\")"
   ]
  },
  {
   "cell_type": "markdown",
   "id": "24",
   "metadata": {},
   "source": [
    "## Problem 4 - Nested List Column Extraction"
   ]
  },
  {
   "cell_type": "markdown",
   "id": "25",
   "metadata": {},
   "source": [
    "**Covering**: Functions, nested lists, indexing 2D structures, list building, tuple returns\n",
    "\n",
    "Write a function `get_column_sum(matrix, col_index)` that takes a 2D list and column index, returns a tuple of `(column_list, column_sum)`.\n",
    "\n",
    "Your function must work for ANY 2D list and valid column index, not just the example provided."
   ]
  },
  {
   "cell_type": "markdown",
   "id": "26",
   "metadata": {},
   "source": [
    "### Example"
   ]
  },
  {
   "cell_type": "markdown",
   "id": "27",
   "metadata": {},
   "source": [
    "For the input:\n",
    "```python\n",
    "data = [[1, 2, 3],\n",
    "        [4, 5, 6],\n",
    "        [7, 8, 9]]\n",
    "col, total = get_column_sum(data, 1)\n",
    "print(f\"Column: {col}\")\n",
    "print(f\"Sum: {total}\")\n",
    "```\n",
    "\n",
    "Your output should be:\n",
    "```\n",
    "Column: [2, 5, 8]\n",
    "Sum: 15\n",
    "```"
   ]
  },
  {
   "cell_type": "markdown",
   "id": "28",
   "metadata": {},
   "source": [
    "### Code"
   ]
  },
  {
   "cell_type": "markdown",
   "id": "29",
   "metadata": {},
   "source": [
    "Write your solution below."
   ]
  },
  {
   "cell_type": "code",
   "execution_count": null,
   "id": "30",
   "metadata": {},
   "outputs": [],
   "source": [
    "# Define your function here\n",
    "\n",
    "\n",
    "# Test your function\n",
    "data = [[1, 2, 3],\n",
    "        [4, 5, 6],\n",
    "        [7, 8, 9]]\n",
    "col, total = get_column_sum(data, 1)\n",
    "print(f\"Column: {col}\")\n",
    "print(f\"Sum: {total}\")"
   ]
  },
  {
   "cell_type": "markdown",
   "id": "31",
   "metadata": {},
   "source": [
    "## Problem 5 - Write Filtered Dictionary to File"
   ]
  },
  {
   "cell_type": "markdown",
   "id": "32",
   "metadata": {},
   "source": [
    "**Covering**: Functions, file operations, context managers, dictionary iteration, filtering, string formatting\n",
    "\n",
    "Write a function `save_passing(filename, score_dict, threshold)` that takes a filename, dictionary of name:score pairs, and threshold. Write only passing scores to file as `\"Name: Score\"` (one per line). Use a context manager (with statement).\n",
    "\n",
    "Your function must work for ANY filename, dictionary, and threshold, not just the example provided."
   ]
  },
  {
   "cell_type": "markdown",
   "id": "33",
   "metadata": {},
   "source": [
    "### Example"
   ]
  },
  {
   "cell_type": "markdown",
   "id": "34",
   "metadata": {},
   "source": [
    "For the input:\n",
    "```python\n",
    "scores = {'Alice': 85, 'Bob': 62, 'Carol': 90}\n",
    "save_passing('pass.txt', scores, 70)\n",
    "```\n",
    "\n",
    "The file `pass.txt` should contain:\n",
    "```\n",
    "Alice: 85\n",
    "Carol: 90\n",
    "```\n",
    "\n",
    "Note: The order of names in the file may vary since dictionaries maintain insertion order, but the format must match exactly."
   ]
  },
  {
   "cell_type": "markdown",
   "id": "35",
   "metadata": {},
   "source": [
    "### Code"
   ]
  },
  {
   "cell_type": "markdown",
   "id": "36",
   "metadata": {},
   "source": [
    "Write your solution below."
   ]
  },
  {
   "cell_type": "code",
   "execution_count": null,
   "id": "37",
   "metadata": {},
   "outputs": [],
   "source": [
    "# Define your function here\n",
    "\n",
    "\n",
    "# Test your function\n",
    "scores = {'Alice': 85, 'Bob': 62, 'Carol': 90}\n",
    "save_passing('pass.txt', scores, 70)\n",
    "\n",
    "# Read the file to verify (optional - for testing purposes)\n",
    "with open('pass.txt') as f:\n",
    "    print(f.read())"
   ]
  }
 ],
 "metadata": {
  "jupytext": {
   "default_lexer": "python"
  },
  "kernelspec": {
   "display_name": "Python 3 (ipykernel)",
   "language": "python",
   "name": "python3"
  },
  "language_info": {
   "codemirror_mode": {
    "name": "ipython",
    "version": 3
   },
   "file_extension": ".py",
   "mimetype": "text/x-python",
   "name": "python",
   "nbconvert_exporter": "python",
   "pygments_lexer": "ipython3",
   "version": "3.13.5"
  }
 },
 "nbformat": 4,
 "nbformat_minor": 5
}
