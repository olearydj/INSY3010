{
 "cells": [
  {
   "cell_type": "markdown",
   "id": "0",
   "metadata": {
    "tags": [
     "remove-cell"
    ]
   },
   "source": [
    "# Functions\n",
    "\n",
    "This material is from portions of Chapters 3, 4, and 6 of [*Think Python*, 3rd edition](https://greenteapress.com/wp/think-python-3rd-edition), by Allen B. Downey. I have adapted it for this class.\n"
   ]
  },
  {
   "cell_type": "markdown",
   "id": "1",
   "metadata": {},
   "source": [
    "In previous chapters we used several functions provided by Python, like `int` and `float`, and a few provided by the `math` module, like `sqrt` and `pow`.\n",
    "In this chapter, you will learn how to create your own functions and run them.\n",
    "\n",
    "Functions are one way to adhere to an important programming principle:\n",
    "\n",
    "**Don't Repeat Yourself (DRY)**\n",
    "\n",
    "Repetition leads to errors and makes code harder to maintain. Any change required (and there will be many) has to be applied to all duplicated instances. This is a losing battle. By replacing all instances of the duplicated code with a reference to a shared function, only one change is required.\n",
    "\n",
    "Functions have many other benefits that will become more obvious as our programs get bigger. Functions compartmentalize functionality in a way that helps with the planning and implementation of larger solutions."
   ]
  },
  {
   "cell_type": "markdown",
   "id": "2",
   "metadata": {},
   "source": [
    "## Defining new functions\n",
    "\n",
    "A **function definition** specifies the name of a new function and the sequence of statements that run when the function is called. Here is a very simple example:"
   ]
  },
  {
   "cell_type": "code",
   "execution_count": null,
   "id": "3",
   "metadata": {},
   "outputs": [],
   "source": [
    "def print_lyrics():\n",
    "    print(\"War Eagle, fly down the field,\")\n",
    "    print(\"Ever to conquer, never to yield.\")"
   ]
  },
  {
   "cell_type": "markdown",
   "id": "4",
   "metadata": {},
   "source": [
    "`def` is a keyword that indicates that this is a function definition.\n",
    "The name of the function is `print_lyrics`.\n",
    "Anything that's a legal variable name is also a legal function name.\n",
    "\n",
    "The empty parentheses after the name indicate that this function doesn't take any arguments.\n",
    "\n",
    "The first line of the function definition is called the **header** -- the rest is called the **body**.\n",
    "The header has to end with a colon and the body has to be indented. By convention, indentation is always four spaces. \n",
    "The body of this function is two print statements; in general, the body of a function can contain any number of statements of any kind.\n",
    "\n",
    "Running this code has no obvious effect. The code in the body of the function is not executed. It simply creates a **function object** and assigns it to the function name. In this case, `print_lyrics` points to an object of type `function`, whose value is the chunk of code to execute.\n",
    "\n",
    "This is analogous to the way `x = 42` assigns the integer value of `42` to the variable name `x`.\n",
    "\n",
    "We can display a **representation** of the function object by using the function name, without the trailing parentheses:"
   ]
  },
  {
   "cell_type": "code",
   "execution_count": null,
   "id": "5",
   "metadata": {},
   "outputs": [],
   "source": [
    "print_lyrics"
   ]
  },
  {
   "cell_type": "markdown",
   "id": "6",
   "metadata": {},
   "source": [
    "It's not important that you understand the details of this cryptic output, except that it shows that the value associated with `print_lyrics` is a function. Again, this is analogous to the way that `x` evaluates to the value of the object it references."
   ]
  },
  {
   "cell_type": "markdown",
   "id": "7",
   "metadata": {},
   "source": [
    "Now that we've defined a function, we can call it the same way we call built-in functions, by including parentheses:"
   ]
  },
  {
   "cell_type": "code",
   "execution_count": null,
   "id": "8",
   "metadata": {},
   "outputs": [],
   "source": [
    "print_lyrics()"
   ]
  },
  {
   "cell_type": "markdown",
   "id": "9",
   "metadata": {},
   "source": [
    "When the function runs, it executes the statements in the body.\n",
    "\n",
    "Sing it for us!"
   ]
  },
  {
   "cell_type": "markdown",
   "id": "10",
   "metadata": {},
   "source": [
    "### Exercise - ASCII Art Triangle\n",
    "\n",
    "ASCII (\"as-key\") is an early standard for character encoding used by computers. It defines a set of 128 characters, including uppercase and lowercase letters, numbers, punctuation marks, and control characters. ASCII art refers to images created with that limited, fixed-width character set. Modern systems use much more extensive character encodings like Unicode to represent a wider range of characters from various languages and symbol systems.\n",
    "\n",
    "Write a function called `triangle` that \"draws\" a right triangle with asterisks (`*`). It should be four lines tall, and look like this:\n",
    "\n",
    "```text\n",
    "*\n",
    "**\n",
    "***\n",
    "****\n",
    "```"
   ]
  },
  {
   "cell_type": "code",
   "execution_count": null,
   "id": "11",
   "metadata": {},
   "outputs": [],
   "source": [
    "# code here\n",
    "..."
   ]
  },
  {
   "cell_type": "markdown",
   "id": "12",
   "metadata": {
    "jp-MarkdownHeadingCollapsed": true
   },
   "source": [
    "#### Solution"
   ]
  },
  {
   "cell_type": "markdown",
   "id": "13",
   "metadata": {},
   "source": [
    "The most straightforward way to accomplish this is to directly print the output:\n",
    "\n",
    "```python\n",
    "def triangle():\n",
    "    print(\"*\")\n",
    "    print(\"**\")\n",
    "    print(\"***\")\n",
    "    print(\"****\")\n",
    "```\n",
    "\n",
    "How else might you do it?"
   ]
  },
  {
   "cell_type": "markdown",
   "id": "14",
   "metadata": {},
   "source": [
    "## Parameters\n",
    "\n",
    "Some of the functions we have seen require arguments; for example, when you call `abs` you pass a number as an argument.\n",
    "Some functions take more than one argument; for example, `math.pow` takes two, the base and the exponent."
   ]
  },
  {
   "cell_type": "code",
   "execution_count": null,
   "id": "15",
   "metadata": {},
   "outputs": [],
   "source": [
    "abs(-1)  # single argument"
   ]
  },
  {
   "cell_type": "code",
   "execution_count": null,
   "id": "16",
   "metadata": {},
   "outputs": [],
   "source": [
    "import math\n",
    "math.pow(42, 2)  # two arguments, base and exponent"
   ]
  },
  {
   "cell_type": "markdown",
   "id": "17",
   "metadata": {},
   "source": [
    "Here is a definition for a function that takes a single value and uses it to customize a message."
   ]
  },
  {
   "cell_type": "code",
   "execution_count": null,
   "id": "18",
   "metadata": {},
   "outputs": [],
   "source": [
    "def greet(person):  # 'person' is the parameter\n",
    "    print(f\"Hello, {person}!\")"
   ]
  },
  {
   "cell_type": "markdown",
   "id": "19",
   "metadata": {},
   "source": [
    "The variable name in the parentheses of the function *definition* is a **parameter**.\n",
    "Conversely, the value in parentheses of the function *call* is an **argument**.\n",
    "When the function is called, the parameter takes on the value of the argument.\n",
    "\n",
    "For example, we can call `greet` like this."
   ]
  },
  {
   "cell_type": "code",
   "execution_count": null,
   "id": "20",
   "metadata": {},
   "outputs": [],
   "source": [
    "greet(\"Aubie\")  # \"Aubie\" is the argument"
   ]
  },
  {
   "cell_type": "markdown",
   "id": "21",
   "metadata": {},
   "source": [
    "When this function is called, it has the same effect as assigning the argument \"Aubie\" to the parameter `person` and then executing the body of the function, like this:"
   ]
  },
  {
   "cell_type": "code",
   "execution_count": null,
   "id": "22",
   "metadata": {},
   "outputs": [],
   "source": [
    "person = 'Aubie'\n",
    "print(f\"Hello, {person}!\")"
   ]
  },
  {
   "cell_type": "markdown",
   "id": "23",
   "metadata": {},
   "source": [
    "You can also use a variable as an argument."
   ]
  },
  {
   "cell_type": "code",
   "execution_count": null,
   "id": "24",
   "metadata": {},
   "outputs": [],
   "source": [
    "coach = \"Bruce Pearl\"\n",
    "greet(coach)"
   ]
  },
  {
   "cell_type": "markdown",
   "id": "25",
   "metadata": {},
   "source": [
    "In this example, the value of `coach` gets assigned to the parameter `person`.\n",
    "\n",
    "Note that the name of the variable used as an argument when calling the function does *not* have to be the same as the name of the parameter, **and usually isn't**. Here, `coach` is just one of many people you might want to greet. The `greet` function is designed to work for any `person`.\n",
    "\n",
    "Functions are designed to be reusable. You may use a function like `greet` in many places in a program, where it would be counterproducive to reassign a `person` variable each time you wanted to `greet` them. Hence the separation between argument and parameter, which \"decouples\" the function from the calling code.\n",
    "\n",
    "To define a function that takes multiple arguments, simply specify each parameter in the definition:"
   ]
  },
  {
   "cell_type": "code",
   "execution_count": null,
   "id": "26",
   "metadata": {},
   "outputs": [],
   "source": [
    "def fancy_greet(first, last):\n",
    "    print(f'{last}, {first} {last}')"
   ]
  },
  {
   "cell_type": "markdown",
   "id": "27",
   "metadata": {},
   "source": [
    "And supply both arguments in the function call, in the correct order:"
   ]
  },
  {
   "cell_type": "code",
   "execution_count": null,
   "id": "28",
   "metadata": {},
   "outputs": [],
   "source": [
    "fancy_greet(\"James\", \"Bond\")"
   ]
  },
  {
   "cell_type": "markdown",
   "id": "29",
   "metadata": {},
   "source": [
    "Because the arguments (of the function call) and parameters (of the function definition) are order dependent, these are called **positional** arguments."
   ]
  },
  {
   "cell_type": "markdown",
   "id": "30",
   "metadata": {},
   "source": [
    "### Exercise - Parameterized Printing\n",
    "\n",
    "Using parameters allows us to build functions that are more flexible and general purpose.\n",
    "\n",
    "Revisit the previous `triangle` function. Rewrite it to take the triangle's character and height as arguments. Here's an example with a height of `5`, using the string `'L'`:\n",
    "\n",
    "```python\n",
    "triangle('L', 5)\n",
    "```\n",
    "\n",
    "```text\n",
    "L\n",
    "LL\n",
    "LLL\n",
    "LLLL\n",
    "LLLLL\n",
    "```"
   ]
  },
  {
   "cell_type": "code",
   "execution_count": null,
   "id": "31",
   "metadata": {},
   "outputs": [],
   "source": [
    "# code here\n",
    "..."
   ]
  },
  {
   "cell_type": "markdown",
   "id": "32",
   "metadata": {
    "jp-MarkdownHeadingCollapsed": true
   },
   "source": [
    "#### Solution"
   ]
  },
  {
   "cell_type": "markdown",
   "id": "33",
   "metadata": {},
   "source": [
    "```python\n",
    "def triangle(char, height):\n",
    "    for line_num in range(height):\n",
    "        output  = char * (line_num + 1)\n",
    "        print(output)\n",
    "\n",
    "triangle('L', 5)\n",
    "```"
   ]
  },
  {
   "cell_type": "markdown",
   "id": "34",
   "metadata": {},
   "source": [
    "## Return Values"
   ]
  },
  {
   "cell_type": "markdown",
   "id": "35",
   "metadata": {},
   "source": [
    "We will usually want to assign the result of a function to a variable."
   ]
  },
  {
   "cell_type": "code",
   "execution_count": null,
   "id": "36",
   "metadata": {},
   "outputs": [],
   "source": [
    "x = abs(-2)\n",
    "print(f'{x = }')  # note this f-string syntax"
   ]
  },
  {
   "cell_type": "markdown",
   "id": "37",
   "metadata": {},
   "source": [
    "Here, the `abs` function is an expression that evaluates to `2`, which is assigned to `x`.\n",
    "\n",
    "Comparing expected with actual results is an important part of programming. More generally, it is also an essential part of engineering, where it relates to the processes of validation (doing the right thing) and verification (doing the thing right).\n",
    "\n",
    "Let's take this opportunity to practice it now, in the context of functions. What output do you expect from the following cell?"
   ]
  },
  {
   "cell_type": "code",
   "execution_count": null,
   "id": "38",
   "metadata": {},
   "outputs": [],
   "source": [
    "g = greet(coach)\n",
    "print(g)"
   ]
  },
  {
   "cell_type": "markdown",
   "id": "39",
   "metadata": {},
   "source": [
    "Is the result you expected? If not, how can you explain it? What does it tell you?\n",
    "\n",
    "The first line of output is produced by calling the `greet` function. The second output, `None` must therefore be the output of `print(g)`.\n",
    "\n",
    "We can investigate by checking the type of `g`:"
   ]
  },
  {
   "cell_type": "code",
   "execution_count": null,
   "id": "40",
   "metadata": {},
   "outputs": [],
   "source": [
    "type(g)"
   ]
  },
  {
   "cell_type": "markdown",
   "id": "41",
   "metadata": {},
   "source": [
    "It seems that `g` was assigned the value `None`, which was somehow the result of the `greet` function call. As we saw in the previous notebook, `None` is a special value meant to denote nothing or empty. It is the only value for `NoneType`, in the same way that `True` and `False` are the only allowable values for type `bool`.\n",
    "\n",
    "Why is `g` \"nothing\"? If you look back at the definition for `greet` you'll see that it only prints the greeting message. No other operations are performed, thus no \"result\" is obtained. In situations like this, the printed output is considered a *side effect* of the function.\n",
    "\n",
    "Python functions use the `return` statement to explicitly define the result provided. For example, we could write our own simple version of the `abs` function like this:"
   ]
  },
  {
   "cell_type": "code",
   "execution_count": null,
   "id": "42",
   "metadata": {},
   "outputs": [],
   "source": [
    "def my_abs(num):\n",
    "    if num < 0:\n",
    "        num = -num\n",
    "    # return the result\n",
    "    return num"
   ]
  },
  {
   "cell_type": "markdown",
   "id": "43",
   "metadata": {},
   "source": [
    "`my_abs` flips the sign for negative values of `num` and returns the result, which is what the function evaluates to:"
   ]
  },
  {
   "cell_type": "code",
   "execution_count": null,
   "id": "44",
   "metadata": {},
   "outputs": [],
   "source": [
    "my_abs(-2)"
   ]
  },
  {
   "cell_type": "markdown",
   "id": "45",
   "metadata": {},
   "source": [
    "That result can then be assigned as usual:"
   ]
  },
  {
   "cell_type": "code",
   "execution_count": null,
   "id": "46",
   "metadata": {},
   "outputs": [],
   "source": [
    "x = my_abs(-2)\n",
    "print(f'{x = }')"
   ]
  },
  {
   "cell_type": "markdown",
   "id": "47",
   "metadata": {},
   "source": [
    "Functions that return a value are sometimes referred to as *fruitful* functions, for the results they produce.\n",
    "\n",
    "By default, Python functions that do not include a `return` statement return `None`.\n",
    "\n",
    "Here is another example of a function that takes two arguments and returns a string:"
   ]
  },
  {
   "cell_type": "code",
   "execution_count": null,
   "id": "48",
   "metadata": {},
   "outputs": [],
   "source": [
    "def repeat_string(word, n):\n",
    "    return word * n"
   ]
  },
  {
   "cell_type": "markdown",
   "id": "49",
   "metadata": {},
   "source": [
    "Notice that we can use an expression in a `return` statement, not just a variable.\n",
    "\n",
    "When the function runs, it doesn't display anything. Our function is called, the result is returned, and is assigned in the same manner as Python's own functions like `abs`:"
   ]
  },
  {
   "cell_type": "code",
   "execution_count": null,
   "id": "50",
   "metadata": {},
   "outputs": [],
   "source": [
    "line = repeat_string('Spam, ', 4)"
   ]
  },
  {
   "cell_type": "markdown",
   "id": "51",
   "metadata": {},
   "source": [
    "So we can later display (or otherwise utilize) the value assigned to `line`."
   ]
  },
  {
   "cell_type": "code",
   "execution_count": null,
   "id": "52",
   "metadata": {},
   "outputs": [],
   "source": [
    "line"
   ]
  },
  {
   "cell_type": "markdown",
   "id": "53",
   "metadata": {},
   "source": [
    "A function like this is called a **pure function** because it doesn't display anything or have any other side effect. It **only** returns a value."
   ]
  },
  {
   "cell_type": "markdown",
   "id": "54",
   "metadata": {},
   "source": [
    "### Exercise: Writing and Composing Simple Functions"
   ]
  },
  {
   "cell_type": "markdown",
   "id": "55",
   "metadata": {},
   "source": [
    "Write a function called `mult` that takes two parameters and returns their product."
   ]
  },
  {
   "cell_type": "code",
   "execution_count": null,
   "id": "56",
   "metadata": {},
   "outputs": [],
   "source": [
    "# part one...\n"
   ]
  },
  {
   "cell_type": "markdown",
   "id": "57",
   "metadata": {},
   "source": [
    "Functions can call other functions, and often do.\n",
    "\n",
    "Use `mult` to write a function called `square` that takes one parameter and returns its squared value."
   ]
  },
  {
   "cell_type": "code",
   "execution_count": null,
   "id": "58",
   "metadata": {},
   "outputs": [],
   "source": [
    "# part two...\n"
   ]
  },
  {
   "cell_type": "markdown",
   "id": "59",
   "metadata": {},
   "source": [
    "Use `mult` and `square` to create a function called `circle_area` that calculates the area of a circle of radius `r`."
   ]
  },
  {
   "cell_type": "code",
   "execution_count": null,
   "id": "60",
   "metadata": {},
   "outputs": [],
   "source": [
    "# part three...\n"
   ]
  },
  {
   "cell_type": "markdown",
   "id": "61",
   "metadata": {},
   "source": [
    "Now test your work by running the following code block:"
   ]
  },
  {
   "cell_type": "code",
   "execution_count": null,
   "id": "62",
   "metadata": {},
   "outputs": [],
   "source": [
    "assert circle_area(1) == 3.14  # pi * 1 = pi\n",
    "assert circle_area(5) == 78.5  # pi * 25 = 78.5"
   ]
  },
  {
   "cell_type": "markdown",
   "id": "63",
   "metadata": {},
   "source": [
    "No output is good, errors are bad.\n",
    "\n",
    "Python's `assert` command will cause a runtime `AssertionError` if the comparison is `False`. This gives a quick way to compare the output of your code with results that are known to be correct. If it passes all three tests we can be reasonably confident that `circle_area` is performing as expected.\n",
    "\n",
    "What other values do you recommend that we test?"
   ]
  },
  {
   "cell_type": "markdown",
   "id": "64",
   "metadata": {
    "jp-MarkdownHeadingCollapsed": true
   },
   "source": [
    "#### Solution"
   ]
  },
  {
   "cell_type": "markdown",
   "id": "65",
   "metadata": {},
   "source": [
    "```python\n",
    "def mult(a, b):\n",
    "    # return the product\n",
    "    return a * b\n",
    "\n",
    "def square(x):\n",
    "    # use mult for multiply\n",
    "    return mult(x, x)\n",
    "\n",
    "def circle_area(r):\n",
    "    # use square, which uses multiply\n",
    "    return 3.14 * square(r)\n",
    "```"
   ]
  },
  {
   "cell_type": "markdown",
   "id": "66",
   "metadata": {
    "jp-MarkdownHeadingCollapsed": true
   },
   "source": [
    "### Exercise - Pure ASCII Art\n",
    "\n",
    "Our previous implementations of `triangle` printed the result directly. Modify the previous version so that it returns a single string. Hint: remember the newline character (`\\n`).\n",
    "\n",
    "```python\n",
    "art = triangle('L', 5)\n",
    "print(art)\n",
    "```\n",
    "\n",
    "```text\n",
    "L\n",
    "LL\n",
    "LLL\n",
    "LLLL\n",
    "LLLLL\n",
    "```"
   ]
  },
  {
   "cell_type": "code",
   "execution_count": null,
   "id": "67",
   "metadata": {},
   "outputs": [],
   "source": [
    "# code here\n",
    "..."
   ]
  },
  {
   "cell_type": "markdown",
   "id": "68",
   "metadata": {},
   "source": [
    "#### Solution"
   ]
  },
  {
   "cell_type": "markdown",
   "id": "69",
   "metadata": {},
   "source": [
    "```python\n",
    "def triangle(char, height):\n",
    "    result = \"\"\n",
    "    for line_num in range(height):\n",
    "        line  = char * (line_num + 1)\n",
    "        result += line + '\\n'\n",
    "    return result\n",
    "\n",
    "art = triangle('L', 5)\n",
    "print(art)\n",
    "```"
   ]
  },
  {
   "cell_type": "markdown",
   "id": "70",
   "metadata": {},
   "source": [
    "## Components of a Function\n",
    "\n",
    "Here is the general format for defining and using a function:\n",
    "\n",
    "```python\n",
    "# function definition with name, parameters, body, and return\n",
    "# parameters and return are typical, but optional\n",
    "def fn_name(param1, param2, ...):\n",
    "    '''\n",
    "    docstring: a triple-quoted string immediately following the function header\n",
    "    '''\n",
    "    # body code here\n",
    "    return return_value\n",
    "\n",
    "...\n",
    "\n",
    "# function call with parameters and assignment\n",
    "value = fn_name(arg1, arg2, ...)\n",
    "```\n",
    "\n",
    "### Docstrings\n",
    "\n",
    "Docstrings are optional comments that document the function and are used by the `help` system:"
   ]
  },
  {
   "cell_type": "code",
   "execution_count": null,
   "id": "71",
   "metadata": {},
   "outputs": [],
   "source": [
    "def repeat_string(text, n):\n",
    "    \"\"\"\n",
    "    Return a string repeated a specified number of times.\n",
    "\n",
    "    Args:\n",
    "        text (str): The string to be repeated.\n",
    "        n (int): The number of times to repeat the string.\n",
    "\n",
    "    Returns:\n",
    "        str: The input string repeated n times.\n",
    "    \"\"\"\n",
    "    return text * n"
   ]
  },
  {
   "cell_type": "code",
   "execution_count": null,
   "id": "72",
   "metadata": {},
   "outputs": [],
   "source": [
    "help(repeat_string)"
   ]
  },
  {
   "cell_type": "markdown",
   "id": "73",
   "metadata": {},
   "source": [
    "Note that docstrings should be used to explain what the function *does*, not how it *works*.\n",
    "\n",
    "It may seem silly that the docstring in this example is longer than the code it describes, but it is not uncommon for functions that are used and/or maintained by others. In other cases, a single-line docstring may suffice:"
   ]
  },
  {
   "cell_type": "code",
   "execution_count": null,
   "id": "74",
   "metadata": {},
   "outputs": [],
   "source": [
    "def repeat_string(text, n):\n",
    "    \"\"\" return text repeated n times \"\"\"\n",
    "    return text * n"
   ]
  },
  {
   "cell_type": "markdown",
   "id": "75",
   "metadata": {},
   "source": [
    "Here, the function name and low complexity of the code itself makes this docstring of questionable value. Deciding when and how to document your code is an intuition developed over time, and the answer will be situationally dependent. Personal projects may rely entirely on good variable names and clear code, but code shared with others will likely reflect the documentation needs and standards of the project / organization."
   ]
  },
  {
   "cell_type": "markdown",
   "id": "76",
   "metadata": {},
   "source": [
    "### Multiple Return Statements\n",
    "\n",
    "A Python function can have multiple `return` statements, or none at all. Program execution will resume at the function call when the first `return`  is encountered. For example, we could have written `my_abs` as follows:"
   ]
  },
  {
   "cell_type": "code",
   "execution_count": null,
   "id": "77",
   "metadata": {},
   "outputs": [],
   "source": [
    "def my_abs(num):\n",
    "    if num < 0:\n",
    "        return -num\n",
    "    elif num > 0:\n",
    "        return num"
   ]
  },
  {
   "cell_type": "markdown",
   "id": "78",
   "metadata": {},
   "source": [
    "Instead of modifying `num` and returning it at the end of the function, as we did before, this approach explicitly returns a value in either case.\n",
    "\n",
    "Which approach is better? The answer is largely a matter of preference, though it will also depend on the complexity of the code. Regardless, be sure all cases are correctly covered.\n",
    "\n",
    "There is a subtle bug in the code above. What is it? Run the tests below to confirm, then write a corrected version using two returns and run the tests again to confirm your fix."
   ]
  },
  {
   "cell_type": "code",
   "execution_count": null,
   "id": "79",
   "metadata": {},
   "outputs": [],
   "source": [
    "assert my_abs(-1) == 1\n",
    "assert my_abs(0) == 0\n",
    "assert my_abs(1) == 1"
   ]
  },
  {
   "cell_type": "code",
   "execution_count": null,
   "id": "80",
   "metadata": {},
   "outputs": [],
   "source": [
    "# create a corrected version of `my_abs` here, using two returns\n",
    "# can you simplify the branching in the process?\n",
    "..."
   ]
  },
  {
   "attachments": {},
   "cell_type": "markdown",
   "id": "81",
   "metadata": {},
   "source": [
    "### Return a Single Object\n",
    "\n",
    "It is important to note that `return` only allows a single object of any  type. If you need to return more than one result value, collect them in a container object like a `list`.\n",
    "\n",
    "Calculating the quotient and remainder of a division is a simple way to demonstrate this:"
   ]
  },
  {
   "cell_type": "code",
   "execution_count": null,
   "id": "82",
   "metadata": {},
   "outputs": [],
   "source": [
    "def divide_with_remainder(dividend, divisor):\n",
    "    quotient = dividend // divisor\n",
    "    remainder = dividend % divisor\n",
    "    return [quotient, remainder]  # return both values in a list"
   ]
  },
  {
   "cell_type": "code",
   "execution_count": null,
   "id": "83",
   "metadata": {},
   "outputs": [],
   "source": [
    "result = divide_with_remainder(17, 5)\n",
    "print(result)  # Output: [3, 2]"
   ]
  },
  {
   "cell_type": "markdown",
   "id": "84",
   "metadata": {},
   "source": [
    "Elements of the return value can then be assigned with indexing:"
   ]
  },
  {
   "cell_type": "code",
   "execution_count": null,
   "id": "85",
   "metadata": {},
   "outputs": [],
   "source": [
    "q = result[0]\n",
    "r = result[1]\n",
    "\n",
    "print(f\"Result: {q} with a remainder of {r}\")"
   ]
  },
  {
   "cell_type": "markdown",
   "id": "86",
   "metadata": {},
   "source": [
    "### Exercise - Analyze Character\n",
    "\n",
    "Write a function, `analyze_char` that takes a single character argument and returns its ordinal value (the number Python uses to represent the character internally) and case.\n",
    "\n",
    "```text\n",
    "Args:\n",
    "char (str): A single character to analyze\n",
    "\n",
    "Returns:\n",
    "    list: [ord_value, char_type]\n",
    "        - ord_value (int): The ordinal value of the character\n",
    "        - char_type (str): 'uppercase', 'lowercase', or 'non-letter'\n",
    "```\n",
    "\n",
    "You can use the `ord` function to convert a character into its ordinal value. Also you can use the string methods `isupper` and `islower` to test the case of a string. They both return a `bool` value (i.e., either `True` or `False`).\n",
    "\n",
    "Example usage:\n",
    "\n",
    "```python\n",
    "result = analyze_char('z')\n",
    "print(result)  # [122, 'lowercase']\n",
    "```"
   ]
  },
  {
   "cell_type": "code",
   "execution_count": null,
   "id": "87",
   "metadata": {},
   "outputs": [],
   "source": [
    "# code here\n",
    "..."
   ]
  },
  {
   "cell_type": "markdown",
   "id": "88",
   "metadata": {},
   "source": [
    "Use the tests below to check your work."
   ]
  },
  {
   "cell_type": "code",
   "execution_count": null,
   "id": "89",
   "metadata": {},
   "outputs": [],
   "source": [
    "assert analyze_char('A') == [65, 'uppercase']\n",
    "assert analyze_char('z') == [122, 'lowercase']\n",
    "assert analyze_char('5') == [53, 'non-letter']"
   ]
  },
  {
   "cell_type": "markdown",
   "id": "90",
   "metadata": {
    "jp-MarkdownHeadingCollapsed": true
   },
   "source": [
    "#### Solution"
   ]
  },
  {
   "cell_type": "markdown",
   "id": "91",
   "metadata": {},
   "source": [
    "```python\n",
    "def analyze_char(char):\n",
    "    ord_value = ord(char)\n",
    "    \n",
    "    if char.isupper():\n",
    "        return [ord_value, 'uppercase']\n",
    "    elif char.islower():\n",
    "        return [ord_value, 'lowercase']\n",
    "    else:\n",
    "        return [ord_value, 'non-letter']\n",
    "```\n",
    "\n",
    "Did you do it differently? How might you write this with only a single `return` statement?"
   ]
  },
  {
   "cell_type": "markdown",
   "id": "92",
   "metadata": {},
   "source": [
    "## Best Practices with Functions\n",
    "\n",
    "It may not yet be clear why it is worth the trouble to divide a program into\n",
    "functions. When you begin solving more complex problems, and writing longer code to do so, the benefits will become obvious: \n",
    "\n",
    "-   Creating a new function gives you an opportunity to name a group of statements, which makes your program easier to read and debug.\n",
    "-   Functions can make a program smaller by eliminating repetitive code. Later, if you make a change, you only have to make it in one place.\n",
    "-   Dividing a long program into functions allows you to debug the parts one at a time and then assemble them into a working whole\n",
    "-   Well-designed functions are often useful for many programs. Once you write and debug one, you can reuse it.\n",
    "\n",
    "Until then, get in the habit of using functions whenever you find yourself repeating code more than twice. Stop and extract that code into one or more short functions that are each designed to perform a single, well-defined task. Use parameters to make the functions flexible, and improve the code readability by naming everything effectively.\n",
    "\n",
    "Following those recommendations will go a long way towards improving the readability, maintainability, and efficiency of your code. It will also teach you to solve problems through functional decomposition - breaking big problems down into smaller ones, and building solutions from the resulting components.\n",
    "\n",
    "Adopting these practices will significantly enhance your code's readability, maintainability, and efficiency. More importantly, it will cultivate your *functional decomposition* skills. This powerful problem-solving approach involves breaking complex problems into smaller, more manageable parts, from which comprehensive solutions are constructed. Through consistent use of this approach you'll find it is an invaluable tool for tackling increasingly sophisticated programming challenges."
   ]
  },
  {
   "cell_type": "markdown",
   "id": "93",
   "metadata": {},
   "source": [
    "## Common Gotchas"
   ]
  },
  {
   "cell_type": "markdown",
   "id": "94",
   "metadata": {},
   "source": [
    "### Variables and Parameters are Local\n",
    "\n",
    "When you create a variable inside a function, it is **local**, which\n",
    "means that it only exists inside the function.\n",
    "For example, the following function takes two arguments, concatenates them, and prints the result twice."
   ]
  },
  {
   "cell_type": "code",
   "execution_count": null,
   "id": "95",
   "metadata": {},
   "outputs": [],
   "source": [
    "def increment(x):\n",
    "    result = x + 1\n",
    "    return result"
   ]
  },
  {
   "cell_type": "markdown",
   "id": "96",
   "metadata": {},
   "source": [
    "Here's an example that uses it:"
   ]
  },
  {
   "cell_type": "code",
   "execution_count": null,
   "id": "97",
   "metadata": {},
   "outputs": [],
   "source": [
    "number = 10\n",
    "answer = increment(number)\n",
    "print(answer)"
   ]
  },
  {
   "cell_type": "markdown",
   "id": "98",
   "metadata": {},
   "source": [
    "When `increment` runs, it creates a local variable named `result`, which is destroyed when the function ends. If we try to display it, we get a `NameError`:"
   ]
  },
  {
   "cell_type": "code",
   "execution_count": null,
   "id": "99",
   "metadata": {},
   "outputs": [],
   "source": [
    "print(result)"
   ]
  },
  {
   "cell_type": "markdown",
   "id": "100",
   "metadata": {},
   "source": [
    "Outside of the function, `result` is not defined. \n",
    "\n",
    "Parameters are also local.\n",
    "For example, if we also define a variable called `x` *outside* `increment()`, it is unchanged by calling the function."
   ]
  },
  {
   "cell_type": "code",
   "execution_count": null,
   "id": "101",
   "metadata": {},
   "outputs": [],
   "source": [
    "x = 42\n",
    "answer = increment(number)\n",
    "print(f\"{answer = }\")\n",
    "print(f\"{x = }\")"
   ]
  },
  {
   "cell_type": "markdown",
   "id": "102",
   "metadata": {},
   "source": [
    "### Mutable Default Parameter Values"
   ]
  },
  {
   "cell_type": "markdown",
   "id": "103",
   "metadata": {},
   "source": [
    "Using a list (or other mutable type) as a default parameter value can cause surprising behavior."
   ]
  },
  {
   "cell_type": "code",
   "execution_count": null,
   "id": "104",
   "metadata": {},
   "outputs": [],
   "source": [
    "# DON'T DO THIS - it has a hidden bug!\n",
    "def add_score(score, scores=[]):\n",
    "    scores.append(score)\n",
    "    return scores\n",
    "\n",
    "# First call\n",
    "result1 = add_score(10)\n",
    "print(result1)  # [10] - looks fine!\n",
    "\n",
    "# Second call\n",
    "result2 = add_score(20)\n",
    "print(result2)  # [10, 20] - wait, why is 10 still there?"
   ]
  },
  {
   "cell_type": "markdown",
   "id": "105",
   "metadata": {},
   "source": [
    "What's happening? Python creates the default list `[]` only ONCE when the function is defined. Every call to the function uses that same list, which keeps growing!\n",
    "\n",
    "The Solution: Use `None` as the default, then create a fresh list inside the function:"
   ]
  },
  {
   "cell_type": "code",
   "execution_count": null,
   "id": "106",
   "metadata": {},
   "outputs": [],
   "source": [
    "# DO THIS INSTEAD - correct pattern\n",
    "def add_score(score, scores=None):\n",
    "    if scores is None:\n",
    "        scores = []  # Create a new list for this call\n",
    "    scores.append(score)\n",
    "    return scores\n",
    "\n",
    "# Now each call works independently\n",
    "result1 = add_score(10)\n",
    "print(result1)  # [10]\n",
    "\n",
    "result2 = add_score(20)  \n",
    "print(result2)  # [20] - correct!"
   ]
  },
  {
   "cell_type": "markdown",
   "id": "107",
   "metadata": {},
   "source": [
    "Never use mutable objects (lists, dictionaries) as default parameter values. Always use `None` and create the object inside the function."
   ]
  },
  {
   "cell_type": "markdown",
   "id": "108",
   "metadata": {},
   "source": [
    "## Debugging\n",
    "\n",
    "Debugging can be frustrating, but it is also challenging, interesting, and sometimes even fun.\n",
    "And it is one of the most important skills you can learn.\n",
    "\n",
    "In some ways debugging is like detective work.\n",
    "You are given clues and you have to infer the events that led to the\n",
    "results you see.\n",
    "\n",
    "Debugging is also like experimental science.\n",
    "Once you have an idea about what is going wrong, you modify your program and try again.\n",
    "If your hypothesis was correct, you can predict the result of the modification, and you take a step closer to a working program.\n",
    "If your hypothesis was wrong, you have to come up with a new one.\n",
    "\n",
    "For some people, programming and debugging are the same thing; that is, programming is the process of gradually debugging a program until it does what you want.\n",
    "The idea is that you should start with a working program and make small modifications, debugging them as you go.\n",
    "\n",
    "If you find yourself spending a lot of time debugging, that is often a sign that you are writing too much code before you start tests.\n",
    "If you take smaller steps, you might find that you can move faster."
   ]
  },
  {
   "cell_type": "markdown",
   "id": "109",
   "metadata": {},
   "source": [
    "## Glossary\n",
    "\n",
    "**function definition:**\n",
    "A statement that creates a function.\n",
    "\n",
    "**header:**\n",
    " The first line of a function definition.\n",
    "\n",
    "**body:**\n",
    " The sequence of statements inside a function definition.\n",
    "\n",
    "**function object:**\n",
    "A value created by a function definition.\n",
    "The name of the function is a variable that refers to a function object.\n",
    "\n",
    "**parameter:**\n",
    " A name used inside a function to refer to the value passed as an argument.\n",
    "\n",
    "**loop:**\n",
    " A statement that runs one or more statements, often repeatedly.\n",
    "\n",
    "**local variable:**\n",
    "A variable defined inside a function, and which can only be accessed inside the function.\n",
    "\n",
    "**stack diagram:**\n",
    "A graphical representation of a stack of functions, their variables, and the values they refer to.\n",
    "\n",
    "**frame:**\n",
    " A box in a stack diagram that represents a function call.\n",
    " It contains the local variables and parameters of the function.\n",
    "\n",
    "**traceback:**\n",
    " A list of the functions that are executing, printed when an exception occurs."
   ]
  },
  {
   "cell_type": "markdown",
   "id": "110",
   "metadata": {},
   "source": [
    "## Problems"
   ]
  },
  {
   "cell_type": "markdown",
   "id": "111",
   "metadata": {},
   "source": [
    "### Vowel Counter\n",
    "\n",
    "Write a function called `count_vowels` that counts the number of vowels in a given string."
   ]
  },
  {
   "cell_type": "code",
   "execution_count": null,
   "id": "112",
   "metadata": {},
   "outputs": [],
   "source": [
    "def count_vowels(text):\n",
    "    \"\"\"\n",
    "    Count the number of vowels in the given text.\n",
    "    \n",
    "    Vowels are considered to be 'a', 'e', 'i', 'o', and 'u' (case-insensitive).\n",
    "    \n",
    "    Args:\n",
    "    text (str): The input string to check for vowels\n",
    "    \n",
    "    Returns:\n",
    "    int: The number of vowels in the text\n",
    "    \"\"\"\n",
    "\n",
    "    pass  # your function code should replace this line\n",
    "\n",
    "\n",
    "# Test the function with the following strings\n",
    "# For each, your output should look like this:\n",
    "# Number of vowels in 'hello': 2\n",
    "test_strings = [\"hello\", \"WORLD\", \"Python Programming\", \"aEiOu\", \"xyz\"]\n",
    "for s in test_strings:\n",
    "    result = count_vowels(s)\n",
    "    print(f\"Number of vowels in '{s}': {result}\")"
   ]
  },
  {
   "cell_type": "markdown",
   "id": "113",
   "metadata": {},
   "source": [
    "### Prime Number Checker\n",
    "\n",
    "Write a function that tests if a number is prime. Use the template below to write and test your code."
   ]
  },
  {
   "cell_type": "code",
   "execution_count": null,
   "id": "114",
   "metadata": {},
   "outputs": [],
   "source": [
    "def is_prime(number):\n",
    "    \"\"\"\n",
    "    Check if a given number is prime.\n",
    "    \n",
    "    A prime number is only divisible by 1 and itself.\n",
    "    Numbers less than 2 are not considered prime.\n",
    "    \n",
    "    Args:\n",
    "    number (int): The number to check for primality\n",
    "    \n",
    "    Returns:\n",
    "    bool: True if the number is prime, False otherwise\n",
    "    \"\"\"\n",
    "    # Your code here\n",
    "    pass  # Remove this line when you start coding\n",
    "\n",
    "# Test your function\n",
    "test_numbers = [1, 2, 3, 4, 5, 6, 7, 8, 9, 10, 11, 97, 100]\n",
    "\n",
    "for num in test_numbers:\n",
    "    print(f\"{num} is prime: {is_prime(num)}\")"
   ]
  },
  {
   "cell_type": "markdown",
   "id": "115",
   "metadata": {},
   "source": [
    "### Right Justified Printing\n",
    "\n",
    "Write a function named `print_right` that takes a string named `text` as a parameter and prints the string with enough leading spaces that the last letter of the string is in the 40th column of the display."
   ]
  },
  {
   "cell_type": "markdown",
   "id": "116",
   "metadata": {},
   "source": [
    "Hint: Use the `len` function, the string concatenation operator (`+`) and the string repetition operator (`*`).\n",
    "\n",
    "Here's an example that shows how it should work."
   ]
  },
  {
   "cell_type": "markdown",
   "id": "117",
   "metadata": {
    "tags": [
     "keep"
    ]
   },
   "source": [
    "```python\n",
    "print_right(\"Monty\")\n",
    "print_right(\"Python's\")\n",
    "print_right(\"Flying Circus\")\n",
    "```\n",
    "\n",
    "Should produce the following output. The first two lines are only included for reference.\n",
    "\n",
    "```text\n",
    "         1         2         3         4\n",
    "1234567890123456789012345678901234567890\n",
    "                                   Monty\n",
    "                                Python's\n",
    "                           Flying Circus\n",
    "```"
   ]
  },
  {
   "cell_type": "code",
   "execution_count": null,
   "id": "118",
   "metadata": {},
   "outputs": [],
   "source": [
    "def print_right():\n",
    "    ..."
   ]
  },
  {
   "cell_type": "markdown",
   "id": "119",
   "metadata": {},
   "source": [
    "### Bottles of Beer\n",
    "\n",
    "The song \"99 Bottles of Beer\" starts with this verse:\n",
    "\n",
    "> 99 bottles of beer on the wall  \n",
    "> 99 bottles of beer  \n",
    "> Take one down, pass it around  \n",
    "> 98 bottles of beer on the wall  \n",
    "\n",
    "Then the second verse is the same, except that it starts with 98 bottles and ends with 97. The song continues -- for a very long time -- until there are 0 bottles of beer.\n",
    "\n",
    "Write a function called `bottle_verse` that takes a number as a parameter and displays the verse that starts with the given number of bottles. Then use a loop to call `bottle_verse` 100 times."
   ]
  },
  {
   "cell_type": "code",
   "execution_count": null,
   "id": "120",
   "metadata": {},
   "outputs": [],
   "source": [
    "def bottle_verse(verse_number):\n",
    "    ...\n"
   ]
  },
  {
   "cell_type": "markdown",
   "id": "121",
   "metadata": {},
   "source": [
    "---\n",
    "\n",
    "Auburn University / Industrial and Systems Engineering  \n",
    "INSY 3010 / Programming and Databases for ISE  \n",
    "© Copyright 2025, Danny J. O'Leary.  \n",
    "For licensing, attribution, and information: [GitHub INSY3010-Fall24](https://github.com/olearydj/INSY3010)\n"
   ]
  }
 ],
 "metadata": {
  "celltoolbar": "Tags",
  "kernelspec": {
   "display_name": "Python 3 (ipykernel)",
   "language": "python",
   "name": "python3"
  },
  "language_info": {
   "codemirror_mode": {
    "name": "ipython",
    "version": 3
   },
   "file_extension": ".py",
   "mimetype": "text/x-python",
   "name": "python",
   "nbconvert_exporter": "python",
   "pygments_lexer": "ipython3",
   "version": "3.13.5"
  }
 },
 "nbformat": 4,
 "nbformat_minor": 5
}
