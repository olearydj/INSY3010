{
 "cells": [
  {
   "cell_type": "markdown",
   "id": "0",
   "metadata": {},
   "source": [
    "# Four Pillars Workshops"
   ]
  },
  {
   "cell_type": "markdown",
   "id": "1",
   "metadata": {},
   "source": [
    "## Workshop 1 - Production Quality Inspector"
   ]
  },
  {
   "cell_type": "markdown",
   "id": "2",
   "metadata": {},
   "source": [
    "This workshop will focus on building up a software solution to a realistic (but simple) problem line-by-line / cell by cell. This allows us to emphasize and practice syntax and basic tools before combining them into a more complex solution.\n",
    "\n",
    "**Problem Context:**  \n",
    "You are monitoring a manufacturing line that produces metal rods. The specification is 100.0mm length with +/-2.00mm tolerance. Get data and report summary statistics as described below."
   ]
  },
  {
   "cell_type": "markdown",
   "id": "3",
   "metadata": {},
   "source": [
    "### Step 1 - Get a Measurement"
   ]
  },
  {
   "cell_type": "markdown",
   "id": "4",
   "metadata": {},
   "source": [
    "Get a single rod measurement from the user as a floating point value. Assign it to the variable `length_mm`. Use the prompt \"Enter rod length in mm: \"."
   ]
  },
  {
   "cell_type": "code",
   "execution_count": null,
   "id": "5",
   "metadata": {},
   "outputs": [],
   "source": [
    "# get rod measurement\n"
   ]
  },
  {
   "cell_type": "markdown",
   "id": "6",
   "metadata": {},
   "source": [
    "### Step 2 - Calculate the Deviation"
   ]
  },
  {
   "cell_type": "markdown",
   "id": "7",
   "metadata": {},
   "source": [
    "Assign the specified length to a variable named `target`. Then calculate the deviation from that length and assign the absolute value of that result to a variable named `delta`."
   ]
  },
  {
   "cell_type": "code",
   "execution_count": null,
   "id": "8",
   "metadata": {},
   "outputs": [],
   "source": [
    "# calculate absolute value of the deviation\n"
   ]
  },
  {
   "cell_type": "markdown",
   "id": "9",
   "metadata": {},
   "source": [
    "### Step 3 - Check Tolerance"
   ]
  },
  {
   "cell_type": "markdown",
   "id": "10",
   "metadata": {},
   "source": [
    "Assign the allowable variance to a variable named `tol`. Then print \"FAIL\" if the measured deviation exceeds that tolerance, \"PASS\" if it does not."
   ]
  },
  {
   "cell_type": "code",
   "execution_count": null,
   "id": "11",
   "metadata": {},
   "outputs": [],
   "source": [
    "# report PASS / FAIL on tolerance\n"
   ]
  },
  {
   "cell_type": "markdown",
   "id": "12",
   "metadata": {},
   "source": [
    "### Step 4 - Provide Detailed Feedback"
   ]
  },
  {
   "cell_type": "markdown",
   "id": "13",
   "metadata": {},
   "source": [
    "Enhance the previous PASS / FAIL message to provide more useful details. Your message should exactly match the following formats:\n",
    "\n",
    "```text\n",
    "FAIL: 102.5mm (deviation: 2.50mm)\n",
    "PASS: 99.2mm (deviation: 0.80mm)\n",
    "```\n",
    "\n",
    "Copy your code from step 3 and adjust as required."
   ]
  },
  {
   "cell_type": "code",
   "execution_count": null,
   "id": "14",
   "metadata": {},
   "outputs": [],
   "source": [
    "# improve message details\n"
   ]
  },
  {
   "cell_type": "markdown",
   "id": "15",
   "metadata": {},
   "source": [
    "### Step 5 - Wrap in a Loop"
   ]
  },
  {
   "cell_type": "markdown",
   "id": "16",
   "metadata": {},
   "source": [
    "Create a loop to accept multiple measurements from the user. Stop when they enter 'done' (case insensitive, or an empty string. Collect each measurement in a list called `lengths_mm`. After the loop completes print the number of measurements collected in the following format:\n",
    "\n",
    "```text\n",
    "Collected 7 measurements.\n",
    "```"
   ]
  },
  {
   "cell_type": "code",
   "execution_count": null,
   "id": "17",
   "metadata": {},
   "outputs": [],
   "source": [
    "# collect all measurement data\n"
   ]
  },
  {
   "cell_type": "markdown",
   "id": "18",
   "metadata": {},
   "source": [
    "### Step 6 - Process the Data"
   ]
  },
  {
   "cell_type": "markdown",
   "id": "19",
   "metadata": {},
   "source": [
    "Process each measurement collected using the code from steps 2 and 4. Also calculate the total number of failures and their average deviance."
   ]
  },
  {
   "cell_type": "code",
   "execution_count": null,
   "id": "20",
   "metadata": {},
   "outputs": [],
   "source": [
    "# check tolerance and provide detailed feedback for each rod\n"
   ]
  },
  {
   "cell_type": "markdown",
   "id": "21",
   "metadata": {},
   "source": [
    "### Step 7 - Report the Results"
   ]
  },
  {
   "cell_type": "markdown",
   "id": "22",
   "metadata": {},
   "source": [
    "Calculate the defect rate (i.e., the percentage of failures). Print a report exactly as shown below:\n",
    "\n",
    "```text\n",
    "Production Summary:\n",
    "\n",
    "Total Inspected:  7 rods\n",
    "Failures:         2 rods\n",
    "Defect Rate:      28.6%\n",
    "Average Deviance: 3.35mm\n",
    "```\n",
    "\n",
    "Hint: use tabs to align the results column."
   ]
  },
  {
   "cell_type": "code",
   "execution_count": null,
   "id": "23",
   "metadata": {},
   "outputs": [],
   "source": [
    "# generate report\n"
   ]
  },
  {
   "cell_type": "markdown",
   "id": "24",
   "metadata": {},
   "source": [
    "### Step 8 - Combine into a Single Program"
   ]
  },
  {
   "cell_type": "markdown",
   "id": "25",
   "metadata": {},
   "source": [
    "Combine all the code from above into a single cell and ensure it still works correctly."
   ]
  },
  {
   "cell_type": "code",
   "execution_count": null,
   "id": "26",
   "metadata": {},
   "outputs": [],
   "source": [
    "# single-cell solution\n"
   ]
  },
  {
   "cell_type": "markdown",
   "id": "27",
   "metadata": {},
   "source": [
    "### Step 9 - Fix Bugs"
   ]
  },
  {
   "cell_type": "markdown",
   "id": "28",
   "metadata": {},
   "source": [
    "What happens if the user doesn't enter any numbers? What happens if none of the rods exceed tolerances? What if the user inadvertently enters a negative number? How would you correct those problems?"
   ]
  },
  {
   "cell_type": "code",
   "execution_count": null,
   "id": "29",
   "metadata": {},
   "outputs": [],
   "source": [
    "# fix the bugs identified above\n"
   ]
  },
  {
   "cell_type": "markdown",
   "id": "30",
   "metadata": {},
   "source": [
    "## Workshop 2 - Pseudocode and Implementation"
   ]
  },
  {
   "cell_type": "markdown",
   "id": "31",
   "metadata": {},
   "source": [
    "for Thursday..."
   ]
  },
  {
   "cell_type": "code",
   "execution_count": null,
   "id": "32",
   "metadata": {},
   "outputs": [],
   "source": []
  }
 ],
 "metadata": {
  "kernelspec": {
   "display_name": "INSY3010-PySQL",
   "language": "python",
   "name": "insy3010-pysql"
  },
  "language_info": {
   "codemirror_mode": {
    "name": "ipython",
    "version": 3
   },
   "file_extension": ".py",
   "mimetype": "text/x-python",
   "name": "python",
   "nbconvert_exporter": "python",
   "pygments_lexer": "ipython3",
   "version": "3.13.5"
  }
 },
 "nbformat": 4,
 "nbformat_minor": 5
}
