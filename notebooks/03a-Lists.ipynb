{
 "cells": [
  {
   "cell_type": "markdown",
   "id": "0",
   "metadata": {
    "tags": [
     "remove-cell"
    ]
   },
   "source": [
    "# Lists\n",
    "\n",
    "This material is from Chapter 9 of [*Think Python*, 3rd edition](https://greenteapress.com/wp/think-python-3rd-edition), by Allen B. Downey. I have adapted it for this class."
   ]
  },
  {
   "cell_type": "markdown",
   "id": "1",
   "metadata": {
    "id": "3c25ca7e"
   },
   "source": [
    "This chapter presents one of Python's most useful built-in types, lists.\n",
    "You will also learn more about objects and what can happen when multiple variables refer to the same object.\n",
    "\n",
    "In the exercises at the end of the chapter, we'll make a word list and use it to search for special words like palindromes and anagrams."
   ]
  },
  {
   "cell_type": "markdown",
   "id": "2",
   "metadata": {
    "id": "4d32b3e2"
   },
   "source": [
    "## A list is a sequence\n",
    "\n",
    "Like a string, a **list** is a sequence of values. In a string, the\n",
    "values are characters; in a list, they can be any type.\n",
    "The values in a list are called **elements**.\n",
    "\n",
    "There are several ways to create a new list; the simplest is to enclose the elements in square brackets (`[` and `]`).\n",
    "For example, here is a list of two integers."
   ]
  },
  {
   "cell_type": "code",
   "execution_count": null,
   "id": "3",
   "metadata": {
    "id": "a16a119b"
   },
   "outputs": [],
   "source": [
    "numbers = [42, 123]\n",
    "numbers[1]"
   ]
  },
  {
   "cell_type": "markdown",
   "id": "4",
   "metadata": {
    "id": "b5d6112c"
   },
   "source": [
    "And here's a list of three strings."
   ]
  },
  {
   "cell_type": "code",
   "execution_count": null,
   "id": "5",
   "metadata": {
    "id": "ac7a4a0b"
   },
   "outputs": [],
   "source": [
    "cheeses = ['Cheddar', 'Edam', 'Gouda']"
   ]
  },
  {
   "cell_type": "markdown",
   "id": "6",
   "metadata": {
    "id": "dda58c67"
   },
   "source": [
    "The elements of a list don't have to be the same type.\n",
    "The following list contains a string, a float, an integer, and even another list."
   ]
  },
  {
   "cell_type": "code",
   "execution_count": null,
   "id": "7",
   "metadata": {
    "id": "18fb0e21"
   },
   "outputs": [],
   "source": [
    "t = ['spam', 2.0, 5, [10, 20]]"
   ]
  },
  {
   "cell_type": "markdown",
   "id": "8",
   "metadata": {
    "id": "147fa217"
   },
   "source": [
    "A list within another list is **nested**.\n",
    "\n",
    "A list that contains no elements is called an empty list; you can create\n",
    "one with empty brackets, `[]`."
   ]
  },
  {
   "cell_type": "code",
   "execution_count": null,
   "id": "9",
   "metadata": {
    "id": "0ff58916"
   },
   "outputs": [],
   "source": [
    "empty = []"
   ]
  },
  {
   "cell_type": "markdown",
   "id": "10",
   "metadata": {
    "id": "f95381bc"
   },
   "source": [
    "The `len` function returns the length of a list."
   ]
  },
  {
   "cell_type": "code",
   "execution_count": null,
   "id": "11",
   "metadata": {
    "id": "f3153f36"
   },
   "outputs": [],
   "source": [
    "len(cheeses)"
   ]
  },
  {
   "cell_type": "markdown",
   "id": "12",
   "metadata": {
    "id": "371403a3"
   },
   "source": [
    "The length of an empty list is `0`."
   ]
  },
  {
   "cell_type": "code",
   "execution_count": null,
   "id": "13",
   "metadata": {
    "id": "58727d35",
    "tags": [
     "remove-cell"
    ]
   },
   "outputs": [],
   "source": [
    "len(empty)"
   ]
  },
  {
   "cell_type": "markdown",
   "id": "14",
   "metadata": {
    "id": "e0b8ff01"
   },
   "source": [
    "## Lists are mutable\n",
    "\n",
    "To read an element of a list, we can use the bracket operator.\n",
    "The index of the first element is `0`."
   ]
  },
  {
   "cell_type": "code",
   "execution_count": null,
   "id": "15",
   "metadata": {
    "id": "9deb85a3"
   },
   "outputs": [],
   "source": [
    "cheeses[0]"
   ]
  },
  {
   "cell_type": "markdown",
   "id": "16",
   "metadata": {
    "id": "9747e951"
   },
   "source": [
    "Unlike strings, lists are mutable. When the bracket operator appears on\n",
    "the left side of an assignment, it identifies the element of the list\n",
    "that will be assigned."
   ]
  },
  {
   "cell_type": "code",
   "execution_count": null,
   "id": "17",
   "metadata": {
    "id": "98ec5d9c"
   },
   "outputs": [],
   "source": [
    "numbers[1] = 17\n",
    "numbers"
   ]
  },
  {
   "cell_type": "markdown",
   "id": "18",
   "metadata": {
    "id": "5097a517"
   },
   "source": [
    "The second element of `numbers`, which used to be `123`, is now `17`.\n",
    "\n",
    "List indices work the same way as string indices:\n",
    "\n",
    "-   Any integer expression can be used as an index.\n",
    "\n",
    "-   If you try to read or write an element that does not exist, you get\n",
    "    an `IndexError`.\n",
    "\n",
    "-   If an index has a negative value, it counts backward from the end of\n",
    "    the list.\n",
    "\n",
    "The `in` operator works on lists -- it checks whether a given element appears anywhere in the list."
   ]
  },
  {
   "cell_type": "code",
   "execution_count": null,
   "id": "19",
   "metadata": {
    "id": "000aed26"
   },
   "outputs": [],
   "source": [
    "'Edam' in cheeses"
   ]
  },
  {
   "cell_type": "code",
   "execution_count": null,
   "id": "20",
   "metadata": {
    "id": "YtSYWMdGNbKU"
   },
   "outputs": [],
   "source": [
    "\"z\" in \"cheese\""
   ]
  },
  {
   "cell_type": "code",
   "execution_count": null,
   "id": "21",
   "metadata": {
    "id": "bcb8929c"
   },
   "outputs": [],
   "source": [
    "'Wensleydale' in cheeses"
   ]
  },
  {
   "cell_type": "markdown",
   "id": "22",
   "metadata": {
    "id": "89d01ebf"
   },
   "source": [
    "Although a list can contain another list, the nested list still counts as a single element -- so in the following list, there are only four elements."
   ]
  },
  {
   "cell_type": "code",
   "execution_count": null,
   "id": "23",
   "metadata": {
    "id": "5ad51a26"
   },
   "outputs": [],
   "source": [
    "t = ['spam', 2.0, 5, [10, 20]]\n",
    "len(t)"
   ]
  },
  {
   "cell_type": "markdown",
   "id": "24",
   "metadata": {
    "id": "4e0ea41d"
   },
   "source": [
    "And `10` is not considered to be an element of `t` because it is an element of a nested list, not `t`."
   ]
  },
  {
   "cell_type": "code",
   "execution_count": null,
   "id": "25",
   "metadata": {
    "id": "156dbc10"
   },
   "outputs": [],
   "source": [
    "10 in t"
   ]
  },
  {
   "cell_type": "markdown",
   "id": "26",
   "metadata": {
    "id": "1ee7a4d9"
   },
   "source": [
    "## List slices\n",
    "\n",
    "The slice operator works on lists the same way it works on strings.\n",
    "The following example selects the second and third elements from a list of four letters."
   ]
  },
  {
   "cell_type": "code",
   "execution_count": null,
   "id": "27",
   "metadata": {
    "id": "70b16371"
   },
   "outputs": [],
   "source": [
    "letters = ['a', 'b', 'c', 'd']\n",
    "letters[1:3]"
   ]
  },
  {
   "cell_type": "markdown",
   "id": "28",
   "metadata": {
    "id": "bc59d952"
   },
   "source": [
    "If you omit the first index, the slice starts at the beginning."
   ]
  },
  {
   "cell_type": "code",
   "execution_count": null,
   "id": "29",
   "metadata": {
    "id": "e67bab33"
   },
   "outputs": [],
   "source": [
    "letters[:2]"
   ]
  },
  {
   "cell_type": "markdown",
   "id": "30",
   "metadata": {
    "id": "1aaaae86"
   },
   "source": [
    "If you omit the second, the slice goes to the end."
   ]
  },
  {
   "cell_type": "code",
   "execution_count": null,
   "id": "31",
   "metadata": {
    "id": "a310f506"
   },
   "outputs": [],
   "source": [
    "letters[2:]"
   ]
  },
  {
   "cell_type": "markdown",
   "id": "32",
   "metadata": {
    "id": "67ad02e8"
   },
   "source": [
    "So if you omit both, the slice is a copy of the whole list."
   ]
  },
  {
   "cell_type": "code",
   "execution_count": null,
   "id": "33",
   "metadata": {
    "id": "1385a75e"
   },
   "outputs": [],
   "source": [
    "letters[:]"
   ]
  },
  {
   "cell_type": "markdown",
   "id": "34",
   "metadata": {
    "id": "9232c1ef"
   },
   "source": [
    "Another way to copy a list is to use the `list` function."
   ]
  },
  {
   "cell_type": "code",
   "execution_count": null,
   "id": "35",
   "metadata": {
    "id": "a0ca0135"
   },
   "outputs": [],
   "source": [
    "list(letters)"
   ]
  },
  {
   "cell_type": "markdown",
   "id": "36",
   "metadata": {
    "id": "50e4b182"
   },
   "source": [
    "Because `list` is the name of a built-in function, you should avoid using it as a variable name.\n"
   ]
  },
  {
   "cell_type": "markdown",
   "id": "37",
   "metadata": {
    "id": "1b057c0c"
   },
   "source": [
    "## List operations\n",
    "\n",
    "The `+` operator concatenates lists."
   ]
  },
  {
   "cell_type": "code",
   "execution_count": null,
   "id": "38",
   "metadata": {
    "id": "66804de0"
   },
   "outputs": [],
   "source": [
    "t1 = [1, 2]\n",
    "t2 = [3, 4]\n",
    "t1 + t2"
   ]
  },
  {
   "cell_type": "markdown",
   "id": "39",
   "metadata": {
    "id": "474a5c40"
   },
   "source": [
    "The `*` operator repeats a list a given number of times."
   ]
  },
  {
   "cell_type": "code",
   "execution_count": null,
   "id": "40",
   "metadata": {
    "id": "96620f93"
   },
   "outputs": [],
   "source": [
    "['spam'] * 4"
   ]
  },
  {
   "cell_type": "markdown",
   "id": "41",
   "metadata": {
    "id": "5b33bc51"
   },
   "source": [
    "No other mathematical operators work with lists, but the built-in function `sum` adds up the elements."
   ]
  },
  {
   "cell_type": "code",
   "execution_count": null,
   "id": "42",
   "metadata": {
    "id": "0808ed08"
   },
   "outputs": [],
   "source": [
    "sum(t1)"
   ]
  },
  {
   "cell_type": "markdown",
   "id": "43",
   "metadata": {
    "id": "f216a14d"
   },
   "source": [
    "And `min` and `max` find the smallest and largest elements."
   ]
  },
  {
   "cell_type": "code",
   "execution_count": null,
   "id": "44",
   "metadata": {
    "id": "7ed7e53d"
   },
   "outputs": [],
   "source": [
    "min(t1)"
   ]
  },
  {
   "cell_type": "code",
   "execution_count": null,
   "id": "45",
   "metadata": {
    "id": "dda02e4e"
   },
   "outputs": [],
   "source": [
    "max(t2)"
   ]
  },
  {
   "cell_type": "markdown",
   "id": "46",
   "metadata": {
    "id": "533a2009"
   },
   "source": [
    "## List methods\n",
    "\n",
    "Python provides methods that operate on lists. For example, `append`\n",
    "adds a new element to the end of a list:"
   ]
  },
  {
   "cell_type": "code",
   "execution_count": null,
   "id": "47",
   "metadata": {
    "id": "bcf04ef9"
   },
   "outputs": [],
   "source": [
    "letters.append('e')\n",
    "letters"
   ]
  },
  {
   "cell_type": "markdown",
   "id": "48",
   "metadata": {
    "id": "ccc57f77"
   },
   "source": [
    "`extend` takes a list as an argument and appends all of the elements:"
   ]
  },
  {
   "cell_type": "code",
   "execution_count": null,
   "id": "49",
   "metadata": {
    "id": "be55916d"
   },
   "outputs": [],
   "source": [
    "letters.extend(['f', 'g'])\n",
    "letters"
   ]
  },
  {
   "cell_type": "markdown",
   "id": "50",
   "metadata": {
    "id": "0f39d9f6"
   },
   "source": [
    "There are two methods that remove elements from a list.\n",
    "If you know the index of the element you want, you can use `pop`."
   ]
  },
  {
   "cell_type": "code",
   "execution_count": null,
   "id": "51",
   "metadata": {
    "id": "b22da905"
   },
   "outputs": [],
   "source": [
    "t = ['a', 'b', 'c']\n",
    "t.pop(1)"
   ]
  },
  {
   "cell_type": "markdown",
   "id": "52",
   "metadata": {
    "id": "6729415a"
   },
   "source": [
    "The return value is the element that was removed.\n",
    "And we can confirm that the list has been modified."
   ]
  },
  {
   "cell_type": "code",
   "execution_count": null,
   "id": "53",
   "metadata": {
    "id": "01bdff91"
   },
   "outputs": [],
   "source": [
    "t"
   ]
  },
  {
   "cell_type": "markdown",
   "id": "54",
   "metadata": {
    "id": "1e97ee7d"
   },
   "source": [
    "If you know the element you want to remove (but not the index), you can use `remove`:"
   ]
  },
  {
   "cell_type": "code",
   "execution_count": null,
   "id": "55",
   "metadata": {
    "id": "babe366e"
   },
   "outputs": [],
   "source": [
    "t = ['a', 'b', 'c']\n",
    "t.remove('b')"
   ]
  },
  {
   "cell_type": "markdown",
   "id": "56",
   "metadata": {
    "id": "60e710fe"
   },
   "source": [
    "The return value from `remove` is `None`.\n",
    "But we can confirm that the list has been modified."
   ]
  },
  {
   "cell_type": "code",
   "execution_count": null,
   "id": "57",
   "metadata": {
    "id": "f80f5b1d"
   },
   "outputs": [],
   "source": [
    "t"
   ]
  },
  {
   "cell_type": "markdown",
   "id": "58",
   "metadata": {
    "id": "2a9448a8"
   },
   "source": [
    "If the element you ask for is not in the list, that's a ValueError."
   ]
  },
  {
   "cell_type": "code",
   "execution_count": null,
   "id": "59",
   "metadata": {
    "id": "861f8e7e",
    "tags": [
     "raises-exception"
    ]
   },
   "outputs": [],
   "source": [
    "t.remove('d')"
   ]
  },
  {
   "cell_type": "markdown",
   "id": "60",
   "metadata": {
    "id": "liuLPROa5R_G"
   },
   "source": [
    "To see available methods for an object, use `help` and ignore those surrounded by double underbars (e.g. `__add__`), also known as *dunder* methods. Dunder methods should not be used directly."
   ]
  },
  {
   "cell_type": "code",
   "execution_count": null,
   "id": "61",
   "metadata": {
    "id": "I1kdCAOEqt4R"
   },
   "outputs": [],
   "source": [
    "help(t)"
   ]
  },
  {
   "cell_type": "markdown",
   "id": "62",
   "metadata": {},
   "source": [
    "Some of the most commonly used list methods in Python are tabulated below. As before, the `list.method()` notation indicates that any list object (`list`) can call these methods using dot notation, as with `letters.append('e')` above. For reasons beyond the scope of this course, the format `list.append(letters, 'e')` will also work, but is strongly discouraged.\n",
    "\n",
    "| **Category**           | **Method**                      | **Description** |\n",
    "|------------------------|--------------------------------|----------------|\n",
    "| **Adding Elements**    | `list.append(item)`            | Adds `item` to the end of the list. |\n",
    "|                        | `list.insert(index, item)`     | Inserts `item` at the specified `index`. |\n",
    "| **Removing Elements**  | `list.pop(index)`              | Removes and returns the item at `index` (default is last item). |\n",
    "|                        | `list.remove(item)`           | Removes the first occurrence of `item`. |\n",
    "|                        | `list.clear()`                | Removes all items from the list. |\n",
    "| **Finding & Counting** | `list.index(item, start, end)` | Returns the index of the first occurrence of `item`. |\n",
    "|                        | `list.count(item)`            | Returns the number of occurrences of `item`. |\n",
    "| **Sorting & Reversing**| `list.sort(key, reverse)`     | Sorts the list in place (ascending by default). |\n",
    "|                        | `list.reverse()`              | Reverses the list in place. |\n",
    "| **Copying & Extending**| `list.copy()`                 | Returns a shallow copy of the list. |\n",
    "|                        | `list.extend(iterable)`       | Extends the list by appending elements from `iterable`. |\n",
    "\n",
    "Note that list methods modify the list in place unless otherwise stated. For more details, refer to [the Python documentation](https://docs.python.org/3.11/tutorial/datastructures.html#more-on-lists).\n"
   ]
  },
  {
   "cell_type": "code",
   "execution_count": null,
   "id": "63",
   "metadata": {},
   "outputs": [],
   "source": [
    "letters = list('abcd')\n",
    "\n",
    "# not like this!\n",
    "list.append(letters, 'e')\n",
    "letters"
   ]
  },
  {
   "cell_type": "markdown",
   "id": "64",
   "metadata": {
    "id": "18305f96"
   },
   "source": [
    "## Lists and strings\n",
    "\n",
    "A string is a sequence of characters and a list is a sequence of values,\n",
    "but a list of characters is not the same as a string.\n",
    "To convert from a string to a list of characters, you can use the `list` function."
   ]
  },
  {
   "cell_type": "code",
   "execution_count": null,
   "id": "65",
   "metadata": {
    "id": "1b50bc13"
   },
   "outputs": [],
   "source": [
    "s = 'spam'\n",
    "t = list(s)\n",
    "t"
   ]
  },
  {
   "cell_type": "markdown",
   "id": "66",
   "metadata": {
    "id": "0291ef69"
   },
   "source": [
    "The `list` function breaks a string into individual letters.\n",
    "If you want to break a string into words, you can use the `split` method:"
   ]
  },
  {
   "cell_type": "code",
   "execution_count": null,
   "id": "67",
   "metadata": {
    "id": "c28e5127"
   },
   "outputs": [],
   "source": [
    "s = 'pining for the fjords'\n",
    "t = s.split()\n",
    "t"
   ]
  },
  {
   "cell_type": "markdown",
   "id": "68",
   "metadata": {
    "id": "0e16909d"
   },
   "source": [
    "An optional argument called a **delimiter** specifies which characters to use as word boundaries. The following example uses a hyphen as a delimiter."
   ]
  },
  {
   "cell_type": "code",
   "execution_count": null,
   "id": "69",
   "metadata": {
    "id": "ec6ea206"
   },
   "outputs": [],
   "source": [
    "s = 'ex-parrot'\n",
    "t = s.split('-')\n",
    "t"
   ]
  },
  {
   "cell_type": "markdown",
   "id": "70",
   "metadata": {
    "id": "7c61f916"
   },
   "source": [
    "If you have a list of strings, you can concatenate them into a single string using `join`.\n",
    "`join` is a string method, so you have to invoke it on the delimiter and pass the list as an argument."
   ]
  },
  {
   "cell_type": "code",
   "execution_count": null,
   "id": "71",
   "metadata": {
    "id": "75c74d3c"
   },
   "outputs": [],
   "source": [
    "delimiter = ' '\n",
    "t = ['pining', 'for', 'the', 'fjords']\n",
    "s = delimiter.join(t)\n",
    "s"
   ]
  },
  {
   "cell_type": "markdown",
   "id": "72",
   "metadata": {
    "id": "bedd842b"
   },
   "source": [
    "In this case the delimiter is a space character, so `join` puts a space\n",
    "between words.\n",
    "To join strings without spaces, you can use the empty string, `''`, as a delimiter."
   ]
  },
  {
   "cell_type": "markdown",
   "id": "73",
   "metadata": {
    "id": "f90db780"
   },
   "source": [
    "## Glossary\n",
    "\n",
    "**list:**\n",
    " An object that contains a sequence of values.\n",
    "\n",
    "**element:**\n",
    " One of the values in a list or other sequence.\n",
    "\n",
    "**nested list:**\n",
    "A list that is an element of another list.\n",
    "\n",
    "**delimiter:**\n",
    " A character or string used to indicate where a string should be split.\n"
   ]
  },
  {
   "cell_type": "markdown",
   "id": "74",
   "metadata": {
    "id": "E9uQezcC16uz"
   },
   "source": [
    "## Exercises\n",
    "\n",
    "### List Practice\n",
    "\n",
    "Given the user inputs, complete a program that does the following tasks:\n",
    "\n",
    "1. Define a list, `basic_python_types`, containing the user inputs: `base_type_1`, `base_type_2`, and `base_type_3` in the same order."
   ]
  },
  {
   "cell_type": "code",
   "execution_count": null,
   "id": "75",
   "metadata": {
    "id": "CqC6ias64oCg"
   },
   "outputs": [],
   "source": [
    "# work problem 1 here"
   ]
  },
  {
   "cell_type": "markdown",
   "id": "76",
   "metadata": {
    "id": "E9uQezcC16uz"
   },
   "source": [
    "2. Define a list, `interm_python_types`, containing the user inputs, `int_type_1` and `int_type_2`, in the same order. "
   ]
  },
  {
   "cell_type": "code",
   "execution_count": null,
   "id": "77",
   "metadata": {
    "id": "WZUwiScxgR5m"
   },
   "outputs": [],
   "source": [
    "# work problem 2 here"
   ]
  },
  {
   "cell_type": "markdown",
   "id": "78",
   "metadata": {
    "id": "E9uQezcC16uz"
   },
   "source": [
    "3. Define a list, `all_python_types`, by concatenating `basic_python_types` and `interm_python_types`."
   ]
  },
  {
   "cell_type": "code",
   "execution_count": null,
   "id": "79",
   "metadata": {
    "id": "H6LO53PKgceJ"
   },
   "outputs": [],
   "source": [
    "# work problem 3 here"
   ]
  },
  {
   "cell_type": "markdown",
   "id": "80",
   "metadata": {
    "id": "E9uQezcC16uz"
   },
   "source": [
    "4. Append the user input, `adv_python_type`, to the end of `all_python_types`."
   ]
  },
  {
   "cell_type": "code",
   "execution_count": null,
   "id": "81",
   "metadata": {
    "id": "yAScNtQEg4CH"
   },
   "outputs": [],
   "source": [
    "# work problem 4 here"
   ]
  },
  {
   "cell_type": "markdown",
   "id": "82",
   "metadata": {
    "id": "E9uQezcC16uz"
   },
   "source": [
    "5. Replace `base_type_2` in `all_python_types` with `adv_python_type`."
   ]
  },
  {
   "cell_type": "code",
   "execution_count": null,
   "id": "83",
   "metadata": {
    "id": "wuZikB2Hg_Gb"
   },
   "outputs": [],
   "source": [
    "# work problem 5 here"
   ]
  },
  {
   "cell_type": "markdown",
   "id": "84",
   "metadata": {
    "id": "E9uQezcC16uz"
   },
   "source": [
    "6. Remove the first occurrence of `adv_python_type` from `all_python_types` without using `index()`."
   ]
  },
  {
   "cell_type": "code",
   "execution_count": null,
   "id": "85",
   "metadata": {
    "id": "AjWiq2MAshge"
   },
   "outputs": [],
   "source": [
    "# work problem 6 here"
   ]
  },
  {
   "cell_type": "markdown",
   "id": "86",
   "metadata": {
    "id": "E9uQezcC16uz"
   },
   "source": [
    "7. Remove the second element of `all_python_types`."
   ]
  },
  {
   "cell_type": "code",
   "execution_count": null,
   "id": "87",
   "metadata": {
    "id": "FukvZXDismFD"
   },
   "outputs": [],
   "source": [
    "# work problem 7 here"
   ]
  },
  {
   "cell_type": "markdown",
   "id": "88",
   "metadata": {},
   "source": [
    "---\n",
    "\n",
    "Auburn University / Industrial and Systems Engineering  \n",
    "INSY 3010 / Programming and Databases for ISE  \n",
    "© Copyright 2025, Danny J. O'Leary.  \n",
    "For licensing, attribution, and information: [GitHub INSY3010](https://github.com/olearydj/INSY3010)\n"
   ]
  }
 ],
 "metadata": {
  "celltoolbar": "Tags",
  "colab": {
   "provenance": []
  },
  "kernelspec": {
   "display_name": "Python 3 (ipykernel)",
   "language": "python",
   "name": "python3"
  },
  "language_info": {
   "codemirror_mode": {
    "name": "ipython",
    "version": 3
   },
   "file_extension": ".py",
   "mimetype": "text/x-python",
   "name": "python",
   "nbconvert_exporter": "python",
   "pygments_lexer": "ipython3",
   "version": "3.13.5"
  }
 },
 "nbformat": 4,
 "nbformat_minor": 5
}
