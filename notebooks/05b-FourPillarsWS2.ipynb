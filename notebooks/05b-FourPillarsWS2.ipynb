{
 "cells": [
  {
   "cell_type": "markdown",
   "id": "0",
   "metadata": {},
   "source": [
    "# Workshop 2 - Pseudocode and Implementation"
   ]
  },
  {
   "cell_type": "markdown",
   "id": "1",
   "metadata": {},
   "source": [
    "## Problem Description"
   ]
  },
  {
   "cell_type": "markdown",
   "id": "2",
   "metadata": {},
   "source": [
    "The Auburn Distribution Center operates 24 hours a day with three shifts. The first shift (morning) runs from 6:00 AM to 2:00 PM, the second shift (afternoon) operates from 2:00 PM to 10:00 PM, and the third shift (night) covers 10:00 PM to 6:00 AM. \n",
    "\n",
    "Each shift requires different staffing levels based on expected order volume. The morning shift processes 40% of daily orders, afternoon handles 35%, and night processes the remaining 25%. Workers can process 50 packages per hour on average, though this varies by ±10% based on package complexity.\n",
    "\n",
    "Management wants to determine minimum staffing requirements for each shift given a daily order target. However, there are constraints: each shift must have at least 3 workers for safety reasons, and the total workforce cannot exceed 50 people due to facility limitations. Additionally, workers are paid different rates: morning shift workers earn \\\\$18/hour, afternoon workers earn \\\\$20/hour (includes a 11.1% shift differential), and night workers earn \\\\$24/hour (includes a 33.3% shift differential for overnight work).\n",
    "\n",
    "Given a target number of packages to process in a day, calculate and report:\n",
    "1. How many packages each shift must handle\n",
    "2. Minimum workers needed per shift  \n",
    "3. Total daily labor cost"
   ]
  },
  {
   "cell_type": "markdown",
   "id": "3",
   "metadata": {},
   "source": [
    "### Part 1 - Pseudocode"
   ]
  },
  {
   "cell_type": "markdown",
   "id": "4",
   "metadata": {},
   "source": [
    "Write pseudocode to implement the solution for this problem."
   ]
  },
  {
   "cell_type": "markdown",
   "id": "5",
   "metadata": {},
   "source": [
    "your solution here..."
   ]
  },
  {
   "cell_type": "markdown",
   "id": "6",
   "metadata": {},
   "source": [
    "### Part 2 - Python"
   ]
  },
  {
   "cell_type": "markdown",
   "id": "7",
   "metadata": {},
   "source": [
    "Write a Python program to solve this problem."
   ]
  },
  {
   "cell_type": "code",
   "execution_count": null,
   "id": "8",
   "metadata": {},
   "outputs": [],
   "source": [
    "# your code here...\n"
   ]
  },
  {
   "cell_type": "code",
   "execution_count": null,
   "id": "9",
   "metadata": {},
   "outputs": [],
   "source": []
  }
 ],
 "metadata": {
  "kernelspec": {
   "display_name": "INSY3010-PySQL",
   "language": "python",
   "name": "insy3010-pysql"
  },
  "language_info": {
   "codemirror_mode": {
    "name": "ipython",
    "version": 3
   },
   "file_extension": ".py",
   "mimetype": "text/x-python",
   "name": "python",
   "nbconvert_exporter": "python",
   "pygments_lexer": "ipython3",
   "version": "3.13.5"
  }
 },
 "nbformat": 4,
 "nbformat_minor": 5
}
