{
 "cells": [
  {
   "cell_type": "markdown",
   "id": "0",
   "metadata": {},
   "source": [
    "# Test 2 Study Guide"
   ]
  },
  {
   "cell_type": "markdown",
   "id": "1",
   "metadata": {},
   "source": [
    "This was created to help you prepare for Test 2. I attempted to make it comprehensive but some areas might have been overlooked. There is some repetition. Use it along with the original slides / notebooks, your own notes, and the homework problems.\n",
    "\n",
    "This material focuses on the concepts / definitions, principles, and methods described. When it comes to knowing how to write solutions in Python, this guide is not a substitute for working problems. Practice you must, but that practice should be guided by an understanding of the fundamentals.\n",
    "\n",
    "For many of these questions you should also ask yourself \"Why?\" as a follow-up. This helps ensure you are learning concepts not memorizing information. The former is durable and useful, the latter might help you answer a test question correctly, but does not support long-term understanding.\n",
    "\n",
    "This is provided as a Jupyter Notebook to make it easy to add your own notes and/or code cells to test and/or demonstrate the topics covered."
   ]
  },
  {
   "cell_type": "markdown",
   "id": "2",
   "metadata": {},
   "source": [
    "## Week 5-6 - Functions"
   ]
  },
  {
   "cell_type": "markdown",
   "id": "3",
   "metadata": {},
   "source": [
    "### Defining Functions"
   ]
  },
  {
   "cell_type": "markdown",
   "id": "4",
   "metadata": {},
   "source": [
    "- What is a function definition and what keyword begins it?\n",
    "- What is the syntax for defining a function?\n",
    "- What are the header and body of a function? How must each be formatted?\n",
    "- What is a function object and what happens when you run a function definition?\n",
    "- How do you call (execute) a function?\n",
    "- What is the DRY principle and why is it important?"
   ]
  },
  {
   "cell_type": "markdown",
   "id": "5",
   "metadata": {},
   "source": [
    "### Parameters and Arguments"
   ]
  },
  {
   "cell_type": "markdown",
   "id": "6",
   "metadata": {},
   "source": [
    "- What is the difference between a parameter and an argument? Where is each specified?\n",
    "- What happens when a function is called with arguments?\n",
    "- What are positional arguments and how is their order determined?\n",
    "- Do the names of arguments and parameters need to match? Why or why not?"
   ]
  },
  {
   "cell_type": "markdown",
   "id": "7",
   "metadata": {},
   "source": [
    "### Return Values"
   ]
  },
  {
   "cell_type": "markdown",
   "id": "8",
   "metadata": {},
   "source": [
    "- What does a `return` statement do?\n",
    "- What is the difference between a fruitful function and one with side effects (like printing)?\n",
    "- What does a function return by default if no `return` statement is included?\n",
    "- Can a function have multiple `return` statements? What happens when one is encountered?\n",
    "- How do you return more than one value from a function? What container type is commonly used?"
   ]
  },
  {
   "cell_type": "markdown",
   "id": "9",
   "metadata": {},
   "source": [
    "### Function Composition and Testing"
   ]
  },
  {
   "cell_type": "markdown",
   "id": "10",
   "metadata": {},
   "source": [
    "- What is function composition and why is it useful?\n",
    "- What is an `assert` statement and how is it used for testing?"
   ]
  },
  {
   "cell_type": "markdown",
   "id": "11",
   "metadata": {},
   "source": [
    "### Docstrings"
   ]
  },
  {
   "cell_type": "markdown",
   "id": "12",
   "metadata": {},
   "source": [
    "- What is a docstring? Where should it be placed and what syntax creates it?\n",
    "- What should a docstring explain: what the function does or how it works?\n",
    "- How does the `help()` function use docstrings?"
   ]
  },
  {
   "cell_type": "markdown",
   "id": "13",
   "metadata": {},
   "source": [
    "### Variables and Scope"
   ]
  },
  {
   "cell_type": "markdown",
   "id": "14",
   "metadata": {},
   "source": [
    "- What is a local variable and where does it exist?\n",
    "- What happens to local variables when a function ends?\n",
    "- Are parameters local or global variables?"
   ]
  },
  {
   "cell_type": "markdown",
   "id": "15",
   "metadata": {},
   "source": [
    "## Week 6-7 - More Types"
   ]
  },
  {
   "cell_type": "markdown",
   "id": "16",
   "metadata": {},
   "source": [
    "### Tuples"
   ]
  },
  {
   "cell_type": "markdown",
   "id": "17",
   "metadata": {},
   "source": [
    "- What is a tuple and how is it similar to and different from a list?\n",
    "- Is a tuple mutable or immutable?\n",
    "- What creates a tuple: parentheses or commas?\n",
    "- How do you create a tuple with a single element? An empty tuple?\n",
    "- How do indexing, slicing, concatenation, and the `in` operator work with tuples?\n",
    "- What methods are available for tuples and why are there so few?\n",
    "- What is sequence unpacking and how is it used?"
   ]
  },
  {
   "cell_type": "markdown",
   "id": "18",
   "metadata": {},
   "source": [
    "### Type Characteristics"
   ]
  },
  {
   "cell_type": "markdown",
   "id": "19",
   "metadata": {},
   "source": [
    "- What three characteristics differentiate Python types (ordered/unordered, mutable/immutable, heterogeneous/homogeneous)?\n",
    "- Compare lists, tuples, and strings across these three characteristics.\n",
    "- What capabilities do ordered types have?\n",
    "- What is the difference between modifying in place (mutation) and creating a new object?"
   ]
  },
  {
   "cell_type": "markdown",
   "id": "20",
   "metadata": {},
   "source": [
    "### Nested Sequences"
   ]
  },
  {
   "cell_type": "markdown",
   "id": "21",
   "metadata": {},
   "source": [
    "- How do nested lists represent tabular data?\n",
    "- What does `list_of_lists[1][2]` mean and how do you think about multiple indexing operations?\n",
    "- How do you traverse a nested list with loops?\n",
    "- What is the pattern for processing each element in a 2D structure?"
   ]
  },
  {
   "cell_type": "markdown",
   "id": "22",
   "metadata": {},
   "source": [
    "### Sets"
   ]
  },
  {
   "cell_type": "markdown",
   "id": "23",
   "metadata": {},
   "source": [
    "- What is a set and what are its key characteristics (ordered/unordered, duplicates, element mutability)?\n",
    "- What syntax creates a set? How do you create an empty set?\n",
    "- What happens to duplicates when creating a set?\n",
    "- How can you use sets to remove duplicates from a sequence?"
   ]
  },
  {
   "cell_type": "markdown",
   "id": "24",
   "metadata": {},
   "source": [
    "### Dictionaries - Basics"
   ]
  },
  {
   "cell_type": "markdown",
   "id": "25",
   "metadata": {},
   "source": [
    "- What is a dictionary and what does it map?\n",
    "- What is a key-value pair?\n",
    "- What syntax creates a dictionary? How do you create an empty dictionary?\n",
    "- How do you access, add, modify, and delete key-value pairs?\n",
    "- What are the requirements for dictionary keys? For values?\n",
    "- How does the `in` operator work with dictionaries?"
   ]
  },
  {
   "cell_type": "markdown",
   "id": "26",
   "metadata": {},
   "source": [
    "### Dictionary Methods and Looping"
   ]
  },
  {
   "cell_type": "markdown",
   "id": "27",
   "metadata": {},
   "source": [
    "- What do the `keys()`, `values()`, and `items()` methods return?\n",
    "- What is the default behavior when looping through a dictionary with a `for` loop?\n",
    "- How do you loop through keys, values, or key-value pairs?\n",
    "- What does the `get()` method do and how does it differ from bracket notation?"
   ]
  },
  {
   "cell_type": "markdown",
   "id": "28",
   "metadata": {},
   "source": [
    "### Dictionary Operations"
   ]
  },
  {
   "cell_type": "markdown",
   "id": "29",
   "metadata": {},
   "source": [
    "- How do `len()`, `max()`, `min()`, and `sorted()` work with dictionaries?\n",
    "- How do you convert dictionary keys or values to a list?"
   ]
  },
  {
   "cell_type": "markdown",
   "id": "30",
   "metadata": {},
   "source": [
    "### Nested Dictionaries"
   ]
  },
  {
   "cell_type": "markdown",
   "id": "31",
   "metadata": {},
   "source": [
    "- How do you access and modify values in nested dictionaries?\n",
    "- What is the syntax for multiple dictionary lookups?"
   ]
  },
  {
   "cell_type": "markdown",
   "id": "32",
   "metadata": {},
   "source": [
    "### Common Patterns"
   ]
  },
  {
   "cell_type": "markdown",
   "id": "33",
   "metadata": {},
   "source": [
    "- What is the pattern for building a dictionary to count occurrences?\n",
    "- Why is branching (if/else) needed when building counting dictionaries?"
   ]
  },
  {
   "cell_type": "markdown",
   "id": "34",
   "metadata": {},
   "source": [
    "## Week 7-8 - Working with Files"
   ]
  },
  {
   "cell_type": "markdown",
   "id": "35",
   "metadata": {},
   "source": [
    "### File Basics"
   ]
  },
  {
   "cell_type": "markdown",
   "id": "36",
   "metadata": {},
   "source": [
    "- What are the two main types of files?\n",
    "- What function opens a file and what is a file handle?\n",
    "- What is a file path and when is it needed?"
   ]
  },
  {
   "cell_type": "markdown",
   "id": "37",
   "metadata": {},
   "source": [
    "### File Methods"
   ]
  },
  {
   "cell_type": "markdown",
   "id": "38",
   "metadata": {},
   "source": [
    "- What do the `read()`, `readlines()`, and `readline()` methods do? What type does each return?\n",
    "- What does `readline()` return when it reaches the end of a file?\n",
    "- What is a line in the context of file reading?\n",
    "- What does the `close()` method do and why is it important?"
   ]
  },
  {
   "cell_type": "markdown",
   "id": "39",
   "metadata": {},
   "source": [
    "### Looping Through Files"
   ]
  },
  {
   "cell_type": "markdown",
   "id": "40",
   "metadata": {},
   "source": [
    "- How can you read a file one line at a time using a `while` loop? Using a `for` loop?\n",
    "- Are file handles iterable?\n",
    "- When might you want to read files line-by-line instead of all at once?"
   ]
  },
  {
   "cell_type": "markdown",
   "id": "41",
   "metadata": {},
   "source": [
    "### Context Managers"
   ]
  },
  {
   "cell_type": "markdown",
   "id": "42",
   "metadata": {},
   "source": [
    "- What is a context manager and what is the `with ... as` syntax?\n",
    "- What is the benefit of using `with` for file operations?\n",
    "- Does `with` automatically close the file?"
   ]
  },
  {
   "cell_type": "markdown",
   "id": "43",
   "metadata": {},
   "source": [
    "### Writing Files"
   ]
  },
  {
   "cell_type": "markdown",
   "id": "44",
   "metadata": {},
   "source": [
    "- What method writes data to a file and what type of data does it accept?\n",
    "- What is a file mode? What do modes `'r'`, `'w'`, and `'a'` do?\n",
    "- What happens if you open an existing file in mode `'w'`?\n",
    "- Does `write()` automatically add newline characters?"
   ]
  },
  {
   "cell_type": "markdown",
   "id": "45",
   "metadata": {},
   "source": [
    "### Error Handling"
   ]
  },
  {
   "cell_type": "markdown",
   "id": "46",
   "metadata": {},
   "source": [
    "- What are LBYL and AFNP approaches to error handling?\n",
    "- What is the syntax for `try ... except`?\n",
    "- What happens in a `try` block vs an `except` block?\n",
    "- Can you have multiple `except` blocks for different error types?\n",
    "- What error type occurs when a file is not found?"
   ]
  },
  {
   "cell_type": "markdown",
   "id": "47",
   "metadata": {},
   "source": [
    "### CSV Files"
   ]
  },
  {
   "cell_type": "markdown",
   "id": "48",
   "metadata": {},
   "source": [
    "- What is a CSV file and how does it represent tabular data?\n",
    "- What module provides CSV functionality?\n",
    "- How do you create a `csv.reader` object? What does it return when iterating?\n",
    "- What type are the values returned by `csv.reader`?\n",
    "- What is the `delimiter` parameter and when would you use it?\n",
    "- What is the `next()` function and how is it used with CSV files?"
   ]
  },
  {
   "cell_type": "markdown",
   "id": "49",
   "metadata": {},
   "source": [
    "### Writing CSV Files"
   ]
  },
  {
   "cell_type": "markdown",
   "id": "50",
   "metadata": {},
   "source": [
    "- How do you create a `csv.writer` object?\n",
    "- What do the `writerow()` and `writerows()` methods do? What parameters do they expect?\n",
    "- Does CSV preserve data type information?"
   ]
  }
 ],
 "metadata": {
  "kernelspec": {
   "display_name": "INSY3010-PySQL",
   "language": "python",
   "name": "insy3010-pysql"
  },
  "language_info": {
   "codemirror_mode": {
    "name": "ipython",
    "version": 3
   },
   "file_extension": ".py",
   "mimetype": "text/x-python",
   "name": "python",
   "nbconvert_exporter": "python",
   "pygments_lexer": "ipython3",
   "version": "3.13.5"
  }
 },
 "nbformat": 4,
 "nbformat_minor": 5
}
