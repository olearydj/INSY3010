{
 "cells": [
  {
   "cell_type": "markdown",
   "id": "0",
   "metadata": {},
   "source": [
    "# HW 2, INSY 3010, Fall 2025"
   ]
  },
  {
   "cell_type": "markdown",
   "id": "1",
   "metadata": {},
   "source": [
    "This is an individual assignment. Neither human nor AI collaboration is allowed.\n",
    "\n",
    "Complete the problems in the cells provided below. Submit the resulting `IPYNB` file on Canvas."
   ]
  },
  {
   "cell_type": "markdown",
   "id": "2",
   "metadata": {},
   "source": [
    "## Pseudocode"
   ]
  },
  {
   "cell_type": "markdown",
   "id": "3",
   "metadata": {},
   "source": [
    "Write pseudocode for the assembly line control system described below.\n",
    "\n",
    "The line consists of workstations arranged in sequence, each performing quality-critical operations. Products move through the line on a conveyor, and the control system must determine at each workstation how to handle the product based on current quality metrics.\n",
    "\n",
    "The system needs to:\n",
    "\n",
    "1. Check if the downstream buffer is full before moving product\n",
    "2. Monitor each station's current defect rate\n",
    "3. Track recent quality performance to identify opportunities to skip processing\n",
    "4. Handle normal processing when needed\n",
    "5. Route products to rework when operations fail\n",
    "\n",
    "Consider the following:\n",
    "\n",
    "1. Products move on a continuous conveyor that can be stopped as needed\n",
    "2. Each station maintains metrics about recent defect rates\n",
    "3. When quality has been consistently good, some operations can be skipped\n",
    "4. Failed operations require product rework\n",
    "5. Full downstream buffers require temporary holds\n",
    "\n",
    "Assume sensors provide all required status information (buffer capacity, defect rates, operation results). If you find you need to make other assumptions, include comments to describe them.\n",
    "\n",
    "The pseudocode should represent the control system's logic, not a software implementation. As such, it should not use Python functions, operators, etc. Describe the system's decision-making process. Be sure to use keywords and indentation, along with the other style conventions discussed in class. Your submission should be detailed enough to take at least 15 lines, but abstract enough that it doesn't take more than 20.\n",
    "\n",
    "This is an individual assignment.\n",
    "\n",
    "### Hints\n",
    "\n",
    "1. Think about how an assembly line runs - unlike assigning study rooms once, this system needs to keep checking and making decisions over and over as products move down the line.\n",
    "2. Think about what could go wrong on a real assembly line and what order you'd want to check for problems. What's most important to check first?\n",
    "3. A good way to start might be something like:\n",
    "\n",
    "```text\n",
    "Keep track of product info and station data\n",
    "\n",
    "While the product is still on the line:\n",
    "    Figure out which station it's at\n",
    "    Check how that station is doing\n",
    "    # Now what should we check first?\n",
    "    # What other checks do we need?\n",
    "    # When should we stop the line?\n",
    "```"
   ]
  },
  {
   "cell_type": "markdown",
   "id": "4",
   "metadata": {},
   "source": [
    "### Sample Problem\n",
    "\n",
    "Several students have asked for additional feedback and direction on this assignment. The following example should help address that and set expectations.\n",
    "\n",
    "**Example Problem**\n",
    "\n",
    "As a university mail center worker, you need to process incoming packages to ensure they get to the right location. Each morning, packages arrive marked either for dorm delivery or express pickup. Your task is to sort them into the appropriate bins: one for delivery to the dorms, another for student pick-up.\n",
    "\n",
    "**Example Solution**\n",
    "\n",
    "Here is a solution that would receive full points.\n",
    "\n",
    "```text\n",
    "GIVEN a pile of unsorted packages\n",
    "GIVEN two empty bins: Dorm and Pickup\n",
    "FOR each Package:\n",
    "    IF package is marked for dorm delivery:\n",
    "        PLACE package in Dorm Bin\n",
    "    OTHERWISE:\n",
    "        PLACE package in Pickup Bin\n",
    "NOTIFY delivery carriers that the Dorm Bin is ready\n",
    "NOTIFY desk staff that the Pickup Bin is ready\n",
    "```\n",
    "\n",
    "This solution demonstrates:\n",
    "\n",
    "- Appropriate pseudocode style and indentation\n",
    "- Good action keywords (EXAMINE, PLACE, NOTIFY)\n",
    "- Clear decision structure\n",
    "- No intentional programming-specific syntax\n",
    "- Clear completion state"
   ]
  },
  {
   "cell_type": "markdown",
   "id": "5",
   "metadata": {},
   "source": [
    "### Your Solution"
   ]
  },
  {
   "cell_type": "markdown",
   "id": "6",
   "metadata": {},
   "source": [
    "write your solution here..."
   ]
  },
  {
   "cell_type": "markdown",
   "id": "7",
   "metadata": {},
   "source": [
    "## Python Problems"
   ]
  },
  {
   "cell_type": "markdown",
   "id": "8",
   "metadata": {},
   "source": [
    "### Problem 1 - Part Code Standardization"
   ]
  },
  {
   "cell_type": "markdown",
   "id": "9",
   "metadata": {},
   "source": [
    "Write a Python program that standardizes manufacturing part codes from different legacy systems. The program should:\n",
    "\n",
    "1. Accept user input for a part code using the variable name `part_code`\n",
    "2. Create standardized components:\n",
    "   - `department`: the first three characters, converted to uppercase\n",
    "   - `year`: the two digits found between hyphens\n",
    "   - `serial`: Last 4 digits between letters in final portion (e.g., \"1234\" from \"A001234B5\")\n",
    "   - `display_code`: department + four-digit year + serial, separated by periods (e.g., \"MFG.2024.1234\")\n",
    "   - `short_code`: First letter of department + two-digit year + serial (e.g., \"M241234\")\n",
    "3. Print `display_code` and `short_code` as shown below, including the header line.\n",
    "\n",
    "Use the variable names specified above and match the output format exactly.\n",
    "\n",
    "**Do not use looping or conditionals in your solution.**"
   ]
  },
  {
   "cell_type": "markdown",
   "id": "10",
   "metadata": {},
   "source": [
    "#### Sample Input and Output"
   ]
  },
  {
   "cell_type": "markdown",
   "id": "11",
   "metadata": {},
   "source": [
    "For the input `mfg-24-A001234B5`, the output should be:\n",
    "\n",
    "```\n",
    "Resulting Codes\n",
    "\n",
    "Display Code: MFG.2024.1234\n",
    "Short Code: M241234\n",
    "```\n",
    "\n",
    "You will need to use a combination of string methods, indexing, slicing, and concatenation for this problem."
   ]
  },
  {
   "cell_type": "markdown",
   "id": "12",
   "metadata": {},
   "source": [
    "#### Your Code"
   ]
  },
  {
   "cell_type": "code",
   "execution_count": null,
   "id": "13",
   "metadata": {},
   "outputs": [],
   "source": [
    "# write your code here..."
   ]
  },
  {
   "cell_type": "markdown",
   "id": "14",
   "metadata": {},
   "source": [
    "#### Test Code"
   ]
  },
  {
   "cell_type": "markdown",
   "id": "15",
   "metadata": {},
   "source": [
    "Run your code with the sample input, then run this code to check everything."
   ]
  },
  {
   "cell_type": "code",
   "execution_count": null,
   "id": "16",
   "metadata": {},
   "outputs": [],
   "source": [
    "try:\n",
    "   # Test required variables exist and have correct content for sample input\n",
    "   test_code = \"mfg-24-a001234b5\"\n",
    "   \n",
    "   # Run through test case if correct input found\n",
    "   if part_code.lower() == test_code:\n",
    "       assert department == \"MFG\", \"Department incorrect\"\n",
    "       assert year == \"24\", \"Year incorrect\" \n",
    "       assert serial == \"1234\", \"Serial incorrect\"\n",
    "       assert display_code == \"MFG.2024.1234\", \"Display code incorrect\"\n",
    "       assert short_code == \"M241234\", \"Short code incorrect\"\n",
    "       print(\"All tests passed! Your part code processing is correct.\")\n",
    "   else:\n",
    "       print(\"Test input not found. Make sure to run your code with mfg-24-A001234B5 before running these tests\")\n",
    "       \n",
    "except AssertionError as e:\n",
    "   print(f\"Test failed! {str(e)}\")\n",
    "except NameError as e:\n",
    "   print(f\"Test failed! Missing required variable: {str(e).split()[1]}\")"
   ]
  },
  {
   "cell_type": "markdown",
   "id": "17",
   "metadata": {},
   "source": [
    "### Problem 2 - Production Report Processing"
   ]
  },
  {
   "cell_type": "markdown",
   "id": "18",
   "metadata": {},
   "source": [
    "You have been given a raw string of manufacturing data. Write a Python program that processes the data into useful lists and generates a simple report. Begin with this pre-defined data:\n",
    "\n",
    "```python\n",
    "report = \"Product\\tQuantity\\nWidget,150,Gadget,100\"\n",
    "```\n",
    "\n",
    "Process `report` by creating the following variables using the methods described:\n",
    "\n",
    "1. `report` is a string with containing header information and rows of data separated by a newline character. Use the string `split` method to convert it into a list of strings called `sections`.\n",
    "2. Create `headers` by splitting the first element of `sections` into a list of strings. Each header in `report` is separated by a tab character ('\\t'). Then use the list `insert` method to add \"Row\" as the first header.\n",
    "3. Create `values` by comma-splitting the second element of `sections` into a list of strings.\n",
    "4. Construct lists `row1` and `row2` from `values` by slicing it with appropriate start and stop values. Use the `insert` method or list concatenation to add the row number at the beginning of both.\n",
    "5. Use index assignment to convert the quantities in `row1` and `row2` into integers.\n",
    "6. Calculate the `total` quantity in rows 1 and 2.\n",
    "7. Create list called `summary` with three elements: the row number (3), the string \"Total\", and the `total` calculated above.\n",
    "8. Print `headers`, `row1`, `row2`, and `summary` each on their own line.\n",
    "\n",
    "Your output should match what is given below."
   ]
  },
  {
   "cell_type": "markdown",
   "id": "19",
   "metadata": {},
   "source": [
    "#### Sample Input and Output"
   ]
  },
  {
   "cell_type": "markdown",
   "id": "20",
   "metadata": {
    "jp-MarkdownHeadingCollapsed": true
   },
   "source": [
    "For the given input (`report`), your program should produce the following output.\n",
    "\n",
    "```\n",
    "['ID', 'Product', 'Quantity']\n",
    "[1, 'Widget', 150]\n",
    "[2, 'Gadget', 100]\n",
    "[3, 'Total', 250]\n",
    "```\n",
    "\n",
    "You will need to use each of the methods described above to achieve this."
   ]
  },
  {
   "cell_type": "markdown",
   "id": "21",
   "metadata": {},
   "source": [
    "#### Your Code"
   ]
  },
  {
   "cell_type": "code",
   "execution_count": null,
   "id": "22",
   "metadata": {},
   "outputs": [],
   "source": [
    "# use this input as described\n",
    "report = \"Product\\tQuantity\\nWidget,150,Gadget,100\"\n",
    "\n",
    "..."
   ]
  },
  {
   "cell_type": "markdown",
   "id": "23",
   "metadata": {},
   "source": [
    "#### Test Code"
   ]
  },
  {
   "cell_type": "markdown",
   "id": "24",
   "metadata": {},
   "source": [
    "Run your code before running this code to check everything."
   ]
  },
  {
   "cell_type": "code",
   "execution_count": null,
   "id": "25",
   "metadata": {},
   "outputs": [],
   "source": [
    "try:\n",
    "   # Test required variables exist\n",
    "   required_vars = ['report', 'sections', 'headers', 'values', 'row1', 'row2', 'total', 'summary']\n",
    "   for var in required_vars:\n",
    "       if var not in locals():\n",
    "           raise NameError(f\"name '{var}'\")\n",
    "\n",
    "   # Test input matches problem\n",
    "   assert report == \"Product\\tQuantity\\nWidget,150,Gadget,100\", \"Do not modify the report string\"\n",
    "\n",
    "   # Test data structure and content\n",
    "   assert len(sections) == 2, \"sections should have 2 elements\"\n",
    "   assert headers == ['Row', 'Product', 'Quantity'], \"headers list is incorrect\"\n",
    "   assert values == ['Widget', '150', 'Gadget', '100'], \"values list is incorrect\"\n",
    "   \n",
    "   # Test row construction and type conversion\n",
    "   assert row1 == [1, 'Widget', 150], \"row1 is incorrect (check types)\"\n",
    "   assert row2 == [2, 'Gadget', 100], \"row2 is incorrect (check types)\"\n",
    "   assert isinstance(row1[2], int), \"quantity in row1 should be integer\"\n",
    "   assert isinstance(row2[2], int), \"quantity in row2 should be integer\"\n",
    "\n",
    "   # Test calculations\n",
    "   assert total == 250, \"total calculation is incorrect\"\n",
    "   assert summary == [3, 'Total', 250], \"summary list is incorrect\"\n",
    "\n",
    "   print(\"All tests passed! Your data processing is correct.\")\n",
    "       \n",
    "except AssertionError as e:\n",
    "   print(f\"Test failed! {str(e)}\")\n",
    "except NameError as e:\n",
    "   print(f\"Test failed! Missing required variable: {str(e).split()[1]}\")"
   ]
  },
  {
   "cell_type": "markdown",
   "id": "26",
   "metadata": {},
   "source": [
    "### Problem 3 - Production Line Combinations"
   ]
  },
  {
   "cell_type": "markdown",
   "id": "27",
   "metadata": {},
   "source": [
    "A manufacturing facility has `n` machines that must be arranged in a sequence. The total number of unique ways to arrange them is given by: $$n! = n \\times (n-1) \\times (n-2) \\times \\dots \\times 1$$\n",
    "\n",
    "Get the number of machines, `n` from the user. If `n` is less than two, print \"Invalid calculation for less than 2 machines.\" and get the input again. When a valid input is given, compute $n!$ and store it in the variable `configs`. Display your results as shown below."
   ]
  },
  {
   "cell_type": "markdown",
   "id": "28",
   "metadata": {},
   "source": [
    "#### Sample Input and Output"
   ]
  },
  {
   "cell_type": "markdown",
   "id": "29",
   "metadata": {},
   "source": [
    "Here is what a session should look like for the inputs -1 and 4.\n",
    "\n",
    "```text\n",
    "Enter the number of machines: -1\n",
    "Invalid calculation for less than 2 machines.\n",
    "Enter the number of machines: 4\n",
    "Total possible process configurations: 24\n",
    "```\n",
    "\n",
    "Most solutions will use some combination of `while` and `for` loops (one nested), along with the `break` statement."
   ]
  },
  {
   "cell_type": "markdown",
   "id": "30",
   "metadata": {},
   "source": [
    "#### Your Code"
   ]
  },
  {
   "cell_type": "code",
   "execution_count": null,
   "id": "31",
   "metadata": {},
   "outputs": [],
   "source": [
    "# write your code here..."
   ]
  },
  {
   "cell_type": "markdown",
   "id": "32",
   "metadata": {},
   "source": [
    "#### Test Code"
   ]
  },
  {
   "cell_type": "markdown",
   "id": "33",
   "metadata": {},
   "source": [
    "Run your code with the input `4`, then run this code to check everything."
   ]
  },
  {
   "cell_type": "code",
   "execution_count": null,
   "id": "34",
   "metadata": {},
   "outputs": [],
   "source": [
    "try:\n",
    "    assert configs == 24  # Expected output for 4! = 24\n",
    "    print(\"Test passed: configs = 24\")\n",
    "except NameError:\n",
    "    print(\"Test failed: Variable 'configs' is not defined.\")\n",
    "except AssertionError:\n",
    "    print(f\"Test failed: Expected configs = 24, but got {configs}\")"
   ]
  },
  {
   "cell_type": "markdown",
   "id": "35",
   "metadata": {},
   "source": [
    "### Problem 4 - Inventory Relabeling"
   ]
  },
  {
   "cell_type": "markdown",
   "id": "36",
   "metadata": {},
   "source": [
    "To ease sorting, your warehouse is renaming the SKUs for all inventory. You are given a list of SKUs to process. Convert each SKU to the new format by applying the following rules:\n",
    "\n",
    "- If the SKU starts with a vowel, add `X` to the end.\n",
    "- If the SKU starts with a consonant, move the first letter to the end and add `Z`\n",
    "\n",
    "Build a new list with the `result`. Sort `result` alphabetically and print it as shown below."
   ]
  },
  {
   "cell_type": "markdown",
   "id": "37",
   "metadata": {},
   "source": [
    "#### Sample Input and Output"
   ]
  },
  {
   "cell_type": "markdown",
   "id": "38",
   "metadata": {
    "jp-MarkdownHeadingCollapsed": true
   },
   "source": [
    "For the given input\n",
    "\n",
    "```python\n",
    "skus = ['A125', 'B467', 'E643', 'G767']\n",
    "```\n",
    "\n",
    "your output should look like this:\n",
    "\n",
    "```text\n",
    "Sorted SKUs: ['467BZ', '767GZ', 'A125X', 'E643X']\n",
    "```"
   ]
  },
  {
   "cell_type": "markdown",
   "id": "39",
   "metadata": {},
   "source": [
    "#### Your Code"
   ]
  },
  {
   "cell_type": "code",
   "execution_count": null,
   "id": "40",
   "metadata": {},
   "outputs": [],
   "source": [
    "# use this input as described\n",
    "skus = ['A125', 'B467', 'E643', 'G767']\n"
   ]
  },
  {
   "cell_type": "markdown",
   "id": "41",
   "metadata": {},
   "source": [
    "#### Test Code"
   ]
  },
  {
   "cell_type": "markdown",
   "id": "42",
   "metadata": {},
   "source": [
    "Run your code before running this code to check everything."
   ]
  },
  {
   "cell_type": "code",
   "execution_count": null,
   "id": "43",
   "metadata": {},
   "outputs": [],
   "source": [
    "# Expected values\n",
    "expected_skus = ['A125', 'B467', 'E643', 'G767']  # Ensure input is correct\n",
    "expected_result = ['467BZ', '767GZ', 'A125X', 'E643X']  # Expected sorted output\n",
    "\n",
    "try:\n",
    "    # Check that the input and output lists are correct\n",
    "    assert skus == expected_skus\n",
    "    assert result == expected_result\n",
    "except NameError as e:\n",
    "    missing_var = str(e).split()[1]  # Extract the missing variable name\n",
    "    print(f\"Test failed: Variable '{missing_var}' is not defined.\")\n",
    "except AssertionError as e:\n",
    "    print(f\"Test failed: {e}\")\n",
    "print(\"All tests passed.\")\n"
   ]
  },
  {
   "cell_type": "markdown",
   "id": "44",
   "metadata": {},
   "source": [
    "### Problem 5 - Distribution Center Staffing"
   ]
  },
  {
   "cell_type": "markdown",
   "id": "45",
   "metadata": {},
   "source": [
    "The Auburn Distribution Center operates 24 hours a day with three shifts. The first shift (morning) runs from 6:00 AM to 2:00 PM, the second shift (afternoon) operates from 2:00 PM to 10:00 PM, and the third shift (night) covers 10:00 PM to 6:00 AM. \n",
    "\n",
    "Each shift requires different staffing levels based on expected order volume. The morning shift processes 40% of daily orders, afternoon handles 35%, and night processes the remaining 25%. Workers can process 50 packages per hour on average, though this varies by ±10% based on package complexity."
   ]
  },
  {
   "cell_type": "markdown",
   "id": "46",
   "metadata": {},
   "source": [
    "Management wants to determine minimum staffing requirements for each shift given a daily order target. However, there are constraints: each shift must have at least 3 workers for safety reasons, and the total workforce cannot exceed 50 people due to facility limitations. Additionally, workers are paid different rates: morning shift workers earn \\\\$18/hour, afternoon workers earn \\\\$20/hour (includes a 11.1% shift differential), and night workers earn \\\\$24/hour (includes a 33.3% shift differential for overnight work)."
   ]
  },
  {
   "cell_type": "markdown",
   "id": "47",
   "metadata": {},
   "source": [
    "Given a target number of packages to process in a day, calculate and report:\n",
    "1. How many packages each shift must handle\n",
    "2. Minimum workers needed per shift  \n",
    "3. Total daily labor cost"
   ]
  },
  {
   "cell_type": "markdown",
   "id": "48",
   "metadata": {},
   "source": [
    "#### Part 1 - Pseudocode"
   ]
  },
  {
   "cell_type": "markdown",
   "id": "49",
   "metadata": {},
   "source": [
    "Write pseudocode to implement the solution for this problem."
   ]
  },
  {
   "cell_type": "markdown",
   "id": "50",
   "metadata": {},
   "source": [
    "#### Your Pseudocode"
   ]
  },
  {
   "cell_type": "markdown",
   "id": "51",
   "metadata": {},
   "source": [
    "replace this text with your solution..."
   ]
  },
  {
   "cell_type": "markdown",
   "id": "52",
   "metadata": {},
   "source": [
    "#### Part 2 - Python Implementation"
   ]
  },
  {
   "cell_type": "markdown",
   "id": "53",
   "metadata": {},
   "source": [
    "Write a Python program to solve this problem. Format your output as shown below (this example is for a daily target of 10,000 packages).\n",
    "\n",
    "```text\n",
    "Daily Package Target: 10000\n",
    "----------------------------------------\n",
    "Morning Shift:\n",
    "  Packages: 4000\n",
    "  Workers: 10\n",
    "  Cost: $1440.00\n",
    "Afternoon Shift:\n",
    "  Packages: 3500\n",
    "  Workers: 9\n",
    "  Cost: $1440.00\n",
    "Night Shift:\n",
    "  Packages: 2500\n",
    "  Workers: 7\n",
    "  Cost: $1344.00\n",
    "----------------------------------------\n",
    "Total Daily Labor Cost: $4224.00\n",
    "Total Workers: 26\n",
    "```\n",
    "\n",
    "**Hints:**\n",
    "\n",
    "- the `math.ceil()` function rounds up to the nearest whole number\n",
    "- consider using lists to store shift data (percentages, names, rates) and loop through them rather \n",
    "than repeating code three times\n"
   ]
  },
  {
   "cell_type": "markdown",
   "id": "54",
   "metadata": {},
   "source": [
    "#### Your Code"
   ]
  },
  {
   "cell_type": "code",
   "execution_count": null,
   "id": "55",
   "metadata": {},
   "outputs": [],
   "source": [
    "# write your code here..."
   ]
  },
  {
   "cell_type": "markdown",
   "id": "56",
   "metadata": {},
   "source": [
    "#### Test Code"
   ]
  },
  {
   "cell_type": "markdown",
   "id": "57",
   "metadata": {},
   "source": [
    "Run your solution with an input of 10,000 packages and compare the output with the results above."
   ]
  }
 ],
 "metadata": {
  "kernelspec": {
   "display_name": "INSY3010-PySQL",
   "language": "python",
   "name": "insy3010-pysql"
  },
  "language_info": {
   "codemirror_mode": {
    "name": "ipython",
    "version": 3
   },
   "file_extension": ".py",
   "mimetype": "text/x-python",
   "name": "python",
   "nbconvert_exporter": "python",
   "pygments_lexer": "ipython3",
   "version": "3.13.5"
  }
 },
 "nbformat": 4,
 "nbformat_minor": 5
}
