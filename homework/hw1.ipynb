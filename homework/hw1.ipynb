{
 "cells": [
  {
   "cell_type": "markdown",
   "id": "0",
   "metadata": {},
   "source": [
    "# HW 1, INSY 3010, Fall 2025"
   ]
  },
  {
   "cell_type": "markdown",
   "id": "1",
   "metadata": {},
   "source": [
    "This is an individual assignment. Neither human nor AI collaboration is allowed.\n",
    "\n",
    "Complete the problems in the cells provided below. Submit the resulting `IPYNB` file on Canvas."
   ]
  },
  {
   "cell_type": "markdown",
   "id": "2",
   "metadata": {},
   "source": [
    "## Pseudocode"
   ]
  },
  {
   "cell_type": "markdown",
   "id": "3",
   "metadata": {},
   "source": [
    "Write pseudocode to solve the following problem.\n",
    "\n",
    "> As a warehouse operations manager during the holiday shipping season, you need to assign delivery trucks to loading docks for their scheduled shipments. You have a list of truck arrivals, sorted by cargo volume (largest to smallest), with each truck's preferred loading time window. You also have a list of available loading docks of different sizes and their time slot availabilities. Each dock can only handle trucks up to its size limit (based on dock height and space), and you can assign up to three different trucks to use a dock throughout the day (morning, afternoon, evening windows). Your task is to assign each truck to an appropriate dock based on the truck's size, the dock's capacity, and the availability of the dock during their preferred time window. Report any unassigned trucks at the end of the process, as they will need to be redirected to overflow facilities.\n",
    "\n",
    "Consider the following:\n",
    "\n",
    "1. Truck Queue: You have a list of truck arrivals sorted by cargo volume (largest first), each with a preferred time window\n",
    "2. Dock Constraints: Each dock has a maximum truck size it can accommodate and three possible time windows per day\n",
    "3. Time Windows: Each truck needs one window (morning, afternoon, or evening)\n",
    "4. Daily Assignments: Each dock can serve up to three different trucks per day (one per window)\n",
    "\n",
    "Assume that time windows are standardized, so a simple comparison is sufficient to check compatibility. If you find you need to make other assumptions, include comments to describe them with your submission.\n",
    "\n",
    "Your submission should represent a plan for assigning trucks to docks, not for developing a software program. As such, it should not use Python functions, operators, etc. Describe the human actions and decisions necessary to complete this task. Be sure to use keywords and indentation, along with the other style conventions discussed in class. Your submission should be detailed enough to take at least 10 lines, but abstract enough that it doesn't take more than 15."
   ]
  },
  {
   "cell_type": "markdown",
   "id": "4",
   "metadata": {},
   "source": [
    "replace this text with your solution\n"
   ]
  },
  {
   "cell_type": "markdown",
   "id": "5",
   "metadata": {},
   "source": [
    "## Python Problems"
   ]
  },
  {
   "cell_type": "markdown",
   "id": "6",
   "metadata": {},
   "source": [
    "### Problem 1 - Race Calculation"
   ]
  },
  {
   "cell_type": "markdown",
   "id": "7",
   "metadata": {},
   "source": [
    "Write a Python program that calculates a runner's performance statistics for a race. The program should:\n",
    "\n",
    "1. Accept user input for:\n",
    "   - Race distance in kilometers (floating point)\n",
    "   - Finish time in minutes (integer)\n",
    "   - Finish time in seconds (integer)\n",
    "2. Calculate and display:\n",
    "   - Average speed in miles per hour\n",
    "   - Race pace in minutes per mile\n",
    "\n",
    "Use 1.61 kilometers per mile for the necessary conversion. Round the final results to one decimal place. You will need to use the `input`, `float`, `int`, `print`, and `round` functions to accomplish this."
   ]
  },
  {
   "cell_type": "markdown",
   "id": "8",
   "metadata": {},
   "source": [
    "#### Sample Input and Output"
   ]
  },
  {
   "cell_type": "markdown",
   "id": "9",
   "metadata": {},
   "source": [
    "For the input 10 kms in 42 mins and 42 secs, the output should be:\n",
    "\n",
    "```text\n",
    "Avg speed: 8.7 miles per hour\n",
    "Race pace: 6.9 minutes per mile\n",
    "```\n",
    "\n",
    "Format your final output exactly as shown above."
   ]
  },
  {
   "cell_type": "markdown",
   "id": "10",
   "metadata": {},
   "source": [
    "#### Solution"
   ]
  },
  {
   "cell_type": "markdown",
   "id": "11",
   "metadata": {},
   "source": [
    "Write your solution in the code cell below."
   ]
  },
  {
   "cell_type": "code",
   "execution_count": null,
   "id": "12",
   "metadata": {},
   "outputs": [],
   "source": [
    "# your code here\n"
   ]
  },
  {
   "cell_type": "markdown",
   "id": "13",
   "metadata": {},
   "source": [
    "### Problem 2 - Coin Converter"
   ]
  },
  {
   "cell_type": "markdown",
   "id": "14",
   "metadata": {},
   "source": [
    "Write a Python program that converts a specified number of pennies into the equivalent number of each of the currency types indicated below. The program should:\n",
    "\n",
    "1. Accept user input for the number of pennies (integer)\n",
    "2. Calculate and display the number of:\n",
    "   - Dollars (\\$1.00)\n",
    "   - Quarters (\\$0.25)\n",
    "   - Dimes (\\$0.10)\n",
    "   - Nickels (\\$0.05)\n",
    "   - Pennies (\\$0.01)\n",
    "\n",
    "Use the integer division (`//`) and modulo (`%`) operators to accomplish this. We discussed the former in class. Where integer division returns only the integer portion, modulo returns the remainder. For example, `10 % 3 = 1` - ten divided by three is 3, with remainder 1. Together, you can use the \"floor\" and \"mod\" operators to perform unit decomposition problems like this one, where a single unit (like cents or seconds) is broken down into multiple, larger units (like quarters, dimes, nickels, and pennies; or hours, minutes, and seconds).\n",
    "\n",
    "You will need to use the `input`, `int`, and `print` functions to accomplish this.\n",
    "\n",
    "**Hint**: Start with the largest denomination and work down to the smallest."
   ]
  },
  {
   "cell_type": "markdown",
   "id": "15",
   "metadata": {},
   "source": [
    "#### Sample Input and Output"
   ]
  },
  {
   "cell_type": "markdown",
   "id": "16",
   "metadata": {},
   "source": [
    "For the input of 1742 cents, the output should be:\n",
    "\n",
    "```text\n",
    "17 dollar(s)\n",
    "1 quarter(s)\n",
    "1 dime(s)\n",
    "1 nickel(s)\n",
    "2 penny(ies)\n",
    "```\n",
    "\n",
    "Format your final output exactly as shown above."
   ]
  },
  {
   "cell_type": "markdown",
   "id": "17",
   "metadata": {},
   "source": [
    "#### Solution"
   ]
  },
  {
   "cell_type": "markdown",
   "id": "18",
   "metadata": {},
   "source": [
    "Write your solution in the code cell below."
   ]
  },
  {
   "cell_type": "code",
   "execution_count": null,
   "id": "19",
   "metadata": {},
   "outputs": [],
   "source": [
    "# your code here\n"
   ]
  },
  {
   "cell_type": "markdown",
   "id": "20",
   "metadata": {},
   "source": [
    "### Problem 3 - Distance Calculator"
   ]
  },
  {
   "cell_type": "markdown",
   "id": "21",
   "metadata": {},
   "source": [
    "Complete the provided template by replacing all ellipses (`...`) with the specified code, calculating the distance between two points and finding the midpoint. The resulting program should:\n",
    "\n",
    "1. Accept user input for two points (floats)\n",
    "   - Use the variable names `x1`, `y1` and `x2`, `y2`\n",
    "2. Calculate and display:\n",
    "   - The coordinates of both points\n",
    "   - The distance between the points\n",
    "   - The midpoint of the two points\n",
    "\n",
    "Use the Pythagorean Theorem to calculate the distance between the points:\n",
    "\n",
    "$$d = \\sqrt{(x_2 - x_1)^2 + (y_2 - y_1)^2}$$\n",
    "\n",
    "Your implementation of this must use `math.sqrt()` for full credit. Devise your own method to calculate the midpoint.\n",
    "\n",
    "All `print` statements must use *f-strings* (aka [formatted string literals](https://docs.python.org/3/tutorial/inputoutput.html#formatted-string-literals)), which allow you to include Python expressions inside a string. To use them, prepend the string with an `f` and enclose the expression in curly braces (`{}`). An optional *format specifier* can follow the expression using the syntax `{expression:format}`. For example:\n",
    "\n",
    "```python\n",
    "print(f'The value of pi is approximately {math.pi:.3f}.')\n",
    "```\n",
    "\n",
    "The output of which is: \"The value of pi is approximately 3.142.\" Here, the `.3f` format specifier tells Python to display the value of pi as a floating point number rounded to three decimal places. A slightly more involved example is provided in the template file. There the point coordinates are displayed inside parentheses, which would be difficult to achieve with other print formatting methods that we have discussed. Mimic the syntax of these examples to print the distance and midpoint coordinates to two decimal places.\n",
    "\n",
    "Additionally, you will need to use the `input`, `float`, and `print` functions, along with `import` to complete this problem."
   ]
  },
  {
   "cell_type": "markdown",
   "id": "22",
   "metadata": {},
   "source": [
    "#### Sample Input and Output"
   ]
  },
  {
   "cell_type": "markdown",
   "id": "23",
   "metadata": {},
   "source": [
    "For the input coordinates (1, 2) and (3, 4), the output should be:\n",
    "\n",
    "```text\n",
    "The points are located at (1.00, 2.00) and (3.00, 4.00)\n",
    "Distance between points: 2.83\n",
    "The midpoint is located at (2.00, 3.00)\n",
    "```\n",
    "\n",
    "Format your final output exactly as shown above."
   ]
  },
  {
   "cell_type": "markdown",
   "id": "24",
   "metadata": {},
   "source": [
    "#### Solution"
   ]
  },
  {
   "cell_type": "markdown",
   "id": "25",
   "metadata": {},
   "source": [
    "Write your solution in the code cell below."
   ]
  },
  {
   "cell_type": "code",
   "execution_count": null,
   "id": "26",
   "metadata": {},
   "outputs": [],
   "source": [
    "# your code here\n"
   ]
  },
  {
   "cell_type": "markdown",
   "id": "27",
   "metadata": {},
   "source": [
    "### Problem 4 - String Operations"
   ]
  },
  {
   "cell_type": "markdown",
   "id": "28",
   "metadata": {},
   "source": [
    "Write a Python program that processes user information using string operations and indexing. The program should:\n",
    "\n",
    "1. Accept user input for:\n",
    "   - A 10-digit phone number with dashes (string format: \"XXX-XXX-XXXX\")\n",
    "   - First name\n",
    "   - Last name\n",
    "   - A single digit integer for calculation\n",
    "2. Extract and display:\n",
    "   - Area code (first 3 digits) using string slicing\n",
    "   - Local number (last 4 digits) using negative indexing/slicing\n",
    "   - Exchange code (middle 3 digits) using slicing\n",
    "3. Format and display:\n",
    "   - User initials in uppercase\n",
    "   - Email address in the format: first initial + last name + \"@eng.edu\" (all lowercase)\n",
    "   - Formal name in the format: \"LASTNAME, F.\" where F is the first initial (uppercase)\n",
    "4. Calculate and display:\n",
    "   - The square and cube of the input digit using the power operator (`**`)\n",
    "   - A decorative border using string repetition (`*` operator) that is 40 characters long\n",
    "\n",
    "You will need to use string indexing, slicing, the `.upper()` and `.lower()` methods, string concatenation (`+`), string repetition (`*`), and the power operator (`**`). Include comments in your code explaining each major extraction or calculation step.\n",
    "\n",
    "**Hint**: Remember that negative indices count from the end of the string. The slice `s[start:end]` extracts characters from position `start` up to but not including position `end`."
   ]
  },
  {
   "cell_type": "markdown",
   "id": "29",
   "metadata": {},
   "source": [
    "#### Sample Input and Output"
   ]
  },
  {
   "cell_type": "markdown",
   "id": "30",
   "metadata": {},
   "source": [
    "For the input phone number \"555-123-4567\", first name \"John\", last name \"Smith\", and digit 3, the output should be:\n",
    "\n",
    "```text\n",
    "========================================\n",
    "Area code: 555\n",
    "Exchange: 123\n",
    "Local number: 4567\n",
    "Initials: JS\n",
    "Email: jsmith@eng.edu\n",
    "Formal name: SMITH, J.\n",
    "3 squared: 9\n",
    "3 cubed: 27\n",
    "========================================\n",
    "```\n",
    "\n",
    "Format your final output exactly as shown above."
   ]
  },
  {
   "cell_type": "markdown",
   "id": "31",
   "metadata": {},
   "source": [
    "#### Solution"
   ]
  },
  {
   "cell_type": "markdown",
   "id": "32",
   "metadata": {},
   "source": [
    "Write your solution in the code cell below."
   ]
  },
  {
   "cell_type": "code",
   "execution_count": null,
   "id": "33",
   "metadata": {},
   "outputs": [],
   "source": [
    "# your code here\n"
   ]
  }
 ],
 "metadata": {
  "kernelspec": {
   "display_name": "INSY3010-PySQL",
   "language": "python",
   "name": "insy3010-pysql"
  },
  "language_info": {
   "codemirror_mode": {
    "name": "ipython",
    "version": 3
   },
   "file_extension": ".py",
   "mimetype": "text/x-python",
   "name": "python",
   "nbconvert_exporter": "python",
   "pygments_lexer": "ipython3",
   "version": "3.13.5"
  }
 },
 "nbformat": 4,
 "nbformat_minor": 5
}
