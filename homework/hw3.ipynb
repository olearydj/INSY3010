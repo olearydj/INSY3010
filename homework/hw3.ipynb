{
 "cells": [
  {
   "cell_type": "markdown",
   "id": "0",
   "metadata": {
    "editable": true,
    "slideshow": {
     "slide_type": ""
    }
   },
   "source": [
    "# HW 3, INSY 3010, Fall 2025"
   ]
  },
  {
   "cell_type": "markdown",
   "id": "1",
   "metadata": {},
   "source": [
    "This is an individual assignment. Neither human nor AI collaboration is allowed.\n",
    "\n",
    "Complete the problems in the cells provided below. Submit the resulting `IPYNB` file on Canvas."
   ]
  },
  {
   "cell_type": "markdown",
   "id": "2",
   "metadata": {},
   "source": [
    "## Python Problems"
   ]
  },
  {
   "cell_type": "markdown",
   "id": "3",
   "metadata": {},
   "source": [
    "### Problem 1 - Shift Performance Analysis"
   ]
  },
  {
   "cell_type": "markdown",
   "id": "4",
   "metadata": {},
   "source": [
    "Write a function `analyze_shift` that calculates performance statistics for a production shift. The function should:\n",
    "\n",
    "1. Accept one parameter:\n",
    "   - `production_data`: a list of hourly production quantities (integers or floats)\n",
    "2. Calculate four statistics:\n",
    "   - Minimum hourly output\n",
    "   - Maximum hourly output\n",
    "   - Average hourly output (rounded to 1 decimal place)\n",
    "   - Range (difference between max and min)\n",
    "3. Return all four values as a tuple in the order: `(min, max, avg, range)`\n",
    "\n",
    "This type of analysis helps identify performance variations and potential issues during shifts."
   ]
  },
  {
   "cell_type": "markdown",
   "id": "5",
   "metadata": {},
   "source": [
    "#### Sample Input and Output"
   ]
  },
  {
   "cell_type": "code",
   "execution_count": null,
   "id": "6",
   "metadata": {},
   "outputs": [],
   "source": [
    "shift_output = [45, 52, 48, 55, 50, 47, 53, 49]\n",
    "result = analyze_shift(shift_output)\n",
    "print(result)  # (45, 55, 49.9, 10)\n",
    "\n",
    "shift_output = [100, 100, 100, 100]\n",
    "result = analyze_shift(shift_output)\n",
    "print(result)  # (100, 100, 100.0, 0)\n",
    "\n",
    "shift_output = [30, 45, 38, 52, 41]\n",
    "result = analyze_shift(shift_output)\n",
    "print(result)  # (30, 52, 41.2, 22)"
   ]
  },
  {
   "cell_type": "markdown",
   "id": "7",
   "metadata": {},
   "source": [
    "#### Your Code"
   ]
  },
  {
   "cell_type": "code",
   "execution_count": null,
   "id": "8",
   "metadata": {},
   "outputs": [],
   "source": [
    "# write your code here...\n"
   ]
  },
  {
   "cell_type": "markdown",
   "id": "9",
   "metadata": {},
   "source": [
    "#### Test Code"
   ]
  },
  {
   "cell_type": "markdown",
   "id": "10",
   "metadata": {},
   "source": [
    "Run your code with the sample inputs above, then run this code to check everything."
   ]
  },
  {
   "cell_type": "code",
   "execution_count": null,
   "id": "11",
   "metadata": {},
   "outputs": [],
   "source": [
    "try:\n",
    "    shift_output = [45, 52, 48, 55, 50, 47, 53, 49]\n",
    "    result = analyze_shift(shift_output)\n",
    "    \n",
    "    assert result == (45, 55, 49.9, 10), f\"Test 1 failed: expected (45, 55, 49.9, 10), got {result}\"\n",
    "    \n",
    "    shift_output = [100, 100, 100, 100]\n",
    "    result = analyze_shift(shift_output)\n",
    "    assert result == (100, 100, 100.0, 0), f\"Test 2 failed: expected (100, 100, 100.0, 0), got {result}\"\n",
    "    \n",
    "    shift_output = [30, 45, 38, 52, 41]\n",
    "    result = analyze_shift(shift_output)\n",
    "    assert result == (30, 52, 41.2, 22), f\"Test 3 failed: expected (30, 52, 41.2, 22), got {result}\"\n",
    "    \n",
    "    print(\"All tests passed! Your shift analysis is correct.\")\n",
    "except AssertionError as e:\n",
    "    print(f\"Test failed! {str(e)}\")\n",
    "except NameError as e:\n",
    "    print(f\"Test failed! Missing required function: {str(e).split()[1]}\")"
   ]
  },
  {
   "cell_type": "markdown",
   "id": "12",
   "metadata": {},
   "source": [
    "### Problem 2 - Sequence Overlap Checker"
   ]
  },
  {
   "cell_type": "markdown",
   "id": "13",
   "metadata": {},
   "source": [
    "Write a function `check_overlap` that determines if two sequences have sufficient overlap. The function should:\n",
    "\n",
    "1. Accept three parameters:\n",
    "   - `s1`: first sequence\n",
    "   - `s2`: second sequence\n",
    "   - `min_overlap`: minimum number of common elements required (default value: 1)\n",
    "2. Return `True` if the sequences have at least `min_overlap` elements in common, `False` otherwise\n",
    "\n",
    "This function is useful for quality control scenarios where you need to verify that different inspection samples share common defect types, or that production batches use overlapping materials.\n",
    "\n",
    "You will need to use set operations (intersection, union, etc.) and comparison operators. These were not covered in the lecture but are summarized below:\n",
    "\n",
    "- union (`|`) returns all elements from both sets: `{1,2} | {2,3}` → `{1,2,3}`\n",
    "- intersection (`&`) returns elements in both sets: `{1,2} & {2,3}` → `{2}`\n",
    "- difference (`-`) returns elements in first but not second: `{1,2} - {2,3}` → `{1}`\n",
    "- symmetric difference (`^`) returns elements in either but not both: `{1,2} ^ {2,3}` → `{1,3}`"
   ]
  },
  {
   "cell_type": "markdown",
   "id": "14",
   "metadata": {},
   "source": [
    "#### Sample Input and Output"
   ]
  },
  {
   "cell_type": "code",
   "execution_count": null,
   "id": "15",
   "metadata": {},
   "outputs": [],
   "source": [
    "batch_a = ['bolt', 'washer', 'nut', 'screw', 'rivet']\n",
    "batch_b = ['washer', 'nut', 'pin', 'clip']\n",
    "\n",
    "result = check_overlap(batch_a, batch_b)\n",
    "print(result)  # True (default min_overlap=1, they share 'washer' and 'nut')\n",
    "\n",
    "result = check_overlap(batch_a, batch_b, min_overlap=3)\n",
    "print(result)  # False (only 2 common elements, need 3)\n",
    "\n",
    "result = check_overlap(batch_a, batch_b, min_overlap=2)\n",
    "print(result)  # True (exactly 2 common elements)\n",
    "\n",
    "batch_c = {'valve', 'gasket', 'seal'}\n",
    "result = check_overlap(batch_a, batch_c)\n",
    "print(result)  # False (no overlap)"
   ]
  },
  {
   "cell_type": "markdown",
   "id": "16",
   "metadata": {},
   "source": [
    "#### Your Code"
   ]
  },
  {
   "cell_type": "markdown",
   "id": "17",
   "metadata": {},
   "source": [
    "Use the following function definition as-is. The parameter `min_overlap=1` allows the function to accept a value for `min_overlap` but, if one is not provided, it defaults to a value of 1."
   ]
  },
  {
   "cell_type": "code",
   "execution_count": null,
   "id": "18",
   "metadata": {},
   "outputs": [],
   "source": [
    "def check_overlap(s1, s2, min_overlap=1):\n",
    "    # write your code here"
   ]
  },
  {
   "cell_type": "markdown",
   "id": "19",
   "metadata": {},
   "source": [
    "#### Test Code\n",
    "\n",
    "Run your code with the sample inputs above, then run this code to check everything."
   ]
  },
  {
   "cell_type": "code",
   "execution_count": null,
   "id": "20",
   "metadata": {},
   "outputs": [],
   "source": [
    "try:\n",
    "    batch_a = ['bolt', 'washer', 'nut', 'screw', 'rivet']\n",
    "    batch_b = ['washer', 'nut', 'pin', 'clip']\n",
    "    batch_c = ['valve', 'gasket', 'seal']\n",
    "    \n",
    "    assert check_overlap(batch_a, batch_b) == True, \"Default overlap check failed\"\n",
    "    assert check_overlap(batch_a, batch_b, min_overlap=3) == False, \"min_overlap=3 check failed\"\n",
    "    assert check_overlap(batch_a, batch_b, min_overlap=2) == True, \"min_overlap=2 check failed\"\n",
    "    assert check_overlap(batch_a, batch_c) == False, \"No overlap check failed\"\n",
    "    assert check_overlap(batch_a, batch_c, min_overlap=0) == True, \"min_overlap=0 check failed\"\n",
    "    \n",
    "    print(\"All tests passed! Your overlap checker is correct.\")\n",
    "except AssertionError as e:\n",
    "    print(f\"Test failed! {str(e)}\")\n",
    "except NameError as e:\n",
    "    print(f\"Test failed! Missing required function: {str(e).split()[1]}\")"
   ]
  },
  {
   "cell_type": "markdown",
   "id": "21",
   "metadata": {},
   "source": [
    "### Problem 3 - Parse Production Log"
   ]
  },
  {
   "cell_type": "markdown",
   "id": "22",
   "metadata": {},
   "source": [
    "Write a function `parse_production_log` that processes production log data and builds a summary dictionary. The function should:\n",
    "\n",
    "1. Accept one parameter, `log_data`:\n",
    "   - a multi-line string\n",
    "   - each line contains: `timestamp|machine_id|units_produced`\n",
    "   - all lines are separated by newline characters (`\\n`)\n",
    "2. Build and return a dictionary where:\n",
    "   - Keys are machine IDs (strings)\n",
    "   - Values are total units produced by that machine (integers)\n",
    "3. Handle duplicate machine entries by adding to the existing total (avoid KeyError)\n",
    "\n",
    "This is a common data processing task when consolidating production data from multiple sources."
   ]
  },
  {
   "cell_type": "markdown",
   "id": "23",
   "metadata": {},
   "source": [
    "#### Sample Input and Output"
   ]
  },
  {
   "cell_type": "markdown",
   "id": "24",
   "metadata": {},
   "source": [
    "If `log_data` contains:\n",
    "\n",
    "```text\n",
    "08:00|M001|45\\n08:00|M002|52\\n09:00|M001|48\\n09:00|M003|50\\n10:00|M002|47\\n10:00|M001|43\n",
    "```\n",
    "\n",
    "Your function should return:\n",
    "\n",
    "```python\n",
    "{'M001': 136, 'M002': 99, 'M003': 50}\n",
    "```\n",
    "\n",
    "If it contains:\n",
    "\n",
    "```text\n",
    "14:00|LINE_A|120\\n14:00|LINE_B|115\\n15:00|LINE_A|118\n",
    "```\n",
    "\n",
    "Your function should return:\n",
    "\n",
    "```python\n",
    "{'LINE_A': 238, 'LINE_B': 115}\n",
    "```"
   ]
  },
  {
   "cell_type": "markdown",
   "id": "25",
   "metadata": {},
   "source": [
    "#### Your Code"
   ]
  },
  {
   "cell_type": "code",
   "execution_count": null,
   "id": "26",
   "metadata": {},
   "outputs": [],
   "source": [
    "# write your code here...\n"
   ]
  },
  {
   "cell_type": "markdown",
   "id": "27",
   "metadata": {},
   "source": [
    "#### Test Code"
   ]
  },
  {
   "cell_type": "markdown",
   "id": "28",
   "metadata": {},
   "source": [
    "Run your code with the sample inputs above, then run this code to check everything."
   ]
  },
  {
   "cell_type": "code",
   "execution_count": null,
   "id": "29",
   "metadata": {},
   "outputs": [],
   "source": [
    "try:\n",
    "    log_data_1 = \"\"\"08:00|M001|45\n",
    "08:00|M002|52\n",
    "09:00|M001|48\n",
    "09:00|M003|50\n",
    "10:00|M002|47\n",
    "10:00|M001|43\"\"\"\n",
    "    \n",
    "    result = parse_production_log(log_data_1)\n",
    "    expected = {'M001': 136, 'M002': 99, 'M003': 50}\n",
    "    assert result == expected, f\"Test 1 failed: expected {expected}, got {result}\"\n",
    "    \n",
    "    log_data_2 = \"\"\"14:00|LINE_A|120\n",
    "14:00|LINE_B|115\n",
    "15:00|LINE_A|118\"\"\"\n",
    "    \n",
    "    result = parse_production_log(log_data_2)\n",
    "    expected = {'LINE_A': 238, 'LINE_B': 115}\n",
    "    assert result == expected, f\"Test 2 failed: expected {expected}, got {result}\"\n",
    "    \n",
    "    print(\"All tests passed! Your log parser is correct.\")\n",
    "except AssertionError as e:\n",
    "    print(f\"Test failed! {str(e)}\")\n",
    "except NameError as e:\n",
    "    print(f\"Test failed! Missing required function: {str(e).split()[1]}\")"
   ]
  },
  {
   "cell_type": "markdown",
   "id": "30",
   "metadata": {},
   "source": [
    "### Problem 4 - Text File Analysis"
   ]
  },
  {
   "cell_type": "markdown",
   "id": "31",
   "metadata": {},
   "source": [
    "This problem extends the `count_words` exercise from lecture 10a.\n",
    "\n",
    "Write a function `analyze_text_file` that reads a text file and returns a dictionary of filtered word counts. The function should:\n",
    "\n",
    "1. Accept two parameters:\n",
    "   - `filename`: path to the text file\n",
    "   - `stop_words`: list of words to ignore (e.g., `['the', 'a', 'an', 'and']`)\n",
    "2. Create a dictionary of word counts. Count the occurrences of each word ignoring case, punctuation, and any stop word.\n",
    "3. Use try/except to catch `FileNotFoundError`:\n",
    "   - Print an error message: `\"Error: File 'filename' not found\"`\n",
    "   - Return `None`\n",
    "4. Use a context manager (`with` statement) when opening the file"
   ]
  },
  {
   "cell_type": "markdown",
   "id": "32",
   "metadata": {},
   "source": [
    "#### Sample Input and Output"
   ]
  },
  {
   "cell_type": "markdown",
   "id": "33",
   "metadata": {},
   "source": [
    "Given a file `sample.txt` containing:\n",
    "\n",
    "```text\n",
    "The quality of production depends on the quality of materials.\n",
    "Quality control ensures quality standards.\n",
    "```\n",
    "\n",
    "And the function call:\n",
    "\n",
    "```python\n",
    "stop_words = ['the', 'of', 'on']\n",
    "result = analyze_text_file('sample.txt', stop_words)\n",
    "print(result)\n",
    "```\n",
    "\n",
    "Should output:\n",
    "\n",
    "```python\n",
    "{'quality': 4, 'production': 1, 'depends': 1, 'materials': 1, 'control': 1, 'ensures': 1, 'standards': 1}\n",
    "```\n",
    "\n",
    "For a missing file:\n",
    "\n",
    "```python\n",
    "result = analyze_text_file('missing.txt', stop_words)\n",
    "# Prints: Error: File 'missing.txt' not found\n",
    "print(result)  # None\n",
    "```"
   ]
  },
  {
   "cell_type": "markdown",
   "id": "34",
   "metadata": {},
   "source": [
    "#### Your Code"
   ]
  },
  {
   "cell_type": "code",
   "execution_count": null,
   "id": "35",
   "metadata": {},
   "outputs": [],
   "source": [
    "import string\n",
    "# get a list of all punctuation marks: !\"#$%&'()*+,-./:;<=>?@[\\]^_`{|}~\n",
    "punctuation = string.punctuation\n",
    "\n",
    "# write your code here...\n"
   ]
  },
  {
   "cell_type": "markdown",
   "id": "36",
   "metadata": {},
   "source": [
    "#### Test Code"
   ]
  },
  {
   "cell_type": "markdown",
   "id": "37",
   "metadata": {},
   "source": [
    "First, run the following cell to create a test file:"
   ]
  },
  {
   "cell_type": "code",
   "execution_count": null,
   "id": "38",
   "metadata": {},
   "outputs": [],
   "source": [
    "# Create a test file for Problem 4\n",
    "test_content = \"\"\"The quality of production depends on the quality of materials.\n",
    "Quality control ensures quality standards.\"\"\"\n",
    "\n",
    "with open('test_problem4.txt', 'w') as f:\n",
    "    f.write(test_content)\n",
    "    \n",
    "print(\"Test file created: test_problem4.txt\")"
   ]
  },
  {
   "cell_type": "markdown",
   "id": "39",
   "metadata": {},
   "source": [
    "Now run your code, then run this test:"
   ]
  },
  {
   "cell_type": "code",
   "execution_count": null,
   "id": "40",
   "metadata": {},
   "outputs": [],
   "source": [
    "try:\n",
    "    stop_words = ['the', 'of', 'on']\n",
    "    result = analyze_text_file('test_problem4.txt', stop_words)\n",
    "    \n",
    "    expected = {'quality': 4, 'production': 1, 'depends': 1, 'materials': 1, \n",
    "                'control': 1, 'ensures': 1, 'standards': 1}\n",
    "    \n",
    "    assert result == expected, f\"Word count mismatch: expected {expected}, got {result}\"\n",
    "    \n",
    "    # Test missing file\n",
    "    result = analyze_text_file('nonexistent_file.txt', stop_words)\n",
    "    assert result is None, \"Missing file should return None\"\n",
    "    \n",
    "    print(\"All tests passed! Your text analyzer is correct.\")\n",
    "except AssertionError as e:\n",
    "    print(f\"Test failed! {str(e)}\")\n",
    "except NameError as e:\n",
    "    print(f\"Test failed! Missing required function: {str(e).split()[1]}\")"
   ]
  },
  {
   "cell_type": "markdown",
   "id": "41",
   "metadata": {},
   "source": [
    "### Problem 5 - Price Table Management"
   ]
  },
  {
   "cell_type": "markdown",
   "id": "42",
   "metadata": {},
   "source": [
    "This problem has three parts that work together to reshape data and export it to a file. You'll write two generic utility functions (Parts A and B), then use them in a specialized price management function (Part C)."
   ]
  },
  {
   "cell_type": "markdown",
   "id": "43",
   "metadata": {},
   "source": [
    "#### Part A - Reshape Data"
   ]
  },
  {
   "cell_type": "markdown",
   "id": "44",
   "metadata": {},
   "source": [
    "Write a function `reshape_data` that converts a flat sequence into a nested list structure. The function should:\n",
    "\n",
    "1. Accept two parameters:\n",
    "   - `data`: a flat sequence (list or tuple) of numeric values\n",
    "   - `width`: number of columns per row\n",
    "2. Create a list of lists with the specified width\n",
    "3. Return the nested list, or `None` if the data length is not divisible by width\n",
    "4. If returning `None`, do NOT print an error message (Part C will handle that)\n",
    "\n",
    "This is a generic utility function that can reshape data into any table width.\n",
    "\n",
    "**Examples:**\n",
    "\n",
    "```python\n",
    "# Example 1: Reshape into 3 columns\n",
    "prices = [10.00, 15.50, 20.00, 25.50, 30.00, 12.75]\n",
    "result = reshape_data(prices, 3)\n",
    "print(result)  \n",
    "# [[10.00, 15.50, 20.00], [25.50, 30.00, 12.75]]\n",
    "\n",
    "# Example 2: Reshape into 2 columns\n",
    "prices = [10.00, 15.50, 20.00, 25.50]\n",
    "result = reshape_data(prices, 2)\n",
    "print(result)\n",
    "# [[10.00, 15.50], [20.00, 25.50]]\n",
    "\n",
    "# Example 3: Incompatible length\n",
    "prices = [10.00, 15.50, 20.00, 25.50]\n",
    "result = reshape_data(prices, 3)\n",
    "print(result)  # None (length 4 not divisible by 3)\n",
    "```"
   ]
  },
  {
   "cell_type": "markdown",
   "id": "45",
   "metadata": {},
   "source": [
    "#### Part B - Write Price Table"
   ]
  },
  {
   "cell_type": "markdown",
   "id": "46",
   "metadata": {},
   "source": [
    "Write a function `write_price_table` that exports nested price data to a formatted text file. The function should:\n",
    "\n",
    "1. Accept two parameters:\n",
    "   - `nested_data`: list of lists containing numeric values\n",
    "   - `filename`: output file path\n",
    "2. Write the data to the file with values:\n",
    "   - Formatted to 2 decimal places\n",
    "   - Separated by tab characters (`\\t`)\n",
    "   - Each row on a new line\n",
    "3. Use a context manager (`with` statement) when opening the file\n",
    "4. Return `True` if successful, `False` if an error occurs\n",
    "\n",
    "This is a generic utility function that can write any nested structure to a file.\n",
    "\n",
    "**Example:**\n",
    "\n",
    "```python\n",
    "prices = [[11.0, 17.05, 22.0], [28.05, 33.0, 14.03]]\n",
    "success = write_price_table(prices, 'output.txt')\n",
    "print(success)  # True\n",
    "\n",
    "# File contents:\n",
    "# 11.00\t17.05\t22.00\n",
    "# 28.05\t33.00\t14.03\n",
    "```"
   ]
  },
  {
   "cell_type": "markdown",
   "id": "47",
   "metadata": {},
   "source": [
    "#### Part C - Apply Price Increase"
   ]
  },
  {
   "attachments": {},
   "cell_type": "markdown",
   "id": "48",
   "metadata": {},
   "source": [
    "Write a function `apply_price_increase` that applies a percentage increase to price data formatted as 5-column tables. The function should:\n",
    "\n",
    "1. Accept two parameters:\n",
    "   - `data`: either a flat sequence OR a list of lists containing numeric values\n",
    "   - `percent`: percentage increase to apply (e.g., 10 for 10%)\n",
    "2. Check if `data` is already nested (2-dimensional):\n",
    "   - If the first element is a list, data is already nested\n",
    "   - If not, call `reshape_data(data, 5)` to reshape it into 5 columns\n",
    "3. If reshaping is needed but fails (returns `None`):\n",
    "   - Print: `\"Error: Data length must be divisible by 5\"`\n",
    "   - Return `None`\n",
    "4. Apply the percentage increase to all values in the nested structure\n",
    "5. Round all values to 2 decimal places\n",
    "6. Return a new list of lists with the adjusted values\n",
    "\n",
    "This function is specific to 5-column price tables and uses the generic `reshape_data` helper function.\n",
    "\n",
    "**Examples:**\n",
    "\n",
    "```python\n",
    "# Example 1: Already nested data (5 columns)\n",
    "nested_prices = [[10.00, 15.50, 20.00, 25.50, 30.00], [12.75, 18.25, 22.50, 28.00, 35.75]]\n",
    "result = apply_price_increase(nested_prices, 10)\n",
    "print(result)\n",
    "# [[11.0, 17.05, 22.0, 28.05, 33.0], [14.03, 20.08, 24.75, 30.8, 39.33]]\n",
    "\n",
    "# Example 2: Flat data (will reshape to 5 columns automatically)\n",
    "flat_prices = [10.00, 15.50, 20.00, 25.50, 30.00, 12.75, 18.25, 22.50, 28.00, 35.75]\n",
    "result = apply_price_increase(flat_prices, 10)\n",
    "print(result)\n",
    "# [[11.0, 17.05, 22.0, 28.05, 33.0], [14.03, 20.08, 24.75, 30.8, 39.33]]\n",
    "\n",
    "# Example 3: Flat data with incompatible length\n",
    "flat_prices = [10.00, 15.50, 20.00]  # length 3, not divisible by 5\n",
    "result = apply_price_increase(flat_prices, 10)\n",
    "# Prints: Error: Data length must be divisible by 5\n",
    "print(result)  # None\n",
    "```"
   ]
  },
  {
   "cell_type": "markdown",
   "id": "49",
   "metadata": {},
   "source": [
    "#### Combined Usage Example\n",
    "\n",
    "Here's how all three functions work together:\n",
    "\n",
    "```python\n",
    "# Start with flat price data (10 values = 2 rows × 5 columns)\n",
    "raw_prices = [10.00, 15.50, 20.00, 25.50, 30.00, 12.75, 18.25, 22.50, 28.00, 35.75]\n",
    "\n",
    "# Apply 10% increase (automatically reshapes to 5 columns)\n",
    "adjusted_prices = apply_price_increase(raw_prices, 10)\n",
    "\n",
    "# Export to file\n",
    "if adjusted_prices is not None:\n",
    "    success = write_price_table(adjusted_prices, 'price_update.txt')\n",
    "    if success:\n",
    "        print(\"Price update exported successfully!\")\n",
    "```\n",
    "\n",
    "You can also use / test the functions independently:\n",
    "\n",
    "```python\n",
    "# Reshape data into a custom width (3 columns)\n",
    "data = [100, 200, 300, 400, 500, 600]\n",
    "table = reshape_data(data, 3)\n",
    "print(table)  # [[100, 200, 300], [400, 500, 600]]\n",
    "\n",
    "# Write any nested data to a file\n",
    "write_price_table(table, 'custom_table.txt')\n",
    "```"
   ]
  },
  {
   "cell_type": "markdown",
   "id": "50",
   "metadata": {},
   "source": [
    "#### Your Code"
   ]
  },
  {
   "cell_type": "code",
   "execution_count": null,
   "id": "51",
   "metadata": {},
   "outputs": [],
   "source": [
    "# write all three functions here\n"
   ]
  },
  {
   "cell_type": "markdown",
   "id": "52",
   "metadata": {},
   "source": [
    "#### Test Code"
   ]
  },
  {
   "cell_type": "markdown",
   "id": "53",
   "metadata": {},
   "source": [
    "Run your code for all three parts, then run this test:"
   ]
  },
  {
   "cell_type": "code",
   "execution_count": null,
   "id": "54",
   "metadata": {},
   "outputs": [],
   "source": [
    "try:\n",
    "    # Test Part A - reshape_data\n",
    "    prices = [10.00, 15.50, 20.00, 25.50, 30.00, 12.75]\n",
    "    result = reshape_data(prices, 3)\n",
    "    expected = [[10.00, 15.50, 20.00], [25.50, 30.00, 12.75]]\n",
    "    assert result == expected, f\"Part A Test 1 failed: expected {expected}, got {result}\"\n",
    "    \n",
    "    prices = [10.00, 15.50, 20.00, 25.50]\n",
    "    result = reshape_data(prices, 2)\n",
    "    expected = [[10.00, 15.50], [20.00, 25.50]]\n",
    "    assert result == expected, f\"Part A Test 2 failed: expected {expected}, got {result}\"\n",
    "    \n",
    "    prices = [10.00, 15.50, 20.00, 25.50]\n",
    "    result = reshape_data(prices, 3)\n",
    "    assert result is None, \"Part A Test 3 failed: incompatible length should return None\"\n",
    "    \n",
    "    # Test Part B - write_price_table\n",
    "    test_data = [[11.0, 17.05, 22.0], [28.05, 33.0, 14.03]]\n",
    "    success = write_price_table(test_data, 'test_output.txt')\n",
    "    assert success == True, \"Part B Test 1 failed: write should return True\"\n",
    "    \n",
    "    # Verify file contents\n",
    "    with open('test_output.txt', 'r') as f:\n",
    "        lines = f.readlines()\n",
    "    assert len(lines) == 2, f\"Part B Test 2 failed: expected 2 lines, got {len(lines)}\"\n",
    "    assert lines[0].strip() == \"11.00\\t17.05\\t22.00\", f\"Part B Test 3 failed: first line incorrect\"\n",
    "    assert lines[1].strip() == \"28.05\\t33.00\\t14.03\", f\"Part B Test 4 failed: second line incorrect\"\n",
    "    \n",
    "    # Test Part C - apply_price_increase with nested data (5 columns)\n",
    "    nested_prices = [[10.00, 15.50, 20.00, 25.50, 30.00], [12.75, 18.25, 22.50, 28.00, 35.75]]\n",
    "    result = apply_price_increase(nested_prices, 10)\n",
    "    expected = [[11.0, 17.05, 22.0, 28.05, 33.0], [14.03, 20.08, 24.75, 30.8, 39.33]]\n",
    "    assert result == expected, f\"Part C Test 1 failed: expected {expected}, got {result}\"\n",
    "    \n",
    "    # Test Part C with flat data (10 values divisible by 5)\n",
    "    flat_prices = [10.00, 15.50, 20.00, 25.50, 30.00, 12.75, 18.25, 22.50, 28.00, 35.75]\n",
    "    result = apply_price_increase(flat_prices, 10)\n",
    "    expected = [[11.0, 17.05, 22.0, 28.05, 33.0], [14.03, 20.08, 24.75, 30.8, 39.33]]\n",
    "    assert result == expected, f\"Part C Test 2 failed: expected {expected}, got {result}\"\n",
    "    \n",
    "    # Test Part C with incompatible flat data (not divisible by 5)\n",
    "    flat_prices = [10.00, 15.50, 20.00]\n",
    "    result = apply_price_increase(flat_prices, 10)\n",
    "    assert result is None, \"Part C Test 3 failed: incompatible length should return None\"\n",
    "    \n",
    "    print(\"All tests passed! Your price table manager is correct.\")\n",
    "    \n",
    "except AssertionError as e:\n",
    "    print(f\"Test failed! {str(e)}\")\n",
    "except NameError as e:\n",
    "    print(f\"Test failed! Missing required function: {str(e).split()[1]}\")\n",
    "except Exception as e:\n",
    "    print(f\"Unexpected error: {str(e)}\")"
   ]
  },
  {
   "cell_type": "code",
   "execution_count": null,
   "id": "55",
   "metadata": {},
   "outputs": [],
   "source": []
  }
 ],
 "metadata": {
  "jupytext": {
   "default_lexer": "ipython"
  },
  "kernelspec": {
   "display_name": "Python 3 (ipykernel)",
   "language": "python",
   "name": "python3"
  },
  "language_info": {
   "codemirror_mode": {
    "name": "ipython",
    "version": 3
   },
   "file_extension": ".py",
   "mimetype": "text/x-python",
   "name": "python",
   "nbconvert_exporter": "python",
   "pygments_lexer": "ipython3",
   "version": "3.13.5"
  }
 },
 "nbformat": 4,
 "nbformat_minor": 5
}
