{
 "cells": [
  {
   "cell_type": "markdown",
   "id": "0",
   "metadata": {},
   "source": [
    "# Test 1, Part 2\n",
    "\n",
    "**INSY 3010, Fall 2025**"
   ]
  },
  {
   "cell_type": "markdown",
   "id": "1",
   "metadata": {},
   "source": [
    "This assignment serves as a replacement for the in-class administration of Test 1, Part 2.\n",
    "\n",
    "It is open book but no other collaboration - human or otherwise - is allowed. There is no time limit but I ask that you keep track of the time spent on it, and record an approximate number as directed at the end of the exam."
   ]
  },
  {
   "cell_type": "markdown",
   "id": "2",
   "metadata": {},
   "source": [
    "## Problem 1 - Time Converter"
   ]
  },
  {
   "cell_type": "markdown",
   "id": "3",
   "metadata": {},
   "source": [
    "Write Python code that gets a time duration in seconds (integer) from the user. Use this exact prompt when getting input:\n",
    "\n",
    "```\n",
    "Enter seconds:\n",
    "```\n",
    "\n",
    "Convert the input to hours, minutes, and seconds using floor division (`//`) and modulo (`%`) operators. Print each component on a separate line as shown below.\n",
    "\n",
    "Your output should be formatted exactly as shown in the example.\n",
    "\n",
    "You should assume all user input is valid."
   ]
  },
  {
   "cell_type": "markdown",
   "id": "4",
   "metadata": {},
   "source": [
    "### Example"
   ]
  },
  {
   "cell_type": "markdown",
   "id": "5",
   "metadata": {},
   "source": [
    "Sample input and output:\n",
    "\n",
    "```text\n",
    "Enter seconds: 3725\n",
    "Hours: 1\n",
    "Minutes: 2\n",
    "Seconds: 5\n",
    "```"
   ]
  },
  {
   "cell_type": "markdown",
   "id": "6",
   "metadata": {},
   "source": [
    "### Your Submission"
   ]
  },
  {
   "cell_type": "markdown",
   "id": "7",
   "metadata": {},
   "source": [
    "Write your code in the following cell."
   ]
  },
  {
   "cell_type": "code",
   "execution_count": null,
   "id": "8",
   "metadata": {},
   "outputs": [],
   "source": [
    "# enter code below and run the cell to test your submission"
   ]
  },
  {
   "cell_type": "markdown",
   "id": "9",
   "metadata": {},
   "source": [
    "## Problem 2 - Date Parser"
   ]
  },
  {
   "cell_type": "markdown",
   "id": "10",
   "metadata": {},
   "source": [
    "Write Python code that gets a date in YYYY-MM-DD format (8 digits plus hyphens) from the user. Use this exact prompt when getting input:\n",
    "\n",
    "```\n",
    "Enter date (YYYY-MM-DD):\n",
    "```\n",
    "\n",
    "Use string subsetting (i.e., `[]` syntax, not `split`) to extract and print the components exactly as shown in the example.\n",
    "\n",
    "You should assume all user input matches the specified format."
   ]
  },
  {
   "cell_type": "markdown",
   "id": "11",
   "metadata": {},
   "source": [
    "### Example"
   ]
  },
  {
   "cell_type": "markdown",
   "id": "12",
   "metadata": {},
   "source": [
    "Sample input and output:\n",
    "\n",
    "```text\n",
    "Enter date (YYYY-MM-DD): 2025-10-15\n",
    "Year: 2025\n",
    "Month: 10\n",
    "Day: 15\n",
    "Formatted: 10/15/2025\n",
    "```"
   ]
  },
  {
   "cell_type": "markdown",
   "id": "13",
   "metadata": {},
   "source": [
    "### Your Submission"
   ]
  },
  {
   "cell_type": "markdown",
   "id": "14",
   "metadata": {},
   "source": [
    "Write your code in the following cell."
   ]
  },
  {
   "cell_type": "code",
   "execution_count": null,
   "id": "15",
   "metadata": {},
   "outputs": [],
   "source": [
    "# enter code below and run the cell to test your submission"
   ]
  },
  {
   "cell_type": "markdown",
   "id": "16",
   "metadata": {},
   "source": [
    "## Problem 3 - Countdown Sequence"
   ]
  },
  {
   "cell_type": "markdown",
   "id": "17",
   "metadata": {},
   "source": [
    "Write Python code that uses a `for` loop and `range` object to count down from 10 to 1. For each number:\n",
    "\n",
    "- If the number is 1, print `1... Liftoff!`\n",
    "- If the number is even, print the number followed by a comma and space (`, `)\n",
    "- If the number is odd (but not 1), print the number followed by three periods and a space (`... `)\n",
    "\n",
    "Do not print a newline after each number - all output should be on one line."
   ]
  },
  {
   "cell_type": "markdown",
   "id": "18",
   "metadata": {},
   "source": [
    "### Example"
   ]
  },
  {
   "cell_type": "markdown",
   "id": "19",
   "metadata": {},
   "source": [
    "Your output should look exactly like this:\n",
    "\n",
    "```text\n",
    "10, 9... 8, 7... 6, 5... 4, 3... 2, 1... Liftoff!\n",
    "```"
   ]
  },
  {
   "cell_type": "markdown",
   "id": "20",
   "metadata": {},
   "source": [
    "### Your Solution"
   ]
  },
  {
   "cell_type": "markdown",
   "id": "21",
   "metadata": {},
   "source": [
    "Write your code in the following cell."
   ]
  },
  {
   "cell_type": "code",
   "execution_count": null,
   "id": "22",
   "metadata": {},
   "outputs": [],
   "source": [
    "# enter code below and run the cell to test your submission"
   ]
  },
  {
   "cell_type": "markdown",
   "id": "23",
   "metadata": {},
   "source": [
    "## Problem 4 - Debug: Number Entry\n",
    "\n",
    "The following Python code is intended to:\n",
    "\n",
    "- repeatedly get integer inputs from the user\n",
    "- continue until the user enters `end` (case insensitive)\n",
    "- build a list of values equal to one-half any positive number entered\n",
    "- output the following:\n",
    "  - the list of calculated values\n",
    "  - the total count of all integers entered\n",
    "  - the average of the calculated values\n",
    "\n",
    "Its output should be formatted exactly as shown in the example. You should assume that all numeric inputs are integers.\n",
    "\n",
    "Here is the buggy code, as originally provided, in case you need to reference it again:\n",
    "\n",
    "```python\n",
    "# buggy code: collect and process integers\n",
    "count = 0\n",
    "\n",
    "while True:\n",
    "    user = int(input(\"Enter a number: \"))\n",
    "    if user.lower() = \"end\":\n",
    "        stop\n",
    "    count += 1\n",
    "    if user > 0:\n",
    "        result.append[user / 2]\n",
    "\n",
    "print(\"Resulting list:\", result)\n",
    "print(\"Count:\", count)\n",
    "print(\"Average:\", sum(result) / count(result))\n",
    "```\n",
    "\n",
    "There are several bugs in the code. Correct all of them so it runs as intended."
   ]
  },
  {
   "cell_type": "markdown",
   "id": "24",
   "metadata": {},
   "source": [
    "### Example\n",
    "\n",
    "Sample input and output for correctly implemented code:\n",
    "\n",
    "```text\n",
    "Enter a number: 15\n",
    "Enter a number: -3\n",
    "Enter a number: 0\n",
    "Enter a number: 22\n",
    "Enter a number: 8\n",
    "Enter a number: -10\n",
    "Enter a number: 30\n",
    "Enter a number: End\n",
    "Resulting list: [7.5, 11.0, 4.0, 15.0]\n",
    "Count: 7\n",
    "Average: 9.375\n",
    "```"
   ]
  },
  {
   "cell_type": "markdown",
   "id": "25",
   "metadata": {},
   "source": [
    "### Your Solution"
   ]
  },
  {
   "cell_type": "markdown",
   "id": "26",
   "metadata": {},
   "source": [
    "Correct the following code."
   ]
  },
  {
   "cell_type": "code",
   "execution_count": null,
   "id": "27",
   "metadata": {},
   "outputs": [],
   "source": [
    "# buggy code: collect and process integers\n",
    "count = 0\n",
    "\n",
    "while True:\n",
    "    user = int(input(\"Enter a number: \"))\n",
    "    if user.lower() = \"end\":\n",
    "        stop\n",
    "    count += 1\n",
    "    if user > 0:\n",
    "        result.append[user / 2]\n",
    "\n",
    "print(\"Resulting list:\", result)\n",
    "print(\"Count:\", count)\n",
    "print(\"Average:\", sum(result) / count(result))"
   ]
  },
  {
   "cell_type": "markdown",
   "id": "28",
   "metadata": {},
   "source": [
    "## Time Taken\n",
    "\n",
    "Please record the approximate amount of time you spent on this exam in the cell below."
   ]
  },
  {
   "cell_type": "markdown",
   "id": "29",
   "metadata": {},
   "source": [
    "> I took __________________________"
   ]
  }
 ],
 "metadata": {
  "kernelspec": {
   "display_name": "INSY3010-PySQL",
   "language": "python",
   "name": "insy3010-pysql"
  },
  "language_info": {
   "codemirror_mode": {
    "name": "ipython",
    "version": 3
   },
   "file_extension": ".py",
   "mimetype": "text/x-python",
   "name": "python",
   "nbconvert_exporter": "python",
   "pygments_lexer": "ipython3",
   "version": "3.13.5"
  }
 },
 "nbformat": 4,
 "nbformat_minor": 5
}
